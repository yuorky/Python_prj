{
 "cells": [
  {
   "cell_type": "markdown",
   "metadata": {},
   "source": [
    "\n",
    "\n",
    "This project is designed for seperating fluoroscence and non fluoroscence retinal deposits (presumed amyloid deposits). The main goal is to predict the existance of fluoroscence signal using statistics from polarimetry microscope, allowing amyloid deposits to be detected without the use of a dye.\n",
    "\n",
    "14 polarization metrics values are considered as input features, 3 machine learning classifiers: LDA, SVM and Random forest have been tested.\n",
    "\n",
    "We used 3 methods to deal with data imblance:\n",
    "1. Adding Fluo_Negative_Cross_Negative data by selecting retinal area near deposits\n",
    "2. ADASYN algorithm\n",
    "3. BoardlineSMOTE\n",
    "\n",
    "\n",
    "Author: Yunyi Qiu\n",
    "Co-author: Tao Jin\n",
    "Data provided by: Dr.Melanie Campbell's Lab"
   ]
  },
  {
   "cell_type": "markdown",
   "metadata": {},
   "source": [
    "# Import Data and Basic preparation "
   ]
  },
  {
   "cell_type": "code",
   "execution_count": 104,
   "metadata": {},
   "outputs": [],
   "source": [
    "import numpy as np\n",
    "import pandas as pd\n",
    "import matplotlib.pyplot as plt\n",
    "from scipy.io import loadmat\n",
    "import os\n",
    "from math import pi\n",
    "\n",
    "# Set precision\n",
    "pd.options.display.max_columns = None\n",
    "pd.options.display.max_rows = None\n",
    "np.set_printoptions(precision=5)\n",
    "\n",
    "pd.options.display.precision = 5\n",
    "pd.set_option('precision',5)\n",
    "\n",
    "axis_font = {'fontname':'Calibri', 'size':20, 'weight':'bold'}"
   ]
  },
  {
   "cell_type": "code",
   "execution_count": 2,
   "metadata": {},
   "outputs": [],
   "source": [
    "datapath = os.getcwd() + \"\\\\data\\\\dbt_m.csv\"\n",
    "df = pd.read_csv(datapath)"
   ]
  },
  {
   "cell_type": "code",
   "execution_count": 3,
   "metadata": {},
   "outputs": [],
   "source": [
    "# Adjust some values in the table\n",
    "# The Q metric\n",
    "df[[\"Q_metric_Background_Mean\", \"Q_metric_Background_Std\", \"Q_metric_Deposit_Mean\", \"Q_metric_Deposit_Std\", \n",
    "    \"Q_metric_Full_Mean\", \"Q_metric_Full_Std\"]] = \\\n",
    "df[[\"Q_metric_Background_Mean\", \"Q_metric_Background_Std\", \"Q_metric_Deposit_Mean\", \"Q_metric_Deposit_Std\", \n",
    "    \"Q_metric_Full_Mean\", \"Q_metric_Full_Std\"]].divide(3) \n",
    "\n",
    "# The Linear retardance\n",
    "df[[\"Retardance_Lin_Background_Mean\",\"Retardance_Lin_Background_Std\", \n",
    "    \"Retardance_Lin_Deposit_Mean\", \"Retardance_Lin_Deposit_Std\", \n",
    "    \"Retardance_Lin_Full_Mean\", \"Retardance_Lin_Full_Std\"]] = \\\n",
    "df[[\"Retardance_Lin_Background_Mean\",\"Retardance_Lin_Background_Std\", \n",
    "    \"Retardance_Lin_Deposit_Mean\", \"Retardance_Lin_Deposit_Std\", \n",
    "    \"Retardance_Lin_Full_Mean\", \"Retardance_Lin_Full_Std\"]].divide(180)\n",
    "\n",
    "# The Circular retardance, Circular diattenuation , Circular polarizance\n",
    "df[[\"Retardance_Circ_Background_Mean\", \"Retardance_Circ_Background_Std\", \n",
    "    \"Retardance_Circ_Deposit_Mean\", \"Retardance_Circ_Deposit_Std\",\n",
    "    \"Retardance_Circ_Full_Mean\", \"Retardance_Circ_Full_Std\"]] = \\\n",
    "(df[[\"Retardance_Circ_Background_Mean\", \"Retardance_Circ_Background_Std\", \n",
    "    \"Retardance_Circ_Deposit_Mean\", \"Retardance_Circ_Deposit_Std\",\n",
    "    \"Retardance_Circ_Full_Mean\", \"Retardance_Circ_Full_Std\"]]+ 180).divide(360)\n",
    "\n",
    "# The Circular diattenuation\n",
    "df[[\"Diattenuation_Circ_Background_Mean\", \"Diattenuation_Circ_Background_Std\", \n",
    "    \"Diattenuation_Circ_Deposit_Mean\", \"Diattenuation_Circ_Deposit_Std\",\n",
    "    \"Diattenuation_Circ_Full_Mean\", \"Diattenuation_Circ_Full_Std\"]] = \\\n",
    "(df[[\"Diattenuation_Circ_Background_Mean\", \"Diattenuation_Circ_Background_Std\", \n",
    "    \"Diattenuation_Circ_Deposit_Mean\", \"Diattenuation_Circ_Deposit_Std\",\n",
    "    \"Diattenuation_Circ_Full_Mean\", \"Diattenuation_Circ_Full_Std\"]]+ 1).divide(2)\n",
    "\n",
    "# The Circular polarizance\n",
    "df[[\"Polarizance_Circ_Background_Mean\", \"Polarizance_Circ_Background_Std\", \n",
    "    \"Polarizance_Circ_Deposit_Mean\", \"Polarizance_Circ_Deposit_Std\",\n",
    "    \"Polarizance_Circ_Full_Mean\", \"Polarizance_Circ_Full_Std\"]] = \\\n",
    "(df[[\"Polarizance_Circ_Background_Mean\", \"Polarizance_Circ_Background_Std\", \n",
    "     \"Polarizance_Circ_Deposit_Mean\", \"Polarizance_Circ_Deposit_Std\",\n",
    "     \"Polarizance_Circ_Full_Mean\", \"Polarizance_Circ_Full_Std\"]]+ 1).divide(2)\n",
    "\n",
    "# The MMT parameters\n",
    "df[[\"A_metric_Background_Mean\", \"A_metric_Background_Std\",\n",
    "    \"A_metric_Deposit_Mean\", \"A_metric_Deposit_Std\"]] = \\\n",
    "(df[[\"A_metric_Background_Mean\", \"A_metric_Background_Std\",\n",
    "    \"A_metric_Deposit_Mean\", \"A_metric_Deposit_Std\"]] + 1).divide(2)\n",
    "\n",
    "df[[\"t_metric_Background_Mean\", \"t_metric_Background_Std\",\n",
    "    \"t_metric_Deposit_Mean\", \"t_metric_Deposit_Std\"]] = \\\n",
    "(df[[\"t_metric_Background_Mean\", \"t_metric_Background_Std\",\n",
    "    \"t_metric_Deposit_Mean\", \"t_metric_Deposit_Std\"]] + 1).divide(2)\n",
    "\n",
    "df[[\"x_metric_Background_Mean\", \"x_metric_Background_Std\",\n",
    "    \"x_metric_Deposit_Mean\", \"x_metric_Deposit_Std\"]] = \\\n",
    "(df[[\"x_metric_Background_Mean\", \"x_metric_Background_Std\",\n",
    "    \"x_metric_Deposit_Mean\", \"x_metric_Deposit_Std\"]] + pi/4).divide(pi/2)"
   ]
  },
  {
   "cell_type": "markdown",
   "metadata": {},
   "source": [
    "## Prepare data and labels"
   ]
  },
  {
   "cell_type": "code",
   "execution_count": 4,
   "metadata": {},
   "outputs": [],
   "source": [
    "df_label = df[[\"RegionFolder\", \"Subject\", \"FluoroSignal\", \"CrossedSignal\"]]"
   ]
  },
  {
   "cell_type": "code",
   "execution_count": 5,
   "metadata": {},
   "outputs": [
    {
     "name": "stdout",
     "output_type": "stream",
     "text": [
      "  Number of each class \n",
      "  Fluo_Positive_Cross_Positive: 789\n",
      "  Fluo_Positive_Cross_Negative: 20\n",
      "  Fluo_Negative_Cross_Positive: 131\n",
      "  Fluo_Negative_Cross_Negative: 7\n",
      "\n"
     ]
    }
   ],
   "source": [
    "# Statistics of the number \n",
    "print(\"  Number of each class \\n\"\n",
    "      \"  Fluo_Positive_Cross_Positive: \" + str(sum(np.multiply(df_label[\"FluoroSignal\"], df_label[\"CrossedSignal\"]))) + \"\\n\" + \n",
    "      \"  Fluo_Positive_Cross_Negative: \" + str(sum(np.multiply(df_label[\"FluoroSignal\"] == 1, df_label[\"CrossedSignal\"] == 0))) + \"\\n\"+\n",
    "      \"  Fluo_Negative_Cross_Positive: \" + str(sum(np.multiply(df_label[\"FluoroSignal\"] == 0, df_label[\"CrossedSignal\"] == 1))) + \"\\n\"+\n",
    "      \"  Fluo_Negative_Cross_Negative: \" + str(sum(np.multiply(df_label[\"FluoroSignal\"] == 0, df_label[\"CrossedSignal\"] == 0))) + \"\\n\"\n",
    "     )"
   ]
  },
  {
   "cell_type": "code",
   "execution_count": 6,
   "metadata": {},
   "outputs": [],
   "source": [
    "# df for background\n",
    "\n",
    "dfb = df[[\"RegionFolder\", \"Subject\",\n",
    "          \"Depolarization_Power_Background_Mean\", \"Depolarization_Power_Background_Std\", \n",
    "          \"Q_metric_Background_Mean\", \"Q_metric_Background_Std\",\n",
    "          \"Anisotropy_Lin_Background_Mean\", \"Anisotropy_Lin_Background_Std\",\n",
    "          \"Anisotropy_Circ_Background_Mean\", \"Anisotropy_Circ_Background_Std\",\n",
    "          \"Polarizance_Lin_Background_Mean\", \"Polarizance_Lin_Background_Std\",\n",
    "          \"Polarizance_Circ_Background_Mean\", \"Polarizance_Circ_Background_Std\",\n",
    "          \"Diattenuation_Lin_Background_Mean\", \"Diattenuation_Lin_Background_Std\",\n",
    "          \"Diattenuation_Circ_Background_Mean\", \"Diattenuation_Circ_Background_Std\",\n",
    "          \"Retardance_Lin_Background_Mean\", \"Retardance_Lin_Background_Std\",\n",
    "          \"Retardance_Circ_Background_Mean\", \"Retardance_Circ_Background_Std\",\n",
    "          \"A_metric_Background_Mean\", \"A_metric_Background_Std\",\n",
    "          \"b_metric_Background_Mean\", \"b_metric_Background_Std\",\n",
    "          \"t_metric_Background_Mean\", \"t_metric_Background_Std\",\n",
    "          \"x_metric_Background_Mean\", \"x_metric_Background_Std\",\n",
    "          \"FluoroSignal\", \"CrossedSignal\"\n",
    "        ]]\n",
    "\n",
    "dfb.set_index([\"RegionFolder\", \"Subject\"], inplace=True)"
   ]
  },
  {
   "cell_type": "code",
   "execution_count": 7,
   "metadata": {},
   "outputs": [],
   "source": [
    "# df for deposits\n",
    "\n",
    "dfd = df[[\"RegionFolder\", \"Subject\",\n",
    "          \"Depolarization_Power_Deposit_Mean\", \"Depolarization_Power_Deposit_Std\", \n",
    "          \"Q_metric_Deposit_Mean\", \"Q_metric_Deposit_Std\",\n",
    "          \"Anisotropy_Lin_Deposit_Mean\", \"Anisotropy_Lin_Deposit_Std\",\n",
    "          \"Anisotropy_Circ_Deposit_Mean\", \"Anisotropy_Circ_Deposit_Std\",\n",
    "          \"Polarizance_Lin_Deposit_Mean\", \"Polarizance_Lin_Deposit_Std\",\n",
    "          \"Polarizance_Circ_Deposit_Mean\", \"Polarizance_Circ_Deposit_Std\",\n",
    "          \"Diattenuation_Lin_Deposit_Mean\", \"Diattenuation_Lin_Deposit_Std\",\n",
    "          \"Diattenuation_Circ_Deposit_Mean\", \"Diattenuation_Circ_Deposit_Std\",\n",
    "          \"Retardance_Lin_Deposit_Mean\", \"Retardance_Lin_Deposit_Std\",\n",
    "          \"Retardance_Circ_Deposit_Mean\", \"Retardance_Circ_Deposit_Std\",\n",
    "          \"A_metric_Deposit_Mean\", \"A_metric_Deposit_Std\",\n",
    "          \"b_metric_Deposit_Mean\", \"b_metric_Deposit_Std\",\n",
    "          \"t_metric_Deposit_Mean\", \"t_metric_Deposit_Std\",\n",
    "          \"x_metric_Deposit_Mean\", \"x_metric_Deposit_Std\",\n",
    "          \"FluoroSignal\", \"CrossedSignal\"\n",
    "        ]]\n",
    "dfd.set_index([\"RegionFolder\", \"Subject\"], inplace=True)"
   ]
  },
  {
   "cell_type": "markdown",
   "metadata": {},
   "source": [
    "# Training using Scikit learn "
   ]
  },
  {
   "cell_type": "code",
   "execution_count": 9,
   "metadata": {},
   "outputs": [],
   "source": [
    "# import basic fucntions\n",
    "from sklearn.model_selection import train_test_split\n",
    "from sklearn import preprocessing\n",
    "from sklearn import pipeline\n",
    "from sklearn.metrics import accuracy_score, precision_score, recall_score, confusion_matrix, roc_auc_score, roc_curve\n",
    "from sklearn.model_selection import cross_val_score, RandomizedSearchCV, GridSearchCV\n",
    "from imblearn.over_sampling import ADASYN\n",
    "from imblearn.over_sampling import BorderlineSMOTE\n",
    "# Train lda, support vector machine, random forest\n",
    "from sklearn import svm\n",
    "from scipy.stats import randint as sp_randint\n",
    "from sklearn.ensemble import RandomForestClassifier\n",
    "from sklearn.discriminant_analysis import LinearDiscriminantAnalysis as lda"
   ]
  },
  {
   "cell_type": "markdown",
   "metadata": {},
   "source": [
    "## Prepare data"
   ]
  },
  {
   "cell_type": "code",
   "execution_count": 209,
   "metadata": {},
   "outputs": [],
   "source": [
    "# select data_preparation scheme\n",
    "def data_preparation_scheme(s_num,random_seed):\n",
    "    if s_num == 1: # train with background data\n",
    "        dfct = dfd[dfd[\"CrossedSignal\"]==1].copy()\n",
    "        \n",
    "        df_b = dfb.sample(n=658, random_state=42)\n",
    "        \n",
    "        oldname = [\"Depolarization_Power_Background_Mean\", \"Depolarization_Power_Background_Std\", \n",
    "                   \"Q_metric_Background_Mean\", \"Q_metric_Background_Std\",\n",
    "                   \"Anisotropy_Lin_Background_Mean\", \"Anisotropy_Lin_Background_Std\",\n",
    "                   \"Anisotropy_Circ_Background_Mean\", \"Anisotropy_Circ_Background_Std\",\n",
    "                   \"Polarizance_Lin_Background_Mean\", \"Polarizance_Lin_Background_Std\",\n",
    "                   \"Polarizance_Circ_Background_Mean\", \"Polarizance_Circ_Background_Std\",\n",
    "                   \"Diattenuation_Lin_Background_Mean\", \"Diattenuation_Lin_Background_Std\",\n",
    "                   \"Diattenuation_Circ_Background_Mean\", \"Diattenuation_Circ_Background_Std\",\n",
    "                   \"Retardance_Lin_Background_Mean\", \"Retardance_Lin_Background_Std\",\n",
    "                   \"Retardance_Circ_Background_Mean\", \"Retardance_Circ_Background_Std\",\n",
    "                   \"A_metric_Background_Mean\", \"A_metric_Background_Std\",\n",
    "                   \"b_metric_Background_Mean\", \"b_metric_Background_Std\",\n",
    "                   \"t_metric_Background_Mean\", \"t_metric_Background_Std\",\n",
    "                   \"x_metric_Background_Mean\", \"x_metric_Background_Std\",\n",
    "                   \"FluoroSignal\", \"CrossedSignal\"]\n",
    "        \n",
    "        newname = [\"Depolarization_Power_Deposit_Mean\", \"Depolarization_Power_Deposit_Std\", \n",
    "                   \"Q_metric_Deposit_Mean\", \"Q_metric_Deposit_Std\",\n",
    "                   \"Anisotropy_Lin_Deposit_Mean\", \"Anisotropy_Lin_Deposit_Std\",\n",
    "                   \"Anisotropy_Circ_Deposit_Mean\", \"Anisotropy_Circ_Deposit_Std\",\n",
    "                   \"Polarizance_Lin_Deposit_Mean\", \"Polarizance_Lin_Deposit_Std\",\n",
    "                   \"Polarizance_Circ_Deposit_Mean\", \"Polarizance_Circ_Deposit_Std\",\n",
    "                   \"Diattenuation_Lin_Deposit_Mean\", \"Diattenuation_Lin_Deposit_Std\",\n",
    "                   \"Diattenuation_Circ_Deposit_Mean\", \"Diattenuation_Circ_Deposit_Std\",\n",
    "                   \"Retardance_Lin_Deposit_Mean\", \"Retardance_Lin_Deposit_Std\",\n",
    "                   \"Retardance_Circ_Deposit_Mean\", \"Retardance_Circ_Deposit_Std\",\n",
    "                   \"A_metric_Deposit_Mean\", \"A_metric_Deposit_Std\",\n",
    "                   \"b_metric_Deposit_Mean\", \"b_metric_Deposit_Std\",\n",
    "                   \"t_metric_Deposit_Mean\", \"t_metric_Deposit_Std\",\n",
    "                   \"x_metric_Deposit_Mean\", \"x_metric_Deposit_Std\",\n",
    "                   \"FluoroSignal\", \"CrossedSignal\"]\n",
    "        \n",
    "        namedict = {oldname[i]: newname[i] for i in range(len(oldname))}\n",
    "        \n",
    "        df_b.rename(columns = namedict, inplace=True)\n",
    "        df_b[\"FluoroSignal\"] = np.zeros(df_b.shape[0], dtype=np.int32)\n",
    "        df_b[\"CrossedSignal\"] = np.zeros(df_b.shape[0], dtype=np.int32)\n",
    "        df_r = pd.concat([dfct,df_b])\n",
    "        \n",
    "        # prepare data and the labels\n",
    "        X_r = df_r.values[:,0:(df_r.shape[1]-2)]\n",
    "        y = df_r[\"FluoroSignal\"].values\n",
    "        \n",
    "        # Standardized X\n",
    "        scaler = preprocessing.StandardScaler().fit(X_r)\n",
    "        X = scaler.transform(X_r)\n",
    "        # Split train set and test set\n",
    "        X_train, X_test, y_train, y_test = train_test_split(X,y, test_size=0.2, random_state=random_seed)\n",
    "        return X_train, X_test, y_train, y_test\n",
    "    \n",
    "    if s_num == 2: # train with ADASYN algorithm\n",
    "        dfct = dfd[dfd[\"CrossedSignal\"]==1].copy()\n",
    "        metric_data = dfct.values[:,0:(dfct.shape[1]-2)]\n",
    "        metric_label = dfct[\"FluoroSignal\"].values\n",
    "        \n",
    "        ada = ADASYN(random_state=42)\n",
    "        [ada_data, ada_label] = ada.fit_resample(metric_data,metric_label)\n",
    "        \n",
    "        scaler = preprocessing.StandardScaler().fit(ada_data)\n",
    "        ada_data_ = scaler.transform(ada_data)\n",
    "        \n",
    "        X_ada_train, X_ada_test, y_ada_train, y_ada_test = train_test_split(ada_data_, ada_label, test_size=0.2, random_state=random_seed)\n",
    "        return X_ada_train, X_ada_test, y_ada_train, y_ada_test\n",
    "    \n",
    "    if s_num == 3: # train using borderlineSMOTE\n",
    "        dfct = dfd[dfd[\"CrossedSignal\"]==1].copy()\n",
    "        metric_data = dfct.values[:,0:(dfct.shape[1]-2)]\n",
    "        metric_label = dfct[\"FluoroSignal\"].values\n",
    "        \n",
    "        BS = BorderlineSMOTE(random_state=42)\n",
    "        [bs_data, bs_label] = BS.fit_resample(metric_data, metric_label)\n",
    "        \n",
    "        scaler = preprocessing.StandardScaler().fit(bs_data)\n",
    "        bs_data_ = scaler.transform(bs_data)\n",
    "        \n",
    "        X_bs_train, X_bs_test, y_bs_train, y_bs_test = train_test_split(bs_data_, bs_label, test_size=0.2, random_state=random_seed)\n",
    "        return X_bs_train, X_bs_test, y_bs_train, y_bs_test\n",
    "    \n",
    "    if s_num == 4: # train without oversampling strategy\n",
    "        dfct = dfd[dfd[\"CrossedSignal\"]==1].copy()\n",
    "        metric_data = dfct.values[:,0:(dfct.shape[1]-2)]\n",
    "        metric_label = dfct[\"FluoroSignal\"].values\n",
    "        \n",
    "        X_metric_train, X_metric_test, y_metric_train, y_metric_test = train_test_split(metric_data, metric_label, test_size=0.2, random_state=random_seed)\n",
    "        return X_metric_train, X_metric_test, y_metric_train, y_metric_test"
   ]
  },
  {
   "cell_type": "markdown",
   "metadata": {},
   "source": [
    "## Support vector machine "
   ]
  },
  {
   "cell_type": "code",
   "execution_count": 239,
   "metadata": {},
   "outputs": [],
   "source": [
    "def train_svm(data_train, label_train):\n",
    "    wdict_svm = {0: 1, 1: 1}\n",
    "    clf_svm = svm.SVC(class_weight=wdict_svm,probability=True)\n",
    "    # optimize the parameters\n",
    "    param_dist = {\"kernel\": [\"rbf\", \"poly\",'sigmoid'], \n",
    "                  \"degree\": [1, 2, 3],\n",
    "                  \"gamma\": [0.001, 0.01, 0.1], \n",
    "                  \"shrinking\": [True, False]\n",
    "                  }\n",
    "    n_iter_search = 50\n",
    "    rs_svm = RandomizedSearchCV(clf_svm, param_distributions=param_dist,\n",
    "                                      n_iter=n_iter_search, cv=10, n_jobs=-1)\n",
    "    # train\n",
    "    rs_svm.fit(data_train, label_train)\n",
    "    return rs_svm"
   ]
  },
  {
   "cell_type": "markdown",
   "metadata": {},
   "source": [
    "## Linear discriminant analysis"
   ]
  },
  {
   "cell_type": "code",
   "execution_count": 13,
   "metadata": {},
   "outputs": [],
   "source": [
    "def train_lda(data_train,label_train):\n",
    "    clf_lda = lda(store_covariance=True)\n",
    "    \n",
    "    # train\n",
    "    clf_lda.fit(data_train,label_train)\n",
    "    lda_cv_score = cross_val_score(clf_lda, data_train, label_train, cv=10, scoring=\"accuracy\")\n",
    "    return clf_lda, lda_cv_score"
   ]
  },
  {
   "cell_type": "markdown",
   "metadata": {},
   "source": [
    "## Random forest "
   ]
  },
  {
   "cell_type": "code",
   "execution_count": 222,
   "metadata": {},
   "outputs": [],
   "source": [
    "def train_rf(data_train, label_train, std=False):\n",
    "    wdict_rf = {0: 1, 1: 1}\n",
    "    clf_rf = RandomForestClassifier(n_jobs=-1)\n",
    "    param_dist = {\"n_estimators\": sp_randint(100, 1000),\n",
    "                  \"bootstrap\": [True, False],\n",
    "                  \"max_features\": sp_randint(1, 6) if std else sp_randint(1,4),\n",
    "                  \"min_samples_split\": sp_randint(2,3),\n",
    "                  \"criterion\": [\"gini\", \"entropy\"]}\n",
    "    n_iter_search = 100\n",
    "    rs_rf = RandomizedSearchCV(clf_rf, param_distributions=param_dist,\n",
    "                                      n_iter=n_iter_search, cv=10, n_jobs=-1)    \n",
    "\n",
    "\n",
    "    \n",
    "    # train\n",
    "    rs_rf.fit(data_train, label_train)\n",
    "    return rs_rf"
   ]
  },
  {
   "cell_type": "code",
   "execution_count": 76,
   "metadata": {},
   "outputs": [],
   "source": [
    "def train_rf(data_train, label_train, std=False):\n",
    "    \n",
    "    wdict_rf = {0: 1, 1: 1}\n",
    "    clf_rf = RandomForestClassifier(n_jobs=-1,n_estimators=221,max_features=4,criterion=\"entropy\",min_samples_split=2)\n",
    "    param_dist = {\"bootstrap\": [True, False]}\n",
    "    n_iter_search = 2\n",
    "    rs_rf = RandomizedSearchCV(clf_rf, param_distributions=param_dist,\n",
    "                                      n_iter=n_iter_search, cv=10, n_jobs=-1)\n",
    "\n",
    "\n",
    "    \n",
    "    # train\n",
    "    rs_rf.fit(data_train, label_train)\n",
    "    return rs_rf"
   ]
  },
  {
   "cell_type": "markdown",
   "metadata": {},
   "source": [
    "## Other function"
   ]
  },
  {
   "cell_type": "code",
   "execution_count": 15,
   "metadata": {},
   "outputs": [],
   "source": [
    "# Define a function for inputing stats from classifier to dataframe\n",
    "def metric_scores(m_clf,mname, truevalt, predictvalt,LDA=False,lda_cv_score=None):\n",
    "    \n",
    "    trueval = truevalt.copy()\n",
    "    predictval = predictvalt.copy()\n",
    "    accuracy = accuracy_score(trueval, predictval)\n",
    "    precision = precision_score(trueval, predictval)\n",
    "    recall = recall_score(trueval, predictval)\n",
    "    specificity = recall_score(trueval, predictval, pos_label=0)\n",
    "    # CV score of the best_estimator\n",
    "    cvscore = np.mean(lda_cv_score) if LDA else m_clf.best_score_\n",
    "        \n",
    "    df_scores = pd.DataFrame({\"Method\": mname, \"Accuracy\": [accuracy], \"Precision\": [precision], \"Sensitivity (Recall)\": [recall], \n",
    "                              \"Specificity\": [specificity], \"Mean accuracy\": [cvscore]})\n",
    "    return df_scores\n",
    "\n",
    "def train_models(X_train_in, X_test_in, y_train_in, y_test_in,std=False):  \n",
    "    df_result = pd.DataFrame({\"Method\": [], \"Accuracy\": [], \"Precision\": [], \"Sensitivity (Recall)\": [], \n",
    "                              \"Specificity\": [], \"Mean accuracy\": []})\n",
    "    # lda\n",
    "    rs_lda_t,lda_cv_score = train_lda(X_train_in, y_train_in)\n",
    "    y_lda_predict = rs_lda_t.predict(X_test_in)\n",
    "    df_temp1 = metric_scores(rs_lda_t, \"LDA\", y_test_in, y_lda_predict,LDA=True,lda_cv_score=lda_cv_score)\n",
    "    df_result = df_result.append(df_temp1)\n",
    "    \n",
    "    # svm\n",
    "    rs_svm_t = train_svm(X_train_in, y_train_in)\n",
    "    y_svm_predict = rs_svm_t.predict(X_test_in)\n",
    "    df_temp2 = metric_scores(rs_svm_t, \"SVM\", y_test_in, y_svm_predict)\n",
    "    df_result = df_result.append(df_temp2)\n",
    "    # rf\n",
    "    rs_rf_t = train_rf(X_train_in, y_train_in,std=std)\n",
    "    y_rf_predict = rs_rf_t.predict(X_test_in)    \n",
    "    df_temp3 = metric_scores(rs_rf_t, \"RF\", y_test_in, y_rf_predict)\n",
    "    df_result = df_result.append(df_temp3)\n",
    "    return df_result, rs_lda_t, y_lda_predict, rs_svm_t, y_svm_predict, rs_rf_t, y_rf_predict\n",
    "\n",
    "def fimportance_dataframe(name, score):\n",
    "    feature_importance_table = pd.DataFrame({\"Metric\": [], \"Importance in percentage\":[]})\n",
    "    for name, score in zip(name,score):\n",
    "        feature_importance_add = pd.DataFrame({\"Metric\": name, \"Importance in percentage\":[score]})\n",
    "        feature_importance_table = feature_importance_table.append(feature_importance_add)\n",
    "    \n",
    "    feature_importance_table = feature_importance_table[['Metric','Importance in percentage']]\n",
    "    feature_importance_table = feature_importance_table.sort_values('Importance in percentage', ascending=False)\n",
    "    \n",
    "    return feature_importance_table"
   ]
  },
  {
   "cell_type": "markdown",
   "metadata": {},
   "source": [
    "# Results "
   ]
  },
  {
   "cell_type": "markdown",
   "metadata": {},
   "source": [
    "## Using background data "
   ]
  },
  {
   "cell_type": "markdown",
   "metadata": {},
   "source": [
    "The 1st test"
   ]
  },
  {
   "cell_type": "code",
   "execution_count": 357,
   "metadata": {},
   "outputs": [],
   "source": [
    "X_train_1, X_test_1, y_train_1, y_test_1 = data_preparation_scheme(s_num=1)\n",
    "\n",
    "b_result_1, b_lda_model_1, b_lda_pred_val_1, b_svm_model_1, b_svm_pred_val_1, b_rf_model_1, b_rf_pred_val_1 = \\\n",
    "                                                train_models(X_train_1, X_test_1, y_train_1,y_test_1)"
   ]
  },
  {
   "cell_type": "code",
   "execution_count": 54,
   "metadata": {
    "scrolled": false
   },
   "outputs": [
    {
     "data": {
      "text/html": [
       "<div>\n",
       "<style scoped>\n",
       "    .dataframe tbody tr th:only-of-type {\n",
       "        vertical-align: middle;\n",
       "    }\n",
       "\n",
       "    .dataframe tbody tr th {\n",
       "        vertical-align: top;\n",
       "    }\n",
       "\n",
       "    .dataframe thead th {\n",
       "        text-align: right;\n",
       "    }\n",
       "</style>\n",
       "<table border=\"1\" class=\"dataframe\">\n",
       "  <thead>\n",
       "    <tr style=\"text-align: right;\">\n",
       "      <th></th>\n",
       "      <th>Accuracy</th>\n",
       "      <th>Mean accuracy</th>\n",
       "      <th>Precision</th>\n",
       "      <th>Sensitivity (Recall)</th>\n",
       "      <th>Specificity</th>\n",
       "    </tr>\n",
       "    <tr>\n",
       "      <th>Method</th>\n",
       "      <th></th>\n",
       "      <th></th>\n",
       "      <th></th>\n",
       "      <th></th>\n",
       "      <th></th>\n",
       "    </tr>\n",
       "  </thead>\n",
       "  <tbody>\n",
       "    <tr>\n",
       "      <th>LDA</th>\n",
       "      <td>0.93038</td>\n",
       "      <td>0.90964</td>\n",
       "      <td>0.93605</td>\n",
       "      <td>0.93605</td>\n",
       "      <td>0.92361</td>\n",
       "    </tr>\n",
       "    <tr>\n",
       "      <th>SVM</th>\n",
       "      <td>0.93671</td>\n",
       "      <td>0.92235</td>\n",
       "      <td>0.93182</td>\n",
       "      <td>0.95349</td>\n",
       "      <td>0.91667</td>\n",
       "    </tr>\n",
       "    <tr>\n",
       "      <th>RF</th>\n",
       "      <td>0.93987</td>\n",
       "      <td>0.93502</td>\n",
       "      <td>0.92737</td>\n",
       "      <td>0.96512</td>\n",
       "      <td>0.90972</td>\n",
       "    </tr>\n",
       "  </tbody>\n",
       "</table>\n",
       "</div>"
      ],
      "text/plain": [
       "        Accuracy  Mean accuracy  Precision  Sensitivity (Recall)  Specificity\n",
       "Method                                                                       \n",
       "LDA      0.93038        0.90964    0.93605               0.93605      0.92361\n",
       "SVM      0.93671        0.92235    0.93182               0.95349      0.91667\n",
       "RF       0.93987        0.93502    0.92737               0.96512      0.90972"
      ]
     },
     "execution_count": 54,
     "metadata": {},
     "output_type": "execute_result"
    }
   ],
   "source": [
    "b_result_1.set_index([\"Method\"], inplace=True)\n",
    "b_result_1 "
   ]
  },
  {
   "cell_type": "code",
   "execution_count": 59,
   "metadata": {
    "scrolled": true
   },
   "outputs": [
    {
     "data": {
      "text/plain": [
       "{'bootstrap': True,\n",
       " 'criterion': 'gini',\n",
       " 'max_depth': 9,\n",
       " 'max_features': 4,\n",
       " 'min_samples_split': 5,\n",
       " 'n_estimators': 161}"
      ]
     },
     "execution_count": 59,
     "metadata": {},
     "output_type": "execute_result"
    }
   ],
   "source": [
    "b_rf_model_1.best_params_"
   ]
  },
  {
   "cell_type": "code",
   "execution_count": 84,
   "metadata": {
    "scrolled": true
   },
   "outputs": [
    {
     "data": {
      "text/html": [
       "<div>\n",
       "<style scoped>\n",
       "    .dataframe tbody tr th:only-of-type {\n",
       "        vertical-align: middle;\n",
       "    }\n",
       "\n",
       "    .dataframe tbody tr th {\n",
       "        vertical-align: top;\n",
       "    }\n",
       "\n",
       "    .dataframe thead th {\n",
       "        text-align: right;\n",
       "    }\n",
       "</style>\n",
       "<table border=\"1\" class=\"dataframe\">\n",
       "  <thead>\n",
       "    <tr style=\"text-align: right;\">\n",
       "      <th></th>\n",
       "      <th>Importance in percentage</th>\n",
       "    </tr>\n",
       "    <tr>\n",
       "      <th>Metric</th>\n",
       "      <th></th>\n",
       "    </tr>\n",
       "  </thead>\n",
       "  <tbody>\n",
       "    <tr>\n",
       "      <th>Retardance_Lin_Deposit_Std</th>\n",
       "      <td>0.35419</td>\n",
       "    </tr>\n",
       "    <tr>\n",
       "      <th>Anisotropy_Lin_Deposit_Std</th>\n",
       "      <td>0.22956</td>\n",
       "    </tr>\n",
       "    <tr>\n",
       "      <th>Retardance_Lin_Deposit_Mean</th>\n",
       "      <td>0.11460</td>\n",
       "    </tr>\n",
       "    <tr>\n",
       "      <th>Anisotropy_Lin_Deposit_Mean</th>\n",
       "      <td>0.04970</td>\n",
       "    </tr>\n",
       "    <tr>\n",
       "      <th>Q_metric_Deposit_Mean</th>\n",
       "      <td>0.02464</td>\n",
       "    </tr>\n",
       "    <tr>\n",
       "      <th>x_metric_Deposit_Mean</th>\n",
       "      <td>0.01750</td>\n",
       "    </tr>\n",
       "    <tr>\n",
       "      <th>b_metric_Deposit_Std</th>\n",
       "      <td>0.01487</td>\n",
       "    </tr>\n",
       "    <tr>\n",
       "      <th>Diattenuation_Circ_Deposit_Std</th>\n",
       "      <td>0.01384</td>\n",
       "    </tr>\n",
       "    <tr>\n",
       "      <th>Polarizance_Circ_Deposit_Std</th>\n",
       "      <td>0.01295</td>\n",
       "    </tr>\n",
       "    <tr>\n",
       "      <th>Q_metric_Deposit_Std</th>\n",
       "      <td>0.01294</td>\n",
       "    </tr>\n",
       "    <tr>\n",
       "      <th>Depolarization_Power_Deposit_Mean</th>\n",
       "      <td>0.01172</td>\n",
       "    </tr>\n",
       "    <tr>\n",
       "      <th>Depolarization_Power_Deposit_Std</th>\n",
       "      <td>0.01154</td>\n",
       "    </tr>\n",
       "    <tr>\n",
       "      <th>t_metric_Deposit_Std</th>\n",
       "      <td>0.01149</td>\n",
       "    </tr>\n",
       "    <tr>\n",
       "      <th>Diattenuation_Circ_Deposit_Mean</th>\n",
       "      <td>0.01106</td>\n",
       "    </tr>\n",
       "    <tr>\n",
       "      <th>Diattenuation_Lin_Deposit_Std</th>\n",
       "      <td>0.01024</td>\n",
       "    </tr>\n",
       "    <tr>\n",
       "      <th>Polarizance_Circ_Deposit_Mean</th>\n",
       "      <td>0.01021</td>\n",
       "    </tr>\n",
       "    <tr>\n",
       "      <th>x_metric_Deposit_Std</th>\n",
       "      <td>0.00917</td>\n",
       "    </tr>\n",
       "    <tr>\n",
       "      <th>Retardance_Circ_Deposit_Std</th>\n",
       "      <td>0.00917</td>\n",
       "    </tr>\n",
       "    <tr>\n",
       "      <th>A_metric_Deposit_Std</th>\n",
       "      <td>0.00858</td>\n",
       "    </tr>\n",
       "    <tr>\n",
       "      <th>Diattenuation_Lin_Deposit_Mean</th>\n",
       "      <td>0.00836</td>\n",
       "    </tr>\n",
       "    <tr>\n",
       "      <th>Polarizance_Lin_Deposit_Mean</th>\n",
       "      <td>0.00811</td>\n",
       "    </tr>\n",
       "    <tr>\n",
       "      <th>Retardance_Circ_Deposit_Mean</th>\n",
       "      <td>0.00777</td>\n",
       "    </tr>\n",
       "    <tr>\n",
       "      <th>b_metric_Deposit_Mean</th>\n",
       "      <td>0.00761</td>\n",
       "    </tr>\n",
       "    <tr>\n",
       "      <th>Polarizance_Lin_Deposit_Std</th>\n",
       "      <td>0.00709</td>\n",
       "    </tr>\n",
       "    <tr>\n",
       "      <th>Anisotropy_Circ_Deposit_Std</th>\n",
       "      <td>0.00628</td>\n",
       "    </tr>\n",
       "    <tr>\n",
       "      <th>A_metric_Deposit_Mean</th>\n",
       "      <td>0.00598</td>\n",
       "    </tr>\n",
       "    <tr>\n",
       "      <th>t_metric_Deposit_Mean</th>\n",
       "      <td>0.00588</td>\n",
       "    </tr>\n",
       "    <tr>\n",
       "      <th>Anisotropy_Circ_Deposit_Mean</th>\n",
       "      <td>0.00493</td>\n",
       "    </tr>\n",
       "  </tbody>\n",
       "</table>\n",
       "</div>"
      ],
      "text/plain": [
       "                                   Importance in percentage\n",
       "Metric                                                     \n",
       "Retardance_Lin_Deposit_Std                          0.35419\n",
       "Anisotropy_Lin_Deposit_Std                          0.22956\n",
       "Retardance_Lin_Deposit_Mean                         0.11460\n",
       "Anisotropy_Lin_Deposit_Mean                         0.04970\n",
       "Q_metric_Deposit_Mean                               0.02464\n",
       "x_metric_Deposit_Mean                               0.01750\n",
       "b_metric_Deposit_Std                                0.01487\n",
       "Diattenuation_Circ_Deposit_Std                      0.01384\n",
       "Polarizance_Circ_Deposit_Std                        0.01295\n",
       "Q_metric_Deposit_Std                                0.01294\n",
       "Depolarization_Power_Deposit_Mean                   0.01172\n",
       "Depolarization_Power_Deposit_Std                    0.01154\n",
       "t_metric_Deposit_Std                                0.01149\n",
       "Diattenuation_Circ_Deposit_Mean                     0.01106\n",
       "Diattenuation_Lin_Deposit_Std                       0.01024\n",
       "Polarizance_Circ_Deposit_Mean                       0.01021\n",
       "x_metric_Deposit_Std                                0.00917\n",
       "Retardance_Circ_Deposit_Std                         0.00917\n",
       "A_metric_Deposit_Std                                0.00858\n",
       "Diattenuation_Lin_Deposit_Mean                      0.00836\n",
       "Polarizance_Lin_Deposit_Mean                        0.00811\n",
       "Retardance_Circ_Deposit_Mean                        0.00777\n",
       "b_metric_Deposit_Mean                               0.00761\n",
       "Polarizance_Lin_Deposit_Std                         0.00709\n",
       "Anisotropy_Circ_Deposit_Std                         0.00628\n",
       "A_metric_Deposit_Mean                               0.00598\n",
       "t_metric_Deposit_Mean                               0.00588\n",
       "Anisotropy_Circ_Deposit_Mean                        0.00493"
      ]
     },
     "execution_count": 84,
     "metadata": {},
     "output_type": "execute_result"
    }
   ],
   "source": [
    "feature_names = list(dfd.columns[0:-2].values)\n",
    "feature_names_1 = feature_names[:28]\n",
    "\n",
    "feature_importance_1 = b_rf_model_1.best_estimator_.feature_importances_\n",
    "importance_table_1 = fimportance_dataframe(feature_names_1,feature_importance_1)\n",
    "\n",
    "\n",
    "importance_table_1.set_index([\"Metric\"])"
   ]
  },
  {
   "cell_type": "markdown",
   "metadata": {},
   "source": [
    "The 2nd test"
   ]
  },
  {
   "cell_type": "code",
   "execution_count": 39,
   "metadata": {},
   "outputs": [],
   "source": [
    "X_train_2, X_test_2, y_train_2, y_test_2 = data_preparation_scheme(s_num=1)\n",
    "\n",
    "b_result_2, b_lda_model_2, b_lda_pred_val_2, b_svm_model_2, b_svm_pred_val_2, b_rf_model_2, b_rf_pred_val_2 = \\\n",
    "                                                train_models(X_train_2, X_test_2, y_train_2,y_test_2)"
   ]
  },
  {
   "cell_type": "code",
   "execution_count": 40,
   "metadata": {
    "scrolled": false
   },
   "outputs": [
    {
     "data": {
      "text/html": [
       "<div>\n",
       "<style scoped>\n",
       "    .dataframe tbody tr th:only-of-type {\n",
       "        vertical-align: middle;\n",
       "    }\n",
       "\n",
       "    .dataframe tbody tr th {\n",
       "        vertical-align: top;\n",
       "    }\n",
       "\n",
       "    .dataframe thead th {\n",
       "        text-align: right;\n",
       "    }\n",
       "</style>\n",
       "<table border=\"1\" class=\"dataframe\">\n",
       "  <thead>\n",
       "    <tr style=\"text-align: right;\">\n",
       "      <th></th>\n",
       "      <th>Accuracy</th>\n",
       "      <th>Mean accuracy</th>\n",
       "      <th>Precision</th>\n",
       "      <th>Sensitivity (Recall)</th>\n",
       "      <th>Specificity</th>\n",
       "    </tr>\n",
       "    <tr>\n",
       "      <th>Method</th>\n",
       "      <th></th>\n",
       "      <th></th>\n",
       "      <th></th>\n",
       "      <th></th>\n",
       "      <th></th>\n",
       "    </tr>\n",
       "  </thead>\n",
       "  <tbody>\n",
       "    <tr>\n",
       "      <th>LDA</th>\n",
       "      <td>0.93038</td>\n",
       "      <td>0.90964</td>\n",
       "      <td>0.93605</td>\n",
       "      <td>0.93605</td>\n",
       "      <td>0.92361</td>\n",
       "    </tr>\n",
       "    <tr>\n",
       "      <th>SVM</th>\n",
       "      <td>0.93987</td>\n",
       "      <td>0.92155</td>\n",
       "      <td>0.93220</td>\n",
       "      <td>0.95930</td>\n",
       "      <td>0.91667</td>\n",
       "    </tr>\n",
       "    <tr>\n",
       "      <th>RF</th>\n",
       "      <td>0.93354</td>\n",
       "      <td>0.93661</td>\n",
       "      <td>0.91713</td>\n",
       "      <td>0.96512</td>\n",
       "      <td>0.89583</td>\n",
       "    </tr>\n",
       "  </tbody>\n",
       "</table>\n",
       "</div>"
      ],
      "text/plain": [
       "        Accuracy  Mean accuracy  Precision  Sensitivity (Recall)  Specificity\n",
       "Method                                                                       \n",
       "LDA      0.93038        0.90964    0.93605               0.93605      0.92361\n",
       "SVM      0.93987        0.92155    0.93220               0.95930      0.91667\n",
       "RF       0.93354        0.93661    0.91713               0.96512      0.89583"
      ]
     },
     "execution_count": 40,
     "metadata": {},
     "output_type": "execute_result"
    }
   ],
   "source": [
    "b_result_2.set_index([\"Method\"], inplace=True)\n",
    "b_result_2 "
   ]
  },
  {
   "cell_type": "markdown",
   "metadata": {},
   "source": [
    "The 3rd test"
   ]
  },
  {
   "cell_type": "code",
   "execution_count": null,
   "metadata": {},
   "outputs": [],
   "source": [
    "X_train_3, X_test_3, y_train_3, y_test_3 = data_preparation_scheme(s_num=1)\n",
    "\n",
    "b_result_3, b_lda_model_3, b_lda_pred_val_3, b_svm_model_3, b_svm_pred_val_3, b_rf_model_3, b_rf_pred_val_3 = \\\n",
    "                                                train_models(X_train_3, X_test_3, y_train_3,y_test_3)"
   ]
  },
  {
   "cell_type": "code",
   "execution_count": 177,
   "metadata": {},
   "outputs": [
    {
     "data": {
      "text/html": [
       "<div>\n",
       "<style scoped>\n",
       "    .dataframe tbody tr th:only-of-type {\n",
       "        vertical-align: middle;\n",
       "    }\n",
       "\n",
       "    .dataframe tbody tr th {\n",
       "        vertical-align: top;\n",
       "    }\n",
       "\n",
       "    .dataframe thead th {\n",
       "        text-align: right;\n",
       "    }\n",
       "</style>\n",
       "<table border=\"1\" class=\"dataframe\">\n",
       "  <thead>\n",
       "    <tr style=\"text-align: right;\">\n",
       "      <th></th>\n",
       "      <th>Accuracy</th>\n",
       "      <th>Mean accuracy</th>\n",
       "      <th>Precision</th>\n",
       "      <th>Sensitivity (Recall)</th>\n",
       "      <th>Specificity</th>\n",
       "    </tr>\n",
       "    <tr>\n",
       "      <th>Method</th>\n",
       "      <th></th>\n",
       "      <th></th>\n",
       "      <th></th>\n",
       "      <th></th>\n",
       "      <th></th>\n",
       "    </tr>\n",
       "  </thead>\n",
       "  <tbody>\n",
       "    <tr>\n",
       "      <th>LDA</th>\n",
       "      <td>0.92405</td>\n",
       "      <td>0.90891</td>\n",
       "      <td>0.94969</td>\n",
       "      <td>0.90419</td>\n",
       "      <td>0.94631</td>\n",
       "    </tr>\n",
       "    <tr>\n",
       "      <th>SVM</th>\n",
       "      <td>0.93354</td>\n",
       "      <td>0.92631</td>\n",
       "      <td>0.91954</td>\n",
       "      <td>0.95808</td>\n",
       "      <td>0.90604</td>\n",
       "    </tr>\n",
       "    <tr>\n",
       "      <th>RF</th>\n",
       "      <td>0.93987</td>\n",
       "      <td>0.93661</td>\n",
       "      <td>0.94048</td>\n",
       "      <td>0.94611</td>\n",
       "      <td>0.93289</td>\n",
       "    </tr>\n",
       "  </tbody>\n",
       "</table>\n",
       "</div>"
      ],
      "text/plain": [
       "        Accuracy  Mean accuracy  Precision  Sensitivity (Recall)  Specificity\n",
       "Method                                                                       \n",
       "LDA      0.92405        0.90891    0.94969               0.90419      0.94631\n",
       "SVM      0.93354        0.92631    0.91954               0.95808      0.90604\n",
       "RF       0.93987        0.93661    0.94048               0.94611      0.93289"
      ]
     },
     "execution_count": 177,
     "metadata": {},
     "output_type": "execute_result"
    }
   ],
   "source": [
    "b_result_3.set_index([\"Method\"], inplace=True)\n",
    "b_result_3 "
   ]
  },
  {
   "cell_type": "markdown",
   "metadata": {},
   "source": [
    "The 4th test"
   ]
  },
  {
   "cell_type": "code",
   "execution_count": 179,
   "metadata": {},
   "outputs": [],
   "source": [
    "X_train_4, X_test_4, y_train_4, y_test_4 = data_preparation_scheme(s_num=1)\n",
    "\n",
    "b_result_4, b_lda_model_4, b_lda_pred_val_4, b_svm_model_4, b_svm_pred_val_4, b_rf_model_4, b_rf_pred_val_4 = \\\n",
    "                                                train_models(X_train_4, X_test_4, y_train_4,y_test_4)"
   ]
  },
  {
   "cell_type": "code",
   "execution_count": 180,
   "metadata": {},
   "outputs": [
    {
     "data": {
      "text/html": [
       "<div>\n",
       "<style scoped>\n",
       "    .dataframe tbody tr th:only-of-type {\n",
       "        vertical-align: middle;\n",
       "    }\n",
       "\n",
       "    .dataframe tbody tr th {\n",
       "        vertical-align: top;\n",
       "    }\n",
       "\n",
       "    .dataframe thead th {\n",
       "        text-align: right;\n",
       "    }\n",
       "</style>\n",
       "<table border=\"1\" class=\"dataframe\">\n",
       "  <thead>\n",
       "    <tr style=\"text-align: right;\">\n",
       "      <th></th>\n",
       "      <th>Accuracy</th>\n",
       "      <th>Mean accuracy</th>\n",
       "      <th>Precision</th>\n",
       "      <th>Sensitivity (Recall)</th>\n",
       "      <th>Specificity</th>\n",
       "    </tr>\n",
       "    <tr>\n",
       "      <th>Method</th>\n",
       "      <th></th>\n",
       "      <th></th>\n",
       "      <th></th>\n",
       "      <th></th>\n",
       "      <th></th>\n",
       "    </tr>\n",
       "  </thead>\n",
       "  <tbody>\n",
       "    <tr>\n",
       "      <th>LDA</th>\n",
       "      <td>0.89873</td>\n",
       "      <td>0.91917</td>\n",
       "      <td>0.91176</td>\n",
       "      <td>0.86111</td>\n",
       "      <td>0.93023</td>\n",
       "    </tr>\n",
       "    <tr>\n",
       "      <th>SVM</th>\n",
       "      <td>0.92405</td>\n",
       "      <td>0.92948</td>\n",
       "      <td>0.89474</td>\n",
       "      <td>0.94444</td>\n",
       "      <td>0.90698</td>\n",
       "    </tr>\n",
       "    <tr>\n",
       "      <th>RF</th>\n",
       "      <td>0.92722</td>\n",
       "      <td>0.94057</td>\n",
       "      <td>0.90604</td>\n",
       "      <td>0.93750</td>\n",
       "      <td>0.91860</td>\n",
       "    </tr>\n",
       "  </tbody>\n",
       "</table>\n",
       "</div>"
      ],
      "text/plain": [
       "        Accuracy  Mean accuracy  Precision  Sensitivity (Recall)  Specificity\n",
       "Method                                                                       \n",
       "LDA      0.89873        0.91917    0.91176               0.86111      0.93023\n",
       "SVM      0.92405        0.92948    0.89474               0.94444      0.90698\n",
       "RF       0.92722        0.94057    0.90604               0.93750      0.91860"
      ]
     },
     "execution_count": 180,
     "metadata": {},
     "output_type": "execute_result"
    }
   ],
   "source": [
    "b_result_4.set_index([\"Method\"], inplace=True)\n",
    "b_result_4 "
   ]
  },
  {
   "cell_type": "markdown",
   "metadata": {},
   "source": [
    "The 5th test"
   ]
  },
  {
   "cell_type": "code",
   "execution_count": 182,
   "metadata": {},
   "outputs": [],
   "source": [
    "X_train_5, X_test_5, y_train_5, y_test_5 = data_preparation_scheme(s_num=1)\n",
    "\n",
    "b_result_5, b_lda_model_5, b_lda_pred_val_5, b_svm_model_5, b_svm_pred_val_5, b_rf_model_5, b_rf_pred_val_5 = \\\n",
    "                                                train_models(X_train_5, X_test_5, y_train_5,y_test_5)"
   ]
  },
  {
   "cell_type": "code",
   "execution_count": 184,
   "metadata": {},
   "outputs": [
    {
     "data": {
      "text/html": [
       "<div>\n",
       "<style scoped>\n",
       "    .dataframe tbody tr th:only-of-type {\n",
       "        vertical-align: middle;\n",
       "    }\n",
       "\n",
       "    .dataframe tbody tr th {\n",
       "        vertical-align: top;\n",
       "    }\n",
       "\n",
       "    .dataframe thead th {\n",
       "        text-align: right;\n",
       "    }\n",
       "</style>\n",
       "<table border=\"1\" class=\"dataframe\">\n",
       "  <thead>\n",
       "    <tr style=\"text-align: right;\">\n",
       "      <th></th>\n",
       "      <th>Accuracy</th>\n",
       "      <th>Mean accuracy</th>\n",
       "      <th>Precision</th>\n",
       "      <th>Sensitivity (Recall)</th>\n",
       "      <th>Specificity</th>\n",
       "    </tr>\n",
       "    <tr>\n",
       "      <th>Method</th>\n",
       "      <th></th>\n",
       "      <th></th>\n",
       "      <th></th>\n",
       "      <th></th>\n",
       "      <th></th>\n",
       "    </tr>\n",
       "  </thead>\n",
       "  <tbody>\n",
       "    <tr>\n",
       "      <th>LDA</th>\n",
       "      <td>0.93354</td>\n",
       "      <td>0.90966</td>\n",
       "      <td>0.94805</td>\n",
       "      <td>0.91824</td>\n",
       "      <td>0.94904</td>\n",
       "    </tr>\n",
       "    <tr>\n",
       "      <th>SVM</th>\n",
       "      <td>0.94304</td>\n",
       "      <td>0.92314</td>\n",
       "      <td>0.92727</td>\n",
       "      <td>0.96226</td>\n",
       "      <td>0.92357</td>\n",
       "    </tr>\n",
       "    <tr>\n",
       "      <th>RF</th>\n",
       "      <td>0.95570</td>\n",
       "      <td>0.93661</td>\n",
       "      <td>0.95031</td>\n",
       "      <td>0.96226</td>\n",
       "      <td>0.94904</td>\n",
       "    </tr>\n",
       "  </tbody>\n",
       "</table>\n",
       "</div>"
      ],
      "text/plain": [
       "        Accuracy  Mean accuracy  Precision  Sensitivity (Recall)  Specificity\n",
       "Method                                                                       \n",
       "LDA      0.93354        0.90966    0.94805               0.91824      0.94904\n",
       "SVM      0.94304        0.92314    0.92727               0.96226      0.92357\n",
       "RF       0.95570        0.93661    0.95031               0.96226      0.94904"
      ]
     },
     "execution_count": 184,
     "metadata": {},
     "output_type": "execute_result"
    }
   ],
   "source": [
    "b_result_5.set_index([\"Method\"], inplace=True)\n",
    "b_result_5 "
   ]
  },
  {
   "cell_type": "markdown",
   "metadata": {},
   "source": [
    "### plot ROC curve"
   ]
  },
  {
   "cell_type": "code",
   "execution_count": 92,
   "metadata": {},
   "outputs": [
    {
     "data": {
      "text/plain": [
       "0.9742005813953487"
      ]
     },
     "execution_count": 92,
     "metadata": {},
     "output_type": "execute_result"
    }
   ],
   "source": [
    "b_rf_pred_prob = b_rf_model_2.predict_proba(X_test_2)[:,1]\n",
    "fpr_b_rf, tpr_b_rf, thresholds_b_rf = roc_curve(y_test_2, b_rf_pred_prob)\n",
    "auc_b_rf = roc_auc_score(y_test_2,b_rf_pred_prob)\n",
    "auc_b_rf"
   ]
  },
  {
   "cell_type": "code",
   "execution_count": 287,
   "metadata": {},
   "outputs": [
    {
     "data": {
      "text/plain": [
       "0.9875818832134389"
      ]
     },
     "execution_count": 287,
     "metadata": {},
     "output_type": "execute_result"
    }
   ],
   "source": [
    "b_rf_pred_prob = b_rf_model_3.predict_proba(X_test_3)[:,1]\n",
    "fpr_b_rf, tpr_b_rf, thresholds_b_rf = roc_curve(y_test_3, b_rf_pred_prob)\n",
    "auc_b_rf = roc_auc_score(y_test_3,b_rf_pred_prob)\n",
    "auc_b_rf"
   ]
  },
  {
   "cell_type": "code",
   "execution_count": 236,
   "metadata": {},
   "outputs": [
    {
     "data": {
      "text/plain": [
       "0.9773094315245477"
      ]
     },
     "execution_count": 236,
     "metadata": {},
     "output_type": "execute_result"
    }
   ],
   "source": [
    "b_rf_pred_prob = b_rf_model_4.predict_proba(X_test_4)[:,1]\n",
    "fpr_b_rf, tpr_b_rf, thresholds_b_rf = roc_curve(y_test_4, b_rf_pred_prob)\n",
    "auc_b_rf = roc_auc_score(y_test_4,b_rf_pred_prob)\n",
    "auc_b_rf"
   ]
  },
  {
   "cell_type": "code",
   "execution_count": 237,
   "metadata": {},
   "outputs": [
    {
     "data": {
      "text/plain": [
       "0.9847774706565717"
      ]
     },
     "execution_count": 237,
     "metadata": {},
     "output_type": "execute_result"
    }
   ],
   "source": [
    "b_rf_pred_prob = b_rf_model_5.predict_proba(X_test_5)[:,1]\n",
    "fpr_b_rf, tpr_b_rf, thresholds_b_rf = roc_curve(y_test_5, b_rf_pred_prob)\n",
    "auc_b_rf = roc_auc_score(y_test_5,b_rf_pred_prob)\n",
    "auc_b_rf"
   ]
  },
  {
   "cell_type": "code",
   "execution_count": 152,
   "metadata": {},
   "outputs": [
    {
     "data": {
      "text/plain": [
       "(60,)"
      ]
     },
     "execution_count": 152,
     "metadata": {},
     "output_type": "execute_result"
    }
   ],
   "source": [
    "fpr_b_rf.shape"
   ]
  },
  {
   "cell_type": "code",
   "execution_count": 100,
   "metadata": {},
   "outputs": [
    {
     "data": {
      "text/plain": [
       "0.9573643410852712"
      ]
     },
     "execution_count": 100,
     "metadata": {},
     "output_type": "execute_result"
    }
   ],
   "source": [
    "b_svm_pred_prob = b_svm_model_2.predict_proba(X_test_2)[:,1]\n",
    "fpr_b_svm, tpr_b_svm, thresholds_b_svm = roc_curve(y_test_2, b_svm_pred_prob)\n",
    "auc_b_svm = roc_auc_score(y_test_2,b_svm_pred_prob)\n",
    "auc_b_svm"
   ]
  },
  {
   "cell_type": "code",
   "execution_count": 288,
   "metadata": {},
   "outputs": [
    {
     "data": {
      "text/plain": [
       "0.9730297157622739"
      ]
     },
     "execution_count": 288,
     "metadata": {},
     "output_type": "execute_result"
    }
   ],
   "source": [
    "b_svm_pred_prob = b_svm_model_4.predict_proba(X_test_4)[:,1]\n",
    "fpr_b_svm, tpr_b_svm, thresholds_b_svm = roc_curve(y_test_4, b_svm_pred_prob)\n",
    "auc_b_svm = roc_auc_score(y_test_4,b_svm_pred_prob)\n",
    "auc_b_svm"
   ]
  },
  {
   "cell_type": "code",
   "execution_count": 245,
   "metadata": {},
   "outputs": [
    {
     "data": {
      "text/plain": [
       "0.976164723791211"
      ]
     },
     "execution_count": 245,
     "metadata": {},
     "output_type": "execute_result"
    }
   ],
   "source": [
    "b_svm_pred_prob = b_svm_model_5.predict_proba(X_test_5)[:,1]\n",
    "fpr_b_svm, tpr_b_svm, thresholds_b_svm = roc_curve(y_test_5, b_svm_pred_prob)\n",
    "auc_b_svm = roc_auc_score(y_test_5,b_svm_pred_prob)\n",
    "auc_b_svm"
   ]
  },
  {
   "cell_type": "code",
   "execution_count": 252,
   "metadata": {},
   "outputs": [
    {
     "data": {
      "text/plain": [
       "0.9840923772609819"
      ]
     },
     "execution_count": 252,
     "metadata": {},
     "output_type": "execute_result"
    }
   ],
   "source": [
    "b_svm_pred_prob = b_svm_model_5.predict_proba(X_test_2)[:,1]\n",
    "fpr_b_svm, tpr_b_svm, thresholds_b_svm = roc_curve(y_test_2, b_svm_pred_prob)\n",
    "auc_b_svm = roc_auc_score(y_test_2,b_svm_pred_prob)\n",
    "auc_b_svm"
   ]
  },
  {
   "cell_type": "code",
   "execution_count": 289,
   "metadata": {},
   "outputs": [
    {
     "data": {
      "text/plain": [
       "0.9562742248062015"
      ]
     },
     "execution_count": 289,
     "metadata": {},
     "output_type": "execute_result"
    }
   ],
   "source": [
    "b_lda_pred_prob = b_lda_model_2.predict_proba(X_test_2)[:,1]\n",
    "fpr_b_lda, tpr_b_lda, thresholds_b_lda = roc_curve(y_test_2, b_lda_pred_prob)\n",
    "auc_b_lda = roc_auc_score(y_test_2,b_lda_pred_prob)\n",
    "auc_b_lda"
   ]
  },
  {
   "cell_type": "code",
   "execution_count": 253,
   "metadata": {},
   "outputs": [
    {
     "data": {
      "text/plain": [
       "0.9755254591488164"
      ]
     },
     "execution_count": 253,
     "metadata": {},
     "output_type": "execute_result"
    }
   ],
   "source": [
    "b_lda_pred_prob = b_lda_model_3.predict_proba(X_test_3)[:,1]\n",
    "fpr_b_lda, tpr_b_lda, thresholds_b_lda = roc_curve(y_test_3, b_lda_pred_prob)\n",
    "auc_b_lda = roc_auc_score(y_test_3,b_lda_pred_prob)\n",
    "auc_b_lda"
   ]
  },
  {
   "cell_type": "code",
   "execution_count": 254,
   "metadata": {},
   "outputs": [
    {
     "data": {
      "text/plain": [
       "0.9628956718346253"
      ]
     },
     "execution_count": 254,
     "metadata": {},
     "output_type": "execute_result"
    }
   ],
   "source": [
    "b_lda_pred_prob = b_lda_model_4.predict_proba(X_test_4)[:,1]\n",
    "fpr_b_lda, tpr_b_lda, thresholds_b_lda = roc_curve(y_test_4, b_lda_pred_prob)\n",
    "auc_b_lda = roc_auc_score(y_test_4,b_lda_pred_prob)\n",
    "auc_b_lda"
   ]
  },
  {
   "cell_type": "code",
   "execution_count": 256,
   "metadata": {},
   "outputs": [
    {
     "data": {
      "text/plain": [
       "0.9796498818251012"
      ]
     },
     "execution_count": 256,
     "metadata": {},
     "output_type": "execute_result"
    }
   ],
   "source": [
    "b_lda_pred_prob = b_lda_model_5.predict_proba(X_test_5)[:,1]\n",
    "fpr_b_lda, tpr_b_lda, thresholds_b_lda = roc_curve(y_test_5, b_lda_pred_prob)\n",
    "auc_b_lda = roc_auc_score(y_test_5,b_lda_pred_prob)\n",
    "auc_b_lda"
   ]
  },
  {
   "cell_type": "code",
   "execution_count": 290,
   "metadata": {
    "scrolled": true
   },
   "outputs": [
    {
     "data": {
      "image/png": "[encoded data removed]",
      "text/plain": [
       "<Figure size 432x288 with 1 Axes>"
      ]
     },
     "metadata": {},
     "output_type": "display_data"
    }
   ],
   "source": [
    "plt.figure()\n",
    "plt.plot(fpr_b_rf,tpr_b_rf,'deepskyblue',label='ROC curve of RF',linewidth=3)\n",
    "plt.plot(fpr_b_svm,tpr_b_svm,'darkorange',label='ROC curve of SVM',linewidth=3,linestyle=':')\n",
    "plt.plot(fpr_b_lda,tpr_b_lda,'crimson',label='ROC curve of LDA',linewidth=3,linestyle='--')\n",
    "\n",
    "plt.xlim([0.0,1.0])\n",
    "plt.ylim([0.0,1.05])\n",
    "plt.xlabel('False Positive Rate',**axis_font)\n",
    "plt.ylabel('True Position Rate',**axis_font)\n",
    "plt.legend(loc='lower right',fontsize=12)\n",
    "plt.savefig('ROC_retina_sampling',dpi=1200)\n",
    "plt.show()"
   ]
  },
  {
   "cell_type": "markdown",
   "metadata": {},
   "source": [
    "### Save variable "
   ]
  },
  {
   "cell_type": "code",
   "execution_count": 276,
   "metadata": {},
   "outputs": [],
   "source": [
    "importance_table_1.to_csv(os.getcwd() + \"\\\\data\\\\FItable1.csv\")"
   ]
  },
  {
   "cell_type": "code",
   "execution_count": 159,
   "metadata": {},
   "outputs": [],
   "source": [
    "import scipy.io as sio"
   ]
  },
  {
   "cell_type": "code",
   "execution_count": 349,
   "metadata": {},
   "outputs": [],
   "source": [
    "sio.savemat(\"X_b.mat\", mdict={'X':np.concatenate((X_train_1,X_test_1))})\n",
    "sio.savemat(\"y_b.mat\", mdict={'y':np.concatenate((y_train_1,y_test_1))})"
   ]
  },
  {
   "cell_type": "code",
   "execution_count": 167,
   "metadata": {},
   "outputs": [],
   "source": [
    "X_train_BS, X_test_BS, y_train_BS, y_test_BS = data_preparation_scheme(s_num=3)\n",
    "\n",
    "sio.savemat(\"X_BS.mat\", mdict={'X':np.concatenate((X_train_BS,X_test_BS))})\n",
    "sio.savemat(\"y_BS.mat\", mdict={'y':np.concatenate((y_train_BS,y_test_BS))})"
   ]
  },
  {
   "cell_type": "code",
   "execution_count": null,
   "metadata": {},
   "outputs": [],
   "source": [
    "dfct = dfd[dfd[\"CrossedSignal\"]==1].copy()\n",
    "metric_data = dfct.values[:,0:(dfct.shape[1]-2)]\n",
    "metric_label = dfct[\"FluoroSignal\"].values\n",
    "\n",
    "BS = BorderlineSMOTE(random_state=42, kind='borderline-2')\n",
    "[bs_data, bs_label] = BS.fit_resample(metric_data, metric_label)\n",
    "\n",
    "#scaler = preprocessing.StandardScaler().fit(bs_data)\n",
    "#bs_data_ = scaler.transform(bs_data)\n",
    "\n",
    "X_bs_train, X_bs_test, y_bs_train, y_bs_test = train_test_split(bs_data, bs_label, test_size=0.2, random_state=42)"
   ]
  },
  {
   "cell_type": "markdown",
   "metadata": {},
   "source": [
    "### After random forest selection "
   ]
  },
  {
   "cell_type": "code",
   "execution_count": 213,
   "metadata": {},
   "outputs": [],
   "source": [
    "selected_metrics = importance_table_1[importance_table_1.loc[:,'Importance in percentage'] > 0.01][\"Metric\"].values"
   ]
  },
  {
   "cell_type": "code",
   "execution_count": 214,
   "metadata": {},
   "outputs": [
    {
     "data": {
      "text/plain": [
       "array(['Retardance_Lin_Deposit_Std', 'Anisotropy_Lin_Deposit_Std',\n",
       "       'Retardance_Lin_Deposit_Mean', 'Anisotropy_Lin_Deposit_Mean',\n",
       "       'Q_metric_Deposit_Mean', 'x_metric_Deposit_Mean',\n",
       "       'b_metric_Deposit_Std', 'Diattenuation_Circ_Deposit_Std',\n",
       "       'Polarizance_Circ_Deposit_Std', 'Q_metric_Deposit_Std',\n",
       "       'Depolarization_Power_Deposit_Mean',\n",
       "       'Depolarization_Power_Deposit_Std', 't_metric_Deposit_Std',\n",
       "       'Diattenuation_Circ_Deposit_Mean', 'Diattenuation_Lin_Deposit_Std',\n",
       "       'Polarizance_Circ_Deposit_Mean'], dtype=object)"
      ]
     },
     "execution_count": 214,
     "metadata": {},
     "output_type": "execute_result"
    }
   ],
   "source": [
    "selected_metrics"
   ]
  },
  {
   "cell_type": "code",
   "execution_count": 215,
   "metadata": {},
   "outputs": [
    {
     "data": {
      "text/plain": [
       "16"
      ]
     },
     "execution_count": 215,
     "metadata": {},
     "output_type": "execute_result"
    }
   ],
   "source": [
    "len(selected_metrics)"
   ]
  },
  {
   "cell_type": "code",
   "execution_count": 216,
   "metadata": {},
   "outputs": [],
   "source": [
    "dfd_1_selected = df[selected_metrics.tolist() + [\"FluoroSignal\", \"CrossedSignal\"]]\n",
    "\n",
    "selected_metrics_background = [metric.replace('Deposit','Background') for metric in selected_metrics]\n",
    "dfb_1_selected = df[selected_metrics_background + [\"FluoroSignal\", \"CrossedSignal\"]]"
   ]
  },
  {
   "cell_type": "code",
   "execution_count": 217,
   "metadata": {},
   "outputs": [],
   "source": [
    "def new_preparation_background():\n",
    "    dfct = dfd_1_selected[dfd_1_selected[\"CrossedSignal\"]==1].copy()  \n",
    "    \n",
    "    df_b = dfb_1_selected.sample(n=658, random_state=42)\n",
    "    oldname = df_b.columns.tolist()\n",
    "    newname = selected_metrics.tolist() + [\"FluoroSignal\", \"CrossedSignal\"]\n",
    "    namedict = {oldname[i]: newname[i] for i in range(len(oldname))}\n",
    "    df_b.rename(columns=namedict, inplace=True)\n",
    "    \n",
    "    df_b[\"FluoroSignal\"] = np.zeros(df_b.shape[0], dtype=np.int32)\n",
    "    df_b[\"CrossedSignal\"] = np.zeros(df_b.shape[0], dtype=np.int32)\n",
    "    \n",
    "    df_r = pd.concat([dfct,df_b])\n",
    "        \n",
    "    # prepare data and the labels\n",
    "    X_r = df_r.values[:,0:(df_r.shape[1]-2)]\n",
    "    y = df_r[\"FluoroSignal\"].values\n",
    "        \n",
    "    # Standardized X\n",
    "    scaler = preprocessing.StandardScaler().fit(X_r)\n",
    "    X = scaler.transform(X_r)\n",
    "    # Split train set and test set\n",
    "    X_train, X_test, y_train, y_test = train_test_split(X,y, test_size=0.2, random_state=42)\n",
    "    return X_train, X_test, y_train, y_test"
   ]
  },
  {
   "cell_type": "code",
   "execution_count": 218,
   "metadata": {},
   "outputs": [],
   "source": [
    "X_train_selected, X_test_selected, y_train_selected, y_test_selected = new_preparation_background()\n",
    "\n",
    "b_result_selected, b_lda_model_selected, b_lda_pred_val_selected, b_svm_model_selected, b_svm_pred_val_selected, b_rf_model_selected, b_rf_pred_val_selected = \\\n",
    "                                                train_models(X_train_selected, X_test_selected, y_train_selected,y_test_selected)"
   ]
  },
  {
   "cell_type": "code",
   "execution_count": 219,
   "metadata": {
    "scrolled": true
   },
   "outputs": [
    {
     "data": {
      "text/html": [
       "<div>\n",
       "<style scoped>\n",
       "    .dataframe tbody tr th:only-of-type {\n",
       "        vertical-align: middle;\n",
       "    }\n",
       "\n",
       "    .dataframe tbody tr th {\n",
       "        vertical-align: top;\n",
       "    }\n",
       "\n",
       "    .dataframe thead th {\n",
       "        text-align: right;\n",
       "    }\n",
       "</style>\n",
       "<table border=\"1\" class=\"dataframe\">\n",
       "  <thead>\n",
       "    <tr style=\"text-align: right;\">\n",
       "      <th></th>\n",
       "      <th>Accuracy</th>\n",
       "      <th>Mean accuracy</th>\n",
       "      <th>Precision</th>\n",
       "      <th>Sensitivity (Recall)</th>\n",
       "      <th>Specificity</th>\n",
       "    </tr>\n",
       "    <tr>\n",
       "      <th>Method</th>\n",
       "      <th></th>\n",
       "      <th></th>\n",
       "      <th></th>\n",
       "      <th></th>\n",
       "      <th></th>\n",
       "    </tr>\n",
       "  </thead>\n",
       "  <tbody>\n",
       "    <tr>\n",
       "      <th>LDA</th>\n",
       "      <td>0.92405</td>\n",
       "      <td>0.90173</td>\n",
       "      <td>0.93023</td>\n",
       "      <td>0.93023</td>\n",
       "      <td>0.91667</td>\n",
       "    </tr>\n",
       "    <tr>\n",
       "      <th>SVM</th>\n",
       "      <td>0.93038</td>\n",
       "      <td>0.91838</td>\n",
       "      <td>0.92614</td>\n",
       "      <td>0.94767</td>\n",
       "      <td>0.90972</td>\n",
       "    </tr>\n",
       "    <tr>\n",
       "      <th>RF</th>\n",
       "      <td>0.93671</td>\n",
       "      <td>0.93582</td>\n",
       "      <td>0.91758</td>\n",
       "      <td>0.97093</td>\n",
       "      <td>0.89583</td>\n",
       "    </tr>\n",
       "  </tbody>\n",
       "</table>\n",
       "</div>"
      ],
      "text/plain": [
       "        Accuracy  Mean accuracy  Precision  Sensitivity (Recall)  Specificity\n",
       "Method                                                                       \n",
       "LDA      0.92405        0.90173    0.93023               0.93023      0.91667\n",
       "SVM      0.93038        0.91838    0.92614               0.94767      0.90972\n",
       "RF       0.93671        0.93582    0.91758               0.97093      0.89583"
      ]
     },
     "execution_count": 219,
     "metadata": {},
     "output_type": "execute_result"
    }
   ],
   "source": [
    "b_result_selected.set_index([\"Method\"], inplace=True)\n",
    "b_result_selected "
   ]
  },
  {
   "cell_type": "markdown",
   "metadata": {},
   "source": [
    "### Using only linear anisotropy and linear retardance "
   ]
  },
  {
   "cell_type": "code",
   "execution_count": 220,
   "metadata": {},
   "outputs": [],
   "source": [
    "def LA_LR_scheme(random_seed):\n",
    "    dfct = dfd[dfd[\"CrossedSignal\"]==1].copy()\n",
    "        \n",
    "    df_b = dfb.sample(n=658, random_state=42)\n",
    "        \n",
    "    oldname = [ \"Anisotropy_Lin_Background_Mean\", \"Anisotropy_Lin_Background_Std\",\n",
    "                \"Retardance_Lin_Background_Mean\", \"Retardance_Lin_Background_Std\",\n",
    "                \"FluoroSignal\", \"CrossedSignal\"]\n",
    "        \n",
    "    newname = [\"Anisotropy_Lin_Deposit_Mean\", \"Anisotropy_Lin_Deposit_Std\",\n",
    "               \"Retardance_Lin_Deposit_Mean\", \"Retardance_Lin_Deposit_Std\",\n",
    "               \"FluoroSignal\", \"CrossedSignal\"]\n",
    "    \n",
    "    dfct = dfct[newname]\n",
    "    df_b = df_b[oldname]\n",
    "    \n",
    "    namedict = {oldname[i]: newname[i] for i in range(len(oldname))}\n",
    "\n",
    "    df_b.rename(columns = namedict, inplace=True)\n",
    "    df_b[\"FluoroSignal\"] = np.zeros(df_b.shape[0], dtype=np.int32)\n",
    "    df_b[\"CrossedSignal\"] = np.zeros(df_b.shape[0], dtype=np.int32)\n",
    "    df_r = pd.concat([dfct,df_b])\n",
    "\n",
    "    # prepare data and the labels\n",
    "    X_r = df_r.values[:,0:(df_r.shape[1]-2)]\n",
    "    y = df_r[\"FluoroSignal\"].values\n",
    "\n",
    "    # Standardized X\n",
    "    scaler = preprocessing.StandardScaler().fit(X_r)\n",
    "    X = scaler.transform(X_r)\n",
    "    # Split train set and test set\n",
    "    X_train, X_test, y_train, y_test = train_test_split(X,y, test_size=0.2, random_state=random_seed)\n",
    "    return X_train, X_test, y_train, y_test"
   ]
  },
  {
   "cell_type": "code",
   "execution_count": 310,
   "metadata": {},
   "outputs": [],
   "source": [
    "X_train_LA_LR, X_test_LA_LR, y_train_LA_LR, y_test_LA_LR = LA_LR_scheme()\n",
    "\n",
    "b_result_LA_LR, b_lda_model_LA_LR, b_lda_pred_val_LA_LR, b_svm_model_LA_LR, b_svm_pred_val_LA_LR, b_rf_model_LA_LR, b_rf_pred_val_LA_LR = \\\n",
    "                                                train_models(X_train_LA_LR, X_test_LA_LR, y_train_LA_LR,y_test_LA_LR)"
   ]
  },
  {
   "cell_type": "code",
   "execution_count": 311,
   "metadata": {},
   "outputs": [
    {
     "data": {
      "text/html": [
       "<div>\n",
       "<style scoped>\n",
       "    .dataframe tbody tr th:only-of-type {\n",
       "        vertical-align: middle;\n",
       "    }\n",
       "\n",
       "    .dataframe tbody tr th {\n",
       "        vertical-align: top;\n",
       "    }\n",
       "\n",
       "    .dataframe thead th {\n",
       "        text-align: right;\n",
       "    }\n",
       "</style>\n",
       "<table border=\"1\" class=\"dataframe\">\n",
       "  <thead>\n",
       "    <tr style=\"text-align: right;\">\n",
       "      <th></th>\n",
       "      <th>Accuracy</th>\n",
       "      <th>Mean accuracy</th>\n",
       "      <th>Precision</th>\n",
       "      <th>Sensitivity (Recall)</th>\n",
       "      <th>Specificity</th>\n",
       "    </tr>\n",
       "    <tr>\n",
       "      <th>Method</th>\n",
       "      <th></th>\n",
       "      <th></th>\n",
       "      <th></th>\n",
       "      <th></th>\n",
       "      <th></th>\n",
       "    </tr>\n",
       "  </thead>\n",
       "  <tbody>\n",
       "    <tr>\n",
       "      <th>LDA</th>\n",
       "      <td>0.88924</td>\n",
       "      <td>0.89068</td>\n",
       "      <td>0.92547</td>\n",
       "      <td>0.86628</td>\n",
       "      <td>0.91667</td>\n",
       "    </tr>\n",
       "    <tr>\n",
       "      <th>SVM</th>\n",
       "      <td>0.92722</td>\n",
       "      <td>0.92472</td>\n",
       "      <td>0.91620</td>\n",
       "      <td>0.95349</td>\n",
       "      <td>0.89583</td>\n",
       "    </tr>\n",
       "    <tr>\n",
       "      <th>RF</th>\n",
       "      <td>0.92089</td>\n",
       "      <td>0.92868</td>\n",
       "      <td>0.91525</td>\n",
       "      <td>0.94186</td>\n",
       "      <td>0.89583</td>\n",
       "    </tr>\n",
       "  </tbody>\n",
       "</table>\n",
       "</div>"
      ],
      "text/plain": [
       "        Accuracy  Mean accuracy  Precision  Sensitivity (Recall)  Specificity\n",
       "Method                                                                       \n",
       "LDA      0.88924        0.89068    0.92547               0.86628      0.91667\n",
       "SVM      0.92722        0.92472    0.91620               0.95349      0.89583\n",
       "RF       0.92089        0.92868    0.91525               0.94186      0.89583"
      ]
     },
     "execution_count": 311,
     "metadata": {},
     "output_type": "execute_result"
    }
   ],
   "source": [
    "b_result_LA_LR.set_index([\"Method\"], inplace=True)\n",
    "b_result_LA_LR "
   ]
  },
  {
   "cell_type": "code",
   "execution_count": 313,
   "metadata": {},
   "outputs": [
    {
     "data": {
      "text/plain": [
       "array([0.20089, 0.26602, 0.25356, 0.27953])"
      ]
     },
     "execution_count": 313,
     "metadata": {},
     "output_type": "execute_result"
    }
   ],
   "source": [
    "feature_importance_LA_LR = b_rf_model_LA_LR.best_estimator_.feature_importances_\n",
    "feature_importance_LA_LR"
   ]
  },
  {
   "cell_type": "code",
   "execution_count": 223,
   "metadata": {},
   "outputs": [],
   "source": [
    "X_train_LA_LR2, X_test_LA_LR2, y_train_LA_LR2, y_test_LA_LR2 = LA_LR_scheme(1)\n",
    "\n",
    "b_result_LA_LR2, b_lda_model_LA_LR2, b_lda_pred_val_LA_LR2, b_svm_model_LA_LR2, b_svm_pred_val_LA_LR2, b_rf_model_LA_LR2, b_rf_pred_val_LA_LR2 = \\\n",
    "                                                train_models(X_train_LA_LR2, X_test_LA_LR2, y_train_LA_LR2,y_test_LA_LR2)"
   ]
  },
  {
   "cell_type": "code",
   "execution_count": 224,
   "metadata": {},
   "outputs": [
    {
     "data": {
      "text/html": [
       "<div>\n",
       "<style scoped>\n",
       "    .dataframe tbody tr th:only-of-type {\n",
       "        vertical-align: middle;\n",
       "    }\n",
       "\n",
       "    .dataframe tbody tr th {\n",
       "        vertical-align: top;\n",
       "    }\n",
       "\n",
       "    .dataframe thead th {\n",
       "        text-align: right;\n",
       "    }\n",
       "</style>\n",
       "<table border=\"1\" class=\"dataframe\">\n",
       "  <thead>\n",
       "    <tr style=\"text-align: right;\">\n",
       "      <th></th>\n",
       "      <th>Accuracy</th>\n",
       "      <th>Mean accuracy</th>\n",
       "      <th>Precision</th>\n",
       "      <th>Sensitivity (Recall)</th>\n",
       "      <th>Specificity</th>\n",
       "    </tr>\n",
       "    <tr>\n",
       "      <th>Method</th>\n",
       "      <th></th>\n",
       "      <th></th>\n",
       "      <th></th>\n",
       "      <th></th>\n",
       "      <th></th>\n",
       "    </tr>\n",
       "  </thead>\n",
       "  <tbody>\n",
       "    <tr>\n",
       "      <th>LDA</th>\n",
       "      <td>0.89241</td>\n",
       "      <td>0.89304</td>\n",
       "      <td>0.95862</td>\n",
       "      <td>0.83234</td>\n",
       "      <td>0.95973</td>\n",
       "    </tr>\n",
       "    <tr>\n",
       "      <th>SVM</th>\n",
       "      <td>0.93671</td>\n",
       "      <td>0.92393</td>\n",
       "      <td>0.93491</td>\n",
       "      <td>0.94611</td>\n",
       "      <td>0.92617</td>\n",
       "    </tr>\n",
       "    <tr>\n",
       "      <th>RF</th>\n",
       "      <td>0.93038</td>\n",
       "      <td>0.92631</td>\n",
       "      <td>0.91429</td>\n",
       "      <td>0.95808</td>\n",
       "      <td>0.89933</td>\n",
       "    </tr>\n",
       "  </tbody>\n",
       "</table>\n",
       "</div>"
      ],
      "text/plain": [
       "        Accuracy  Mean accuracy  Precision  Sensitivity (Recall)  Specificity\n",
       "Method                                                                       \n",
       "LDA      0.89241        0.89304    0.95862               0.83234      0.95973\n",
       "SVM      0.93671        0.92393    0.93491               0.94611      0.92617\n",
       "RF       0.93038        0.92631    0.91429               0.95808      0.89933"
      ]
     },
     "execution_count": 224,
     "metadata": {},
     "output_type": "execute_result"
    }
   ],
   "source": [
    "b_result_LA_LR2.set_index([\"Method\"], inplace=True)\n",
    "b_result_LA_LR2 "
   ]
  },
  {
   "cell_type": "code",
   "execution_count": 225,
   "metadata": {},
   "outputs": [],
   "source": [
    "X_train_LA_LR3, X_test_LA_LR3, y_train_LA_LR3, y_test_LA_LR3 = LA_LR_scheme(10)\n",
    "\n",
    "b_result_LA_LR3, b_lda_model_LA_LR3, b_lda_pred_val_LA_LR3, b_svm_model_LA_LR3, b_svm_pred_val_LA_LR3, b_rf_model_LA_LR3, b_rf_pred_val_LA_LR3 = \\\n",
    "                                                train_models(X_train_LA_LR3, X_test_LA_LR3, y_train_LA_LR3,y_test_LA_LR3)"
   ]
  },
  {
   "cell_type": "code",
   "execution_count": 231,
   "metadata": {},
   "outputs": [
    {
     "data": {
      "text/html": [
       "<div>\n",
       "<style scoped>\n",
       "    .dataframe tbody tr th:only-of-type {\n",
       "        vertical-align: middle;\n",
       "    }\n",
       "\n",
       "    .dataframe tbody tr th {\n",
       "        vertical-align: top;\n",
       "    }\n",
       "\n",
       "    .dataframe thead th {\n",
       "        text-align: right;\n",
       "    }\n",
       "</style>\n",
       "<table border=\"1\" class=\"dataframe\">\n",
       "  <thead>\n",
       "    <tr style=\"text-align: right;\">\n",
       "      <th></th>\n",
       "      <th>Accuracy</th>\n",
       "      <th>Mean accuracy</th>\n",
       "      <th>Precision</th>\n",
       "      <th>Sensitivity (Recall)</th>\n",
       "      <th>Specificity</th>\n",
       "    </tr>\n",
       "    <tr>\n",
       "      <th>Method</th>\n",
       "      <th></th>\n",
       "      <th></th>\n",
       "      <th></th>\n",
       "      <th></th>\n",
       "      <th></th>\n",
       "    </tr>\n",
       "  </thead>\n",
       "  <tbody>\n",
       "    <tr>\n",
       "      <th>LDA</th>\n",
       "      <td>0.87658</td>\n",
       "      <td>0.89620</td>\n",
       "      <td>0.92683</td>\n",
       "      <td>0.79167</td>\n",
       "      <td>0.94767</td>\n",
       "    </tr>\n",
       "    <tr>\n",
       "      <th>SVM</th>\n",
       "      <td>0.91456</td>\n",
       "      <td>0.92948</td>\n",
       "      <td>0.89262</td>\n",
       "      <td>0.92361</td>\n",
       "      <td>0.90698</td>\n",
       "    </tr>\n",
       "    <tr>\n",
       "      <th>RF</th>\n",
       "      <td>0.92089</td>\n",
       "      <td>0.93740</td>\n",
       "      <td>0.88387</td>\n",
       "      <td>0.95139</td>\n",
       "      <td>0.89535</td>\n",
       "    </tr>\n",
       "  </tbody>\n",
       "</table>\n",
       "</div>"
      ],
      "text/plain": [
       "        Accuracy  Mean accuracy  Precision  Sensitivity (Recall)  Specificity\n",
       "Method                                                                       \n",
       "LDA      0.87658        0.89620    0.92683               0.79167      0.94767\n",
       "SVM      0.91456        0.92948    0.89262               0.92361      0.90698\n",
       "RF       0.92089        0.93740    0.88387               0.95139      0.89535"
      ]
     },
     "execution_count": 231,
     "metadata": {},
     "output_type": "execute_result"
    }
   ],
   "source": [
    "b_result_LA_LR3.set_index([\"Method\"], inplace=True)\n",
    "b_result_LA_LR3 "
   ]
  },
  {
   "cell_type": "code",
   "execution_count": 226,
   "metadata": {},
   "outputs": [],
   "source": [
    "X_train_LA_LR4, X_test_LA_LR4, y_train_LA_LR4, y_test_LA_LR4 = LA_LR_scheme(15)\n",
    "\n",
    "b_result_LA_LR4, b_lda_model_LA_LR4, b_lda_pred_val_LA_LR4, b_svm_model_LA_LR4, b_svm_pred_val_LA_LR4, b_rf_model_LA_LR4, b_rf_pred_val_LA_LR4 = \\\n",
    "                                                train_models(X_train_LA_LR4, X_test_LA_LR4, y_train_LA_LR4,y_test_LA_LR4)"
   ]
  },
  {
   "cell_type": "code",
   "execution_count": 227,
   "metadata": {},
   "outputs": [
    {
     "data": {
      "text/html": [
       "<div>\n",
       "<style scoped>\n",
       "    .dataframe tbody tr th:only-of-type {\n",
       "        vertical-align: middle;\n",
       "    }\n",
       "\n",
       "    .dataframe tbody tr th {\n",
       "        vertical-align: top;\n",
       "    }\n",
       "\n",
       "    .dataframe thead th {\n",
       "        text-align: right;\n",
       "    }\n",
       "</style>\n",
       "<table border=\"1\" class=\"dataframe\">\n",
       "  <thead>\n",
       "    <tr style=\"text-align: right;\">\n",
       "      <th></th>\n",
       "      <th>Accuracy</th>\n",
       "      <th>Mean accuracy</th>\n",
       "      <th>Precision</th>\n",
       "      <th>Sensitivity (Recall)</th>\n",
       "      <th>Specificity</th>\n",
       "    </tr>\n",
       "    <tr>\n",
       "      <th>Method</th>\n",
       "      <th></th>\n",
       "      <th></th>\n",
       "      <th></th>\n",
       "      <th></th>\n",
       "      <th></th>\n",
       "    </tr>\n",
       "  </thead>\n",
       "  <tbody>\n",
       "    <tr>\n",
       "      <th>LDA</th>\n",
       "      <td>0.90823</td>\n",
       "      <td>0.88824</td>\n",
       "      <td>0.94521</td>\n",
       "      <td>0.86792</td>\n",
       "      <td>0.94904</td>\n",
       "    </tr>\n",
       "    <tr>\n",
       "      <th>SVM</th>\n",
       "      <td>0.93038</td>\n",
       "      <td>0.92076</td>\n",
       "      <td>0.93631</td>\n",
       "      <td>0.92453</td>\n",
       "      <td>0.93631</td>\n",
       "    </tr>\n",
       "    <tr>\n",
       "      <th>RF</th>\n",
       "      <td>0.94304</td>\n",
       "      <td>0.92472</td>\n",
       "      <td>0.94340</td>\n",
       "      <td>0.94340</td>\n",
       "      <td>0.94268</td>\n",
       "    </tr>\n",
       "  </tbody>\n",
       "</table>\n",
       "</div>"
      ],
      "text/plain": [
       "        Accuracy  Mean accuracy  Precision  Sensitivity (Recall)  Specificity\n",
       "Method                                                                       \n",
       "LDA      0.90823        0.88824    0.94521               0.86792      0.94904\n",
       "SVM      0.93038        0.92076    0.93631               0.92453      0.93631\n",
       "RF       0.94304        0.92472    0.94340               0.94340      0.94268"
      ]
     },
     "execution_count": 227,
     "metadata": {},
     "output_type": "execute_result"
    }
   ],
   "source": [
    "b_result_LA_LR4.set_index([\"Method\"], inplace=True)\n",
    "b_result_LA_LR4 "
   ]
  },
  {
   "cell_type": "code",
   "execution_count": 228,
   "metadata": {},
   "outputs": [],
   "source": [
    "X_train_LA_LR5, X_test_LA_LR5, y_train_LA_LR5, y_test_LA_LR5 = LA_LR_scheme(20)\n",
    "\n",
    "b_result_LA_LR5, b_lda_model_LA_LR5, b_lda_pred_val_LA_LR5, b_svm_model_LA_LR5, b_svm_pred_val_LA_LR5, b_rf_model_LA_LR5, b_rf_pred_val_LA_LR5 = \\\n",
    "                                                train_models(X_train_LA_LR5, X_test_LA_LR5, y_train_LA_LR5,y_test_LA_LR5)"
   ]
  },
  {
   "cell_type": "code",
   "execution_count": 302,
   "metadata": {},
   "outputs": [
    {
     "data": {
      "text/html": [
       "<div>\n",
       "<style scoped>\n",
       "    .dataframe tbody tr th:only-of-type {\n",
       "        vertical-align: middle;\n",
       "    }\n",
       "\n",
       "    .dataframe tbody tr th {\n",
       "        vertical-align: top;\n",
       "    }\n",
       "\n",
       "    .dataframe thead th {\n",
       "        text-align: right;\n",
       "    }\n",
       "</style>\n",
       "<table border=\"1\" class=\"dataframe\">\n",
       "  <thead>\n",
       "    <tr style=\"text-align: right;\">\n",
       "      <th></th>\n",
       "      <th>Accuracy</th>\n",
       "      <th>Mean accuracy</th>\n",
       "      <th>Precision</th>\n",
       "      <th>Sensitivity (Recall)</th>\n",
       "      <th>Specificity</th>\n",
       "    </tr>\n",
       "    <tr>\n",
       "      <th>Method</th>\n",
       "      <th></th>\n",
       "      <th></th>\n",
       "      <th></th>\n",
       "      <th></th>\n",
       "      <th></th>\n",
       "    </tr>\n",
       "  </thead>\n",
       "  <tbody>\n",
       "    <tr>\n",
       "      <th>LDA</th>\n",
       "      <td>0.90823</td>\n",
       "      <td>0.88824</td>\n",
       "      <td>0.94521</td>\n",
       "      <td>0.86792</td>\n",
       "      <td>0.94904</td>\n",
       "    </tr>\n",
       "    <tr>\n",
       "      <th>SVM</th>\n",
       "      <td>0.94620</td>\n",
       "      <td>0.92076</td>\n",
       "      <td>0.94375</td>\n",
       "      <td>0.94969</td>\n",
       "      <td>0.94268</td>\n",
       "    </tr>\n",
       "    <tr>\n",
       "      <th>RF</th>\n",
       "      <td>0.94304</td>\n",
       "      <td>0.92472</td>\n",
       "      <td>0.93789</td>\n",
       "      <td>0.94969</td>\n",
       "      <td>0.93631</td>\n",
       "    </tr>\n",
       "  </tbody>\n",
       "</table>\n",
       "</div>"
      ],
      "text/plain": [
       "        Accuracy  Mean accuracy  Precision  Sensitivity (Recall)  Specificity\n",
       "Method                                                                       \n",
       "LDA      0.90823        0.88824    0.94521               0.86792      0.94904\n",
       "SVM      0.94620        0.92076    0.94375               0.94969      0.94268\n",
       "RF       0.94304        0.92472    0.93789               0.94969      0.93631"
      ]
     },
     "execution_count": 302,
     "metadata": {},
     "output_type": "execute_result"
    }
   ],
   "source": [
    "#b_result_LA_LR5.set_index([\"Method\"], inplace=True)\n",
    "b_result_LA_LR5 "
   ]
  },
  {
   "cell_type": "markdown",
   "metadata": {},
   "source": [
    "## Using ADASYN"
   ]
  },
  {
   "cell_type": "code",
   "execution_count": 71,
   "metadata": {},
   "outputs": [],
   "source": [
    "X_train_ada, X_test_ada, y_train_ada, y_test_ada = data_preparation_scheme(s_num=2)\n",
    "\n",
    "ada_result_1, ada_lda_model_1, ada_lda_pred_val_1, ada_svm_model_1, ada_svm_pred_val_1, ada_rf_model_1, ada_rf_pred_val_1 = \\\n",
    "                                                train_models(X_train_ada, X_test_ada, y_train_ada,y_test_ada)"
   ]
  },
  {
   "cell_type": "code",
   "execution_count": 76,
   "metadata": {},
   "outputs": [
    {
     "data": {
      "text/html": [
       "<div>\n",
       "<style scoped>\n",
       "    .dataframe tbody tr th:only-of-type {\n",
       "        vertical-align: middle;\n",
       "    }\n",
       "\n",
       "    .dataframe tbody tr th {\n",
       "        vertical-align: top;\n",
       "    }\n",
       "\n",
       "    .dataframe thead th {\n",
       "        text-align: right;\n",
       "    }\n",
       "</style>\n",
       "<table border=\"1\" class=\"dataframe\">\n",
       "  <thead>\n",
       "    <tr style=\"text-align: right;\">\n",
       "      <th></th>\n",
       "      <th>Accuracy</th>\n",
       "      <th>Mean accuracy</th>\n",
       "      <th>Precision</th>\n",
       "      <th>Sensitivity (Recall)</th>\n",
       "      <th>Specificity</th>\n",
       "    </tr>\n",
       "    <tr>\n",
       "      <th>Method</th>\n",
       "      <th></th>\n",
       "      <th></th>\n",
       "      <th></th>\n",
       "      <th></th>\n",
       "      <th></th>\n",
       "    </tr>\n",
       "  </thead>\n",
       "  <tbody>\n",
       "    <tr>\n",
       "      <th>LDA</th>\n",
       "      <td>0.76972</td>\n",
       "      <td>0.76730</td>\n",
       "      <td>0.81818</td>\n",
       "      <td>0.68790</td>\n",
       "      <td>0.85000</td>\n",
       "    </tr>\n",
       "    <tr>\n",
       "      <th>SVM</th>\n",
       "      <td>0.92744</td>\n",
       "      <td>0.93829</td>\n",
       "      <td>0.88953</td>\n",
       "      <td>0.97452</td>\n",
       "      <td>0.88125</td>\n",
       "    </tr>\n",
       "    <tr>\n",
       "      <th>RF</th>\n",
       "      <td>0.90221</td>\n",
       "      <td>0.93592</td>\n",
       "      <td>0.91447</td>\n",
       "      <td>0.88535</td>\n",
       "      <td>0.91875</td>\n",
       "    </tr>\n",
       "  </tbody>\n",
       "</table>\n",
       "</div>"
      ],
      "text/plain": [
       "        Accuracy  Mean accuracy  Precision  Sensitivity (Recall)  Specificity\n",
       "Method                                                                       \n",
       "LDA      0.76972        0.76730    0.81818               0.68790      0.85000\n",
       "SVM      0.92744        0.93829    0.88953               0.97452      0.88125\n",
       "RF       0.90221        0.93592    0.91447               0.88535      0.91875"
      ]
     },
     "execution_count": 76,
     "metadata": {},
     "output_type": "execute_result"
    }
   ],
   "source": [
    "ada_result_1.set_index([\"Method\"], inplace=True)\n",
    "ada_result_1"
   ]
  },
  {
   "cell_type": "code",
   "execution_count": 167,
   "metadata": {},
   "outputs": [
    {
     "data": {
      "text/plain": [
       "{'bootstrap': False,\n",
       " 'criterion': 'gini',\n",
       " 'max_depth': 9,\n",
       " 'max_features': 6,\n",
       " 'min_samples_split': 3,\n",
       " 'n_estimators': 727}"
      ]
     },
     "execution_count": 167,
     "metadata": {},
     "output_type": "execute_result"
    }
   ],
   "source": [
    "ada_rf_model_1.best_params_"
   ]
  },
  {
   "cell_type": "code",
   "execution_count": 220,
   "metadata": {},
   "outputs": [
    {
     "data": {
      "text/html": [
       "<div>\n",
       "<style scoped>\n",
       "    .dataframe tbody tr th:only-of-type {\n",
       "        vertical-align: middle;\n",
       "    }\n",
       "\n",
       "    .dataframe tbody tr th {\n",
       "        vertical-align: top;\n",
       "    }\n",
       "\n",
       "    .dataframe thead th {\n",
       "        text-align: right;\n",
       "    }\n",
       "</style>\n",
       "<table border=\"1\" class=\"dataframe\">\n",
       "  <thead>\n",
       "    <tr style=\"text-align: right;\">\n",
       "      <th></th>\n",
       "      <th>Importance in percentage</th>\n",
       "    </tr>\n",
       "    <tr>\n",
       "      <th>Metric</th>\n",
       "      <th></th>\n",
       "    </tr>\n",
       "  </thead>\n",
       "  <tbody>\n",
       "    <tr>\n",
       "      <th>x_metric_Deposit_Mean</th>\n",
       "      <td>0.08745</td>\n",
       "    </tr>\n",
       "    <tr>\n",
       "      <th>Retardance_Lin_Deposit_Std</th>\n",
       "      <td>0.08552</td>\n",
       "    </tr>\n",
       "    <tr>\n",
       "      <th>Diattenuation_Circ_Deposit_Std</th>\n",
       "      <td>0.08035</td>\n",
       "    </tr>\n",
       "    <tr>\n",
       "      <th>Retardance_Lin_Deposit_Mean</th>\n",
       "      <td>0.06285</td>\n",
       "    </tr>\n",
       "    <tr>\n",
       "      <th>Polarizance_Circ_Deposit_Std</th>\n",
       "      <td>0.05558</td>\n",
       "    </tr>\n",
       "    <tr>\n",
       "      <th>Anisotropy_Lin_Deposit_Std</th>\n",
       "      <td>0.04126</td>\n",
       "    </tr>\n",
       "    <tr>\n",
       "      <th>Anisotropy_Lin_Deposit_Mean</th>\n",
       "      <td>0.03851</td>\n",
       "    </tr>\n",
       "    <tr>\n",
       "      <th>Retardance_Circ_Deposit_Std</th>\n",
       "      <td>0.03825</td>\n",
       "    </tr>\n",
       "    <tr>\n",
       "      <th>Q_metric_Deposit_Mean</th>\n",
       "      <td>0.03432</td>\n",
       "    </tr>\n",
       "    <tr>\n",
       "      <th>Polarizance_Lin_Deposit_Std</th>\n",
       "      <td>0.03398</td>\n",
       "    </tr>\n",
       "    <tr>\n",
       "      <th>Q_metric_Deposit_Std</th>\n",
       "      <td>0.03048</td>\n",
       "    </tr>\n",
       "    <tr>\n",
       "      <th>Retardance_Circ_Deposit_Mean</th>\n",
       "      <td>0.03008</td>\n",
       "    </tr>\n",
       "    <tr>\n",
       "      <th>Depolarization_Power_Deposit_Mean</th>\n",
       "      <td>0.02889</td>\n",
       "    </tr>\n",
       "    <tr>\n",
       "      <th>Anisotropy_Circ_Deposit_Mean</th>\n",
       "      <td>0.02867</td>\n",
       "    </tr>\n",
       "    <tr>\n",
       "      <th>b_metric_Deposit_Std</th>\n",
       "      <td>0.02863</td>\n",
       "    </tr>\n",
       "    <tr>\n",
       "      <th>x_metric_Deposit_Std</th>\n",
       "      <td>0.02738</td>\n",
       "    </tr>\n",
       "    <tr>\n",
       "      <th>Depolarization_Power_Deposit_Std</th>\n",
       "      <td>0.02688</td>\n",
       "    </tr>\n",
       "    <tr>\n",
       "      <th>t_metric_Deposit_Std</th>\n",
       "      <td>0.02682</td>\n",
       "    </tr>\n",
       "    <tr>\n",
       "      <th>Diattenuation_Circ_Deposit_Mean</th>\n",
       "      <td>0.02560</td>\n",
       "    </tr>\n",
       "    <tr>\n",
       "      <th>Polarizance_Lin_Deposit_Mean</th>\n",
       "      <td>0.02442</td>\n",
       "    </tr>\n",
       "    <tr>\n",
       "      <th>Polarizance_Circ_Deposit_Mean</th>\n",
       "      <td>0.02359</td>\n",
       "    </tr>\n",
       "    <tr>\n",
       "      <th>A_metric_Deposit_Std</th>\n",
       "      <td>0.02349</td>\n",
       "    </tr>\n",
       "    <tr>\n",
       "      <th>A_metric_Deposit_Mean</th>\n",
       "      <td>0.02254</td>\n",
       "    </tr>\n",
       "    <tr>\n",
       "      <th>Diattenuation_Lin_Deposit_Std</th>\n",
       "      <td>0.02143</td>\n",
       "    </tr>\n",
       "    <tr>\n",
       "      <th>t_metric_Deposit_Mean</th>\n",
       "      <td>0.02110</td>\n",
       "    </tr>\n",
       "    <tr>\n",
       "      <th>Diattenuation_Lin_Deposit_Mean</th>\n",
       "      <td>0.01980</td>\n",
       "    </tr>\n",
       "    <tr>\n",
       "      <th>Anisotropy_Circ_Deposit_Std</th>\n",
       "      <td>0.01691</td>\n",
       "    </tr>\n",
       "    <tr>\n",
       "      <th>b_metric_Deposit_Mean</th>\n",
       "      <td>0.01523</td>\n",
       "    </tr>\n",
       "  </tbody>\n",
       "</table>\n",
       "</div>"
      ],
      "text/plain": [
       "                                   Importance in percentage\n",
       "Metric                                                     \n",
       "x_metric_Deposit_Mean                               0.08745\n",
       "Retardance_Lin_Deposit_Std                          0.08552\n",
       "Diattenuation_Circ_Deposit_Std                      0.08035\n",
       "Retardance_Lin_Deposit_Mean                         0.06285\n",
       "Polarizance_Circ_Deposit_Std                        0.05558\n",
       "Anisotropy_Lin_Deposit_Std                          0.04126\n",
       "Anisotropy_Lin_Deposit_Mean                         0.03851\n",
       "Retardance_Circ_Deposit_Std                         0.03825\n",
       "Q_metric_Deposit_Mean                               0.03432\n",
       "Polarizance_Lin_Deposit_Std                         0.03398\n",
       "Q_metric_Deposit_Std                                0.03048\n",
       "Retardance_Circ_Deposit_Mean                        0.03008\n",
       "Depolarization_Power_Deposit_Mean                   0.02889\n",
       "Anisotropy_Circ_Deposit_Mean                        0.02867\n",
       "b_metric_Deposit_Std                                0.02863\n",
       "x_metric_Deposit_Std                                0.02738\n",
       "Depolarization_Power_Deposit_Std                    0.02688\n",
       "t_metric_Deposit_Std                                0.02682\n",
       "Diattenuation_Circ_Deposit_Mean                     0.02560\n",
       "Polarizance_Lin_Deposit_Mean                        0.02442\n",
       "Polarizance_Circ_Deposit_Mean                       0.02359\n",
       "A_metric_Deposit_Std                                0.02349\n",
       "A_metric_Deposit_Mean                               0.02254\n",
       "Diattenuation_Lin_Deposit_Std                       0.02143\n",
       "t_metric_Deposit_Mean                               0.02110\n",
       "Diattenuation_Lin_Deposit_Mean                      0.01980\n",
       "Anisotropy_Circ_Deposit_Std                         0.01691\n",
       "b_metric_Deposit_Mean                               0.01523"
      ]
     },
     "execution_count": 220,
     "metadata": {},
     "output_type": "execute_result"
    }
   ],
   "source": [
    "feature_names = list(dfd.columns[0:-2].values)\n",
    "feature_names_2 = feature_names[:28]\n",
    "\n",
    "feature_importance_2 = ada_rf_model_1.best_estimator_.feature_importances_\n",
    "importance_table_2 = fimportance_dataframe(feature_names_2,feature_importance_2)\n",
    "\n",
    "importance_table_2.set_index([\"Metric\"])"
   ]
  },
  {
   "cell_type": "markdown",
   "metadata": {},
   "source": [
    "## Using borderlineSMOTE "
   ]
  },
  {
   "cell_type": "markdown",
   "metadata": {},
   "source": [
    "The 1st test"
   ]
  },
  {
   "cell_type": "code",
   "execution_count": 80,
   "metadata": {},
   "outputs": [],
   "source": [
    "X_train_BS, X_test_BS, y_train_BS, y_test_BS = data_preparation_scheme(s_num=3)\n",
    "\n",
    "BS_result_1, BS_lda_model_1, BS_lda_pred_val_1, BS_svm_model_1, BS_svm_pred_val_1, BS_rf_model_1, BS_rf_pred_val_1 = \\\n",
    "                                                train_models(X_train_BS, X_test_BS, y_train_BS,y_test_BS)"
   ]
  },
  {
   "cell_type": "code",
   "execution_count": 233,
   "metadata": {},
   "outputs": [
    {
     "data": {
      "text/plain": [
       "Counter({0: 789, 1: 789})"
      ]
     },
     "execution_count": 233,
     "metadata": {},
     "output_type": "execute_result"
    }
   ],
   "source": [
    "import collections\n",
    "collections.Counter(np.append(y_train_BS,y_test_BS))"
   ]
  },
  {
   "cell_type": "code",
   "execution_count": 259,
   "metadata": {},
   "outputs": [
    {
     "data": {
      "text/html": [
       "<div>\n",
       "<style scoped>\n",
       "    .dataframe tbody tr th:only-of-type {\n",
       "        vertical-align: middle;\n",
       "    }\n",
       "\n",
       "    .dataframe tbody tr th {\n",
       "        vertical-align: top;\n",
       "    }\n",
       "\n",
       "    .dataframe thead th {\n",
       "        text-align: right;\n",
       "    }\n",
       "</style>\n",
       "<table border=\"1\" class=\"dataframe\">\n",
       "  <thead>\n",
       "    <tr style=\"text-align: right;\">\n",
       "      <th></th>\n",
       "      <th>Accuracy</th>\n",
       "      <th>Mean accuracy</th>\n",
       "      <th>Precision</th>\n",
       "      <th>Sensitivity (Recall)</th>\n",
       "      <th>Specificity</th>\n",
       "    </tr>\n",
       "    <tr>\n",
       "      <th>Method</th>\n",
       "      <th></th>\n",
       "      <th></th>\n",
       "      <th></th>\n",
       "      <th></th>\n",
       "      <th></th>\n",
       "    </tr>\n",
       "  </thead>\n",
       "  <tbody>\n",
       "    <tr>\n",
       "      <th>LDA</th>\n",
       "      <td>0.78165</td>\n",
       "      <td>0.79242</td>\n",
       "      <td>0.83226</td>\n",
       "      <td>0.75000</td>\n",
       "      <td>0.81944</td>\n",
       "    </tr>\n",
       "    <tr>\n",
       "      <th>SVM</th>\n",
       "      <td>0.92405</td>\n",
       "      <td>0.92393</td>\n",
       "      <td>0.94578</td>\n",
       "      <td>0.91279</td>\n",
       "      <td>0.93750</td>\n",
       "    </tr>\n",
       "    <tr>\n",
       "      <th>RF</th>\n",
       "      <td>0.93354</td>\n",
       "      <td>0.93185</td>\n",
       "      <td>0.93642</td>\n",
       "      <td>0.94186</td>\n",
       "      <td>0.92361</td>\n",
       "    </tr>\n",
       "  </tbody>\n",
       "</table>\n",
       "</div>"
      ],
      "text/plain": [
       "        Accuracy  Mean accuracy  Precision  Sensitivity (Recall)  Specificity\n",
       "Method                                                                       \n",
       "LDA      0.78165        0.79242    0.83226               0.75000      0.81944\n",
       "SVM      0.92405        0.92393    0.94578               0.91279      0.93750\n",
       "RF       0.93354        0.93185    0.93642               0.94186      0.92361"
      ]
     },
     "execution_count": 259,
     "metadata": {},
     "output_type": "execute_result"
    }
   ],
   "source": [
    "BS_result_1.set_index([\"Method\"], inplace=True)\n",
    "BS_result_1"
   ]
  },
  {
   "cell_type": "code",
   "execution_count": 260,
   "metadata": {},
   "outputs": [
    {
     "data": {
      "text/plain": [
       "{'bootstrap': False,\n",
       " 'criterion': 'entropy',\n",
       " 'max_features': 4,\n",
       " 'min_samples_split': 2,\n",
       " 'n_estimators': 101}"
      ]
     },
     "execution_count": 260,
     "metadata": {},
     "output_type": "execute_result"
    }
   ],
   "source": [
    "BS_rf_model_1.best_params_"
   ]
  },
  {
   "cell_type": "code",
   "execution_count": 264,
   "metadata": {},
   "outputs": [
    {
     "data": {
      "text/html": [
       "<div>\n",
       "<style scoped>\n",
       "    .dataframe tbody tr th:only-of-type {\n",
       "        vertical-align: middle;\n",
       "    }\n",
       "\n",
       "    .dataframe tbody tr th {\n",
       "        vertical-align: top;\n",
       "    }\n",
       "\n",
       "    .dataframe thead th {\n",
       "        text-align: right;\n",
       "    }\n",
       "</style>\n",
       "<table border=\"1\" class=\"dataframe\">\n",
       "  <thead>\n",
       "    <tr style=\"text-align: right;\">\n",
       "      <th></th>\n",
       "      <th>Importance in percentage</th>\n",
       "    </tr>\n",
       "    <tr>\n",
       "      <th>Metric</th>\n",
       "      <th></th>\n",
       "    </tr>\n",
       "  </thead>\n",
       "  <tbody>\n",
       "    <tr>\n",
       "      <th>x_metric_Deposit_Mean</th>\n",
       "      <td>0.10079</td>\n",
       "    </tr>\n",
       "    <tr>\n",
       "      <th>Retardance_Lin_Deposit_Std</th>\n",
       "      <td>0.07078</td>\n",
       "    </tr>\n",
       "    <tr>\n",
       "      <th>Retardance_Circ_Deposit_Mean</th>\n",
       "      <td>0.06237</td>\n",
       "    </tr>\n",
       "    <tr>\n",
       "      <th>A_metric_Deposit_Std</th>\n",
       "      <td>0.05247</td>\n",
       "    </tr>\n",
       "    <tr>\n",
       "      <th>Diattenuation_Circ_Deposit_Std</th>\n",
       "      <td>0.04982</td>\n",
       "    </tr>\n",
       "    <tr>\n",
       "      <th>Anisotropy_Lin_Deposit_Mean</th>\n",
       "      <td>0.04956</td>\n",
       "    </tr>\n",
       "    <tr>\n",
       "      <th>Q_metric_Deposit_Std</th>\n",
       "      <td>0.04311</td>\n",
       "    </tr>\n",
       "    <tr>\n",
       "      <th>Retardance_Lin_Deposit_Mean</th>\n",
       "      <td>0.04119</td>\n",
       "    </tr>\n",
       "    <tr>\n",
       "      <th>Anisotropy_Circ_Deposit_Std</th>\n",
       "      <td>0.03667</td>\n",
       "    </tr>\n",
       "    <tr>\n",
       "      <th>Diattenuation_Lin_Deposit_Std</th>\n",
       "      <td>0.03422</td>\n",
       "    </tr>\n",
       "    <tr>\n",
       "      <th>Anisotropy_Lin_Deposit_Std</th>\n",
       "      <td>0.03382</td>\n",
       "    </tr>\n",
       "    <tr>\n",
       "      <th>Polarizance_Lin_Deposit_Std</th>\n",
       "      <td>0.03356</td>\n",
       "    </tr>\n",
       "    <tr>\n",
       "      <th>Q_metric_Deposit_Mean</th>\n",
       "      <td>0.03300</td>\n",
       "    </tr>\n",
       "    <tr>\n",
       "      <th>A_metric_Deposit_Mean</th>\n",
       "      <td>0.03128</td>\n",
       "    </tr>\n",
       "    <tr>\n",
       "      <th>b_metric_Deposit_Mean</th>\n",
       "      <td>0.02975</td>\n",
       "    </tr>\n",
       "    <tr>\n",
       "      <th>Depolarization_Power_Deposit_Mean</th>\n",
       "      <td>0.02970</td>\n",
       "    </tr>\n",
       "    <tr>\n",
       "      <th>t_metric_Deposit_Mean</th>\n",
       "      <td>0.02855</td>\n",
       "    </tr>\n",
       "    <tr>\n",
       "      <th>x_metric_Deposit_Std</th>\n",
       "      <td>0.02773</td>\n",
       "    </tr>\n",
       "    <tr>\n",
       "      <th>Depolarization_Power_Deposit_Std</th>\n",
       "      <td>0.02754</td>\n",
       "    </tr>\n",
       "    <tr>\n",
       "      <th>Anisotropy_Circ_Deposit_Mean</th>\n",
       "      <td>0.02704</td>\n",
       "    </tr>\n",
       "    <tr>\n",
       "      <th>Diattenuation_Circ_Deposit_Mean</th>\n",
       "      <td>0.02537</td>\n",
       "    </tr>\n",
       "    <tr>\n",
       "      <th>Diattenuation_Lin_Deposit_Mean</th>\n",
       "      <td>0.02472</td>\n",
       "    </tr>\n",
       "    <tr>\n",
       "      <th>Polarizance_Circ_Deposit_Mean</th>\n",
       "      <td>0.02126</td>\n",
       "    </tr>\n",
       "    <tr>\n",
       "      <th>Polarizance_Circ_Deposit_Std</th>\n",
       "      <td>0.02026</td>\n",
       "    </tr>\n",
       "    <tr>\n",
       "      <th>Polarizance_Lin_Deposit_Mean</th>\n",
       "      <td>0.01791</td>\n",
       "    </tr>\n",
       "    <tr>\n",
       "      <th>Retardance_Circ_Deposit_Std</th>\n",
       "      <td>0.01701</td>\n",
       "    </tr>\n",
       "    <tr>\n",
       "      <th>t_metric_Deposit_Std</th>\n",
       "      <td>0.01554</td>\n",
       "    </tr>\n",
       "    <tr>\n",
       "      <th>b_metric_Deposit_Std</th>\n",
       "      <td>0.01499</td>\n",
       "    </tr>\n",
       "  </tbody>\n",
       "</table>\n",
       "</div>"
      ],
      "text/plain": [
       "                                   Importance in percentage\n",
       "Metric                                                     \n",
       "x_metric_Deposit_Mean                               0.10079\n",
       "Retardance_Lin_Deposit_Std                          0.07078\n",
       "Retardance_Circ_Deposit_Mean                        0.06237\n",
       "A_metric_Deposit_Std                                0.05247\n",
       "Diattenuation_Circ_Deposit_Std                      0.04982\n",
       "Anisotropy_Lin_Deposit_Mean                         0.04956\n",
       "Q_metric_Deposit_Std                                0.04311\n",
       "Retardance_Lin_Deposit_Mean                         0.04119\n",
       "Anisotropy_Circ_Deposit_Std                         0.03667\n",
       "Diattenuation_Lin_Deposit_Std                       0.03422\n",
       "Anisotropy_Lin_Deposit_Std                          0.03382\n",
       "Polarizance_Lin_Deposit_Std                         0.03356\n",
       "Q_metric_Deposit_Mean                               0.03300\n",
       "A_metric_Deposit_Mean                               0.03128\n",
       "b_metric_Deposit_Mean                               0.02975\n",
       "Depolarization_Power_Deposit_Mean                   0.02970\n",
       "t_metric_Deposit_Mean                               0.02855\n",
       "x_metric_Deposit_Std                                0.02773\n",
       "Depolarization_Power_Deposit_Std                    0.02754\n",
       "Anisotropy_Circ_Deposit_Mean                        0.02704\n",
       "Diattenuation_Circ_Deposit_Mean                     0.02537\n",
       "Diattenuation_Lin_Deposit_Mean                      0.02472\n",
       "Polarizance_Circ_Deposit_Mean                       0.02126\n",
       "Polarizance_Circ_Deposit_Std                        0.02026\n",
       "Polarizance_Lin_Deposit_Mean                        0.01791\n",
       "Retardance_Circ_Deposit_Std                         0.01701\n",
       "t_metric_Deposit_Std                                0.01554\n",
       "b_metric_Deposit_Std                                0.01499"
      ]
     },
     "execution_count": 264,
     "metadata": {},
     "output_type": "execute_result"
    }
   ],
   "source": [
    "feature_names = list(dfd.columns[0:-2].values)\n",
    "feature_names_3 = feature_names[:28]\n",
    "\n",
    "feature_importance_3 = BS_rf_model_1.best_estimator_.feature_importances_\n",
    "importance_table_3 = fimportance_dataframe(feature_names_3,feature_importance_3)\n",
    "\n",
    "importance_table_3.set_index([\"Metric\"])"
   ]
  },
  {
   "cell_type": "markdown",
   "metadata": {},
   "source": [
    "The 2nd test"
   ]
  },
  {
   "cell_type": "code",
   "execution_count": 212,
   "metadata": {},
   "outputs": [],
   "source": [
    "X_train_BS_2, X_test_BS_2, y_train_BS_2, y_test_BS_2 = data_preparation_scheme(s_num=3,random_seed=1)\n",
    "\n",
    "BS_result_2, BS_lda_model_2, BS_lda_pred_val_2, BS_svm_model_2, BS_svm_pred_val_2, BS_rf_model_2, BS_rf_pred_val_2 = \\\n",
    "                                                train_models(X_train_BS_2, X_test_BS_2, y_train_BS_2,y_test_BS_2)"
   ]
  },
  {
   "cell_type": "code",
   "execution_count": 213,
   "metadata": {},
   "outputs": [
    {
     "data": {
      "text/html": [
       "<div>\n",
       "<style scoped>\n",
       "    .dataframe tbody tr th:only-of-type {\n",
       "        vertical-align: middle;\n",
       "    }\n",
       "\n",
       "    .dataframe tbody tr th {\n",
       "        vertical-align: top;\n",
       "    }\n",
       "\n",
       "    .dataframe thead th {\n",
       "        text-align: right;\n",
       "    }\n",
       "</style>\n",
       "<table border=\"1\" class=\"dataframe\">\n",
       "  <thead>\n",
       "    <tr style=\"text-align: right;\">\n",
       "      <th></th>\n",
       "      <th>Accuracy</th>\n",
       "      <th>Mean accuracy</th>\n",
       "      <th>Precision</th>\n",
       "      <th>Sensitivity (Recall)</th>\n",
       "      <th>Specificity</th>\n",
       "    </tr>\n",
       "    <tr>\n",
       "      <th>Method</th>\n",
       "      <th></th>\n",
       "      <th></th>\n",
       "      <th></th>\n",
       "      <th></th>\n",
       "      <th></th>\n",
       "    </tr>\n",
       "  </thead>\n",
       "  <tbody>\n",
       "    <tr>\n",
       "      <th>LDA</th>\n",
       "      <td>0.81013</td>\n",
       "      <td>0.80989</td>\n",
       "      <td>0.85430</td>\n",
       "      <td>0.77246</td>\n",
       "      <td>0.85235</td>\n",
       "    </tr>\n",
       "    <tr>\n",
       "      <th>SVM</th>\n",
       "      <td>0.93038</td>\n",
       "      <td>0.93027</td>\n",
       "      <td>0.95031</td>\n",
       "      <td>0.91617</td>\n",
       "      <td>0.94631</td>\n",
       "    </tr>\n",
       "    <tr>\n",
       "      <th>RF</th>\n",
       "      <td>0.94937</td>\n",
       "      <td>0.94691</td>\n",
       "      <td>0.97484</td>\n",
       "      <td>0.92814</td>\n",
       "      <td>0.97315</td>\n",
       "    </tr>\n",
       "  </tbody>\n",
       "</table>\n",
       "</div>"
      ],
      "text/plain": [
       "        Accuracy  Mean accuracy  Precision  Sensitivity (Recall)  Specificity\n",
       "Method                                                                       \n",
       "LDA      0.81013        0.80989    0.85430               0.77246      0.85235\n",
       "SVM      0.93038        0.93027    0.95031               0.91617      0.94631\n",
       "RF       0.94937        0.94691    0.97484               0.92814      0.97315"
      ]
     },
     "execution_count": 213,
     "metadata": {},
     "output_type": "execute_result"
    }
   ],
   "source": [
    "BS_result_2.set_index([\"Method\"], inplace=True)\n",
    "BS_result_2"
   ]
  },
  {
   "cell_type": "code",
   "execution_count": 206,
   "metadata": {},
   "outputs": [
    {
     "data": {
      "text/plain": [
       "{'degree': 2, 'gamma': 0.1, 'kernel': 'rbf', 'shrinking': False}"
      ]
     },
     "execution_count": 206,
     "metadata": {},
     "output_type": "execute_result"
    }
   ],
   "source": [
    "BS_svm_model_1.best_params_"
   ]
  },
  {
   "cell_type": "code",
   "execution_count": 207,
   "metadata": {},
   "outputs": [
    {
     "data": {
      "text/plain": [
       "{'degree': 3, 'gamma': 0.1, 'kernel': 'rbf', 'shrinking': False}"
      ]
     },
     "execution_count": 207,
     "metadata": {},
     "output_type": "execute_result"
    }
   ],
   "source": [
    "BS_svm_model_2.best_params_"
   ]
  },
  {
   "cell_type": "markdown",
   "metadata": {},
   "source": [
    "The 3rd test"
   ]
  },
  {
   "cell_type": "code",
   "execution_count": 214,
   "metadata": {},
   "outputs": [],
   "source": [
    "X_train_BS_3, X_test_BS_3, y_train_BS_3, y_test_BS_3 = data_preparation_scheme(s_num=3,random_seed=10)\n",
    "\n",
    "BS_result_3, BS_lda_model_3, BS_lda_pred_val_3, BS_svm_model_3, BS_svm_pred_val_3, BS_rf_model_3, BS_rf_pred_val_3 = \\\n",
    "                                                train_models(X_train_BS_3, X_test_BS_3, y_train_BS_3,y_test_BS_3)"
   ]
  },
  {
   "cell_type": "code",
   "execution_count": 215,
   "metadata": {},
   "outputs": [
    {
     "data": {
      "text/html": [
       "<div>\n",
       "<style scoped>\n",
       "    .dataframe tbody tr th:only-of-type {\n",
       "        vertical-align: middle;\n",
       "    }\n",
       "\n",
       "    .dataframe tbody tr th {\n",
       "        vertical-align: top;\n",
       "    }\n",
       "\n",
       "    .dataframe thead th {\n",
       "        text-align: right;\n",
       "    }\n",
       "</style>\n",
       "<table border=\"1\" class=\"dataframe\">\n",
       "  <thead>\n",
       "    <tr style=\"text-align: right;\">\n",
       "      <th></th>\n",
       "      <th>Accuracy</th>\n",
       "      <th>Mean accuracy</th>\n",
       "      <th>Precision</th>\n",
       "      <th>Sensitivity (Recall)</th>\n",
       "      <th>Specificity</th>\n",
       "    </tr>\n",
       "    <tr>\n",
       "      <th>Method</th>\n",
       "      <th></th>\n",
       "      <th></th>\n",
       "      <th></th>\n",
       "      <th></th>\n",
       "      <th></th>\n",
       "    </tr>\n",
       "  </thead>\n",
       "  <tbody>\n",
       "    <tr>\n",
       "      <th>LDA</th>\n",
       "      <td>0.80696</td>\n",
       "      <td>0.80752</td>\n",
       "      <td>0.80741</td>\n",
       "      <td>0.75694</td>\n",
       "      <td>0.84884</td>\n",
       "    </tr>\n",
       "    <tr>\n",
       "      <th>SVM</th>\n",
       "      <td>0.92405</td>\n",
       "      <td>0.93582</td>\n",
       "      <td>0.93478</td>\n",
       "      <td>0.89583</td>\n",
       "      <td>0.94767</td>\n",
       "    </tr>\n",
       "    <tr>\n",
       "      <th>RF</th>\n",
       "      <td>0.93354</td>\n",
       "      <td>0.94849</td>\n",
       "      <td>0.94891</td>\n",
       "      <td>0.90278</td>\n",
       "      <td>0.95930</td>\n",
       "    </tr>\n",
       "  </tbody>\n",
       "</table>\n",
       "</div>"
      ],
      "text/plain": [
       "        Accuracy  Mean accuracy  Precision  Sensitivity (Recall)  Specificity\n",
       "Method                                                                       \n",
       "LDA      0.80696        0.80752    0.80741               0.75694      0.84884\n",
       "SVM      0.92405        0.93582    0.93478               0.89583      0.94767\n",
       "RF       0.93354        0.94849    0.94891               0.90278      0.95930"
      ]
     },
     "execution_count": 215,
     "metadata": {},
     "output_type": "execute_result"
    }
   ],
   "source": [
    "BS_result_3.set_index([\"Method\"], inplace=True)\n",
    "BS_result_3"
   ]
  },
  {
   "cell_type": "markdown",
   "metadata": {},
   "source": [
    "The 4th test"
   ]
  },
  {
   "cell_type": "code",
   "execution_count": 216,
   "metadata": {},
   "outputs": [],
   "source": [
    "X_train_BS_4, X_test_BS_4, y_train_BS_4, y_test_BS_4 = data_preparation_scheme(s_num=3,random_seed=15)\n",
    "\n",
    "BS_result_4, BS_lda_model_4, BS_lda_pred_val_4, BS_svm_model_4, BS_svm_pred_val_4, BS_rf_model_4, BS_rf_pred_val_4 = \\\n",
    "                                                train_models(X_train_BS_4, X_test_BS_4, y_train_BS_4,y_test_BS_4)"
   ]
  },
  {
   "cell_type": "code",
   "execution_count": 217,
   "metadata": {},
   "outputs": [
    {
     "data": {
      "text/html": [
       "<div>\n",
       "<style scoped>\n",
       "    .dataframe tbody tr th:only-of-type {\n",
       "        vertical-align: middle;\n",
       "    }\n",
       "\n",
       "    .dataframe tbody tr th {\n",
       "        vertical-align: top;\n",
       "    }\n",
       "\n",
       "    .dataframe thead th {\n",
       "        text-align: right;\n",
       "    }\n",
       "</style>\n",
       "<table border=\"1\" class=\"dataframe\">\n",
       "  <thead>\n",
       "    <tr style=\"text-align: right;\">\n",
       "      <th></th>\n",
       "      <th>Accuracy</th>\n",
       "      <th>Mean accuracy</th>\n",
       "      <th>Precision</th>\n",
       "      <th>Sensitivity (Recall)</th>\n",
       "      <th>Specificity</th>\n",
       "    </tr>\n",
       "    <tr>\n",
       "      <th>Method</th>\n",
       "      <th></th>\n",
       "      <th></th>\n",
       "      <th></th>\n",
       "      <th></th>\n",
       "      <th></th>\n",
       "    </tr>\n",
       "  </thead>\n",
       "  <tbody>\n",
       "    <tr>\n",
       "      <th>LDA</th>\n",
       "      <td>0.83228</td>\n",
       "      <td>0.80747</td>\n",
       "      <td>0.87324</td>\n",
       "      <td>0.77987</td>\n",
       "      <td>0.88535</td>\n",
       "    </tr>\n",
       "    <tr>\n",
       "      <th>SVM</th>\n",
       "      <td>0.93671</td>\n",
       "      <td>0.93502</td>\n",
       "      <td>0.94839</td>\n",
       "      <td>0.92453</td>\n",
       "      <td>0.94904</td>\n",
       "    </tr>\n",
       "    <tr>\n",
       "      <th>RF</th>\n",
       "      <td>0.95886</td>\n",
       "      <td>0.95087</td>\n",
       "      <td>0.96203</td>\n",
       "      <td>0.95597</td>\n",
       "      <td>0.96178</td>\n",
       "    </tr>\n",
       "  </tbody>\n",
       "</table>\n",
       "</div>"
      ],
      "text/plain": [
       "        Accuracy  Mean accuracy  Precision  Sensitivity (Recall)  Specificity\n",
       "Method                                                                       \n",
       "LDA      0.83228        0.80747    0.87324               0.77987      0.88535\n",
       "SVM      0.93671        0.93502    0.94839               0.92453      0.94904\n",
       "RF       0.95886        0.95087    0.96203               0.95597      0.96178"
      ]
     },
     "execution_count": 217,
     "metadata": {},
     "output_type": "execute_result"
    }
   ],
   "source": [
    "BS_result_4.set_index([\"Method\"], inplace=True)\n",
    "BS_result_4"
   ]
  },
  {
   "cell_type": "markdown",
   "metadata": {},
   "source": [
    "The 5th test"
   ]
  },
  {
   "cell_type": "code",
   "execution_count": 218,
   "metadata": {},
   "outputs": [],
   "source": [
    "X_train_BS_5, X_test_BS_5, y_train_BS_5, y_test_BS_5 = data_preparation_scheme(s_num=3,random_seed=20)\n",
    "\n",
    "BS_result_5, BS_lda_model_5, BS_lda_pred_val_5, BS_svm_model_5, BS_svm_pred_val_5, BS_rf_model_5, BS_rf_pred_val_5 = \\\n",
    "                                                train_models(X_train_BS_5, X_test_BS_5, y_train_BS_5,y_test_BS_5)"
   ]
  },
  {
   "cell_type": "code",
   "execution_count": 219,
   "metadata": {},
   "outputs": [
    {
     "data": {
      "text/html": [
       "<div>\n",
       "<style scoped>\n",
       "    .dataframe tbody tr th:only-of-type {\n",
       "        vertical-align: middle;\n",
       "    }\n",
       "\n",
       "    .dataframe tbody tr th {\n",
       "        vertical-align: top;\n",
       "    }\n",
       "\n",
       "    .dataframe thead th {\n",
       "        text-align: right;\n",
       "    }\n",
       "</style>\n",
       "<table border=\"1\" class=\"dataframe\">\n",
       "  <thead>\n",
       "    <tr style=\"text-align: right;\">\n",
       "      <th></th>\n",
       "      <th>Accuracy</th>\n",
       "      <th>Mean accuracy</th>\n",
       "      <th>Precision</th>\n",
       "      <th>Sensitivity (Recall)</th>\n",
       "      <th>Specificity</th>\n",
       "    </tr>\n",
       "    <tr>\n",
       "      <th>Method</th>\n",
       "      <th></th>\n",
       "      <th></th>\n",
       "      <th></th>\n",
       "      <th></th>\n",
       "      <th></th>\n",
       "    </tr>\n",
       "  </thead>\n",
       "  <tbody>\n",
       "    <tr>\n",
       "      <th>LDA</th>\n",
       "      <td>0.82278</td>\n",
       "      <td>0.80751</td>\n",
       "      <td>0.85714</td>\n",
       "      <td>0.78261</td>\n",
       "      <td>0.86452</td>\n",
       "    </tr>\n",
       "    <tr>\n",
       "      <th>SVM</th>\n",
       "      <td>0.93354</td>\n",
       "      <td>0.92868</td>\n",
       "      <td>0.96667</td>\n",
       "      <td>0.90062</td>\n",
       "      <td>0.96774</td>\n",
       "    </tr>\n",
       "    <tr>\n",
       "      <th>RF</th>\n",
       "      <td>0.96203</td>\n",
       "      <td>0.94929</td>\n",
       "      <td>0.97452</td>\n",
       "      <td>0.95031</td>\n",
       "      <td>0.97419</td>\n",
       "    </tr>\n",
       "  </tbody>\n",
       "</table>\n",
       "</div>"
      ],
      "text/plain": [
       "        Accuracy  Mean accuracy  Precision  Sensitivity (Recall)  Specificity\n",
       "Method                                                                       \n",
       "LDA      0.82278        0.80751    0.85714               0.78261      0.86452\n",
       "SVM      0.93354        0.92868    0.96667               0.90062      0.96774\n",
       "RF       0.96203        0.94929    0.97452               0.95031      0.97419"
      ]
     },
     "execution_count": 219,
     "metadata": {},
     "output_type": "execute_result"
    }
   ],
   "source": [
    "BS_result_5.set_index([\"Method\"], inplace=True)\n",
    "BS_result_5"
   ]
  },
  {
   "cell_type": "code",
   "execution_count": null,
   "metadata": {},
   "outputs": [],
   "source": [
    "def data_preparation_scheme(s_num):\n",
    "    if s_num == 1: # train with background data\n",
    "        dfct = dfd[dfd[\"CrossedSignal\"]==1].copy()\n",
    "        \n",
    "        df_b = dfb.sample(n=658, random_state=42)\n",
    "        \n",
    "        oldname = [\"Depolarization_Power_Background_Mean\", \"Depolarization_Power_Background_Std\", \n",
    "                   \"Q_metric_Background_Mean\", \"Q_metric_Background_Std\",\n",
    "                   \"Anisotropy_Lin_Background_Mean\", \"Anisotropy_Lin_Background_Std\",\n",
    "                   \"Anisotropy_Circ_Background_Mean\", \"Anisotropy_Circ_Background_Std\",\n",
    "                   \"Polarizance_Lin_Background_Mean\", \"Polarizance_Lin_Background_Std\",\n",
    "                   \"Polarizance_Circ_Background_Mean\", \"Polarizance_Circ_Background_Std\",\n",
    "                   \"Diattenuation_Lin_Background_Mean\", \"Diattenuation_Lin_Background_Std\",\n",
    "                   \"Diattenuation_Circ_Background_Mean\", \"Diattenuation_Circ_Background_Std\",\n",
    "                   \"Retardance_Lin_Background_Mean\", \"Retardance_Lin_Background_Std\",\n",
    "                   \"Retardance_Circ_Background_Mean\", \"Retardance_Circ_Background_Std\",\n",
    "                   \"A_metric_Background_Mean\", \"A_metric_Background_Std\",\n",
    "                   \"b_metric_Background_Mean\", \"b_metric_Background_Std\",\n",
    "                   \"t_metric_Background_Mean\", \"t_metric_Background_Std\",\n",
    "                   \"x_metric_Background_Mean\", \"x_metric_Background_Std\",\n",
    "                   \"FluoroSignal\", \"CrossedSignal\"]\n",
    "        \n",
    "        newname = [\"Depolarization_Power_Deposit_Mean\", \"Depolarization_Power_Deposit_Std\", \n",
    "                   \"Q_metric_Deposit_Mean\", \"Q_metric_Deposit_Std\",\n",
    "                   \"Anisotropy_Lin_Deposit_Mean\", \"Anisotropy_Lin_Deposit_Std\",\n",
    "                   \"Anisotropy_Circ_Deposit_Mean\", \"Anisotropy_Circ_Deposit_Std\",\n",
    "                   \"Polarizance_Lin_Deposit_Mean\", \"Polarizance_Lin_Deposit_Std\",\n",
    "                   \"Polarizance_Circ_Deposit_Mean\", \"Polarizance_Circ_Deposit_Std\",\n",
    "                   \"Diattenuation_Lin_Deposit_Mean\", \"Diattenuation_Lin_Deposit_Std\",\n",
    "                   \"Diattenuation_Circ_Deposit_Mean\", \"Diattenuation_Circ_Deposit_Std\",\n",
    "                   \"Retardance_Lin_Deposit_Mean\", \"Retardance_Lin_Deposit_Std\",\n",
    "                   \"Retardance_Circ_Deposit_Mean\", \"Retardance_Circ_Deposit_Std\",\n",
    "                   \"A_metric_Deposit_Mean\", \"A_metric_Deposit_Std\",\n",
    "                   \"b_metric_Deposit_Mean\", \"b_metric_Deposit_Std\",\n",
    "                   \"t_metric_Deposit_Mean\", \"t_metric_Deposit_Std\",\n",
    "                   \"x_metric_Deposit_Mean\", \"x_metric_Deposit_Std\",\n",
    "                   \"FluoroSignal\", \"CrossedSignal\"]\n",
    "        \n",
    "        namedict = {oldname[i]: newname[i] for i in range(len(oldname))}\n",
    "        \n",
    "        df_b.rename(columns = namedict, inplace=True)\n",
    "        df_b[\"FluoroSignal\"] = np.zeros(df_b.shape[0], dtype=np.int32)\n",
    "        df_b[\"CrossedSignal\"] = np.zeros(df_b.shape[0], dtype=np.int32)\n",
    "        df_r = pd.concat([dfct,df_b])\n",
    "        \n",
    "        # prepare data and the labels\n",
    "        X_r = df_r.values[:,0:(df_r.shape[1]-2)]\n",
    "        y = df_r[\"FluoroSignal\"].values\n",
    "        \n",
    "        # Standardized X\n",
    "        scaler = preprocessing.StandardScaler().fit(X_r)\n",
    "        X = scaler.transform(X_r)\n",
    "        # Split train set and test set\n",
    "        X_train, X_test, y_train, y_test = train_test_split(X,y, test_size=0.2, random_state=1)\n",
    "        return X_train, X_test, y_train, y_test"
   ]
  },
  {
   "cell_type": "code",
   "execution_count": 277,
   "metadata": {},
   "outputs": [],
   "source": [
    "importance_table_3.to_csv(os.getcwd() + \"\\\\data\\\\FItable2.csv\")"
   ]
  },
  {
   "cell_type": "markdown",
   "metadata": {},
   "source": [
    "### ROC curve"
   ]
  },
  {
   "cell_type": "code",
   "execution_count": 133,
   "metadata": {},
   "outputs": [
    {
     "name": "stderr",
     "output_type": "stream",
     "text": [
      "C:\\Users\\y63qiu\\AppData\\Local\\Continuum\\anaconda3\\envs\\yorkml\\lib\\site-packages\\pandas\\core\\frame.py:6201: FutureWarning: Sorting because non-concatenation axis is not aligned. A future version\n",
      "of pandas will change to not sort by default.\n",
      "\n",
      "To accept the future behavior, pass 'sort=True'.\n",
      "\n",
      "To retain the current behavior and silence the warning, pass sort=False\n",
      "\n",
      "  sort=sort)\n"
     ]
    }
   ],
   "source": [
    "df_result_bs = pd.DataFrame({\"Method\": [], \"Accuracy\": [], \"Precision\": [], \"Sensitivity (Recall)\": [], \n",
    "                            \"Specificity\": [], \"Mean accuracy\": []})\n",
    "BS_svm_model_2 = train_svm(X_train_BS_2, y_train_BS_2)\n",
    "BS_svm_pred_val_2 = BS_svm_model_2.predict(X_test_BS_2)\n",
    "df_temp_BS = metric_scores(BS_svm_model_2, \"SVM\", y_test_BS_2,BS_svm_pred_val_2)\n",
    "df_result_bs = df_result_bs.append(df_temp_BS)"
   ]
  },
  {
   "cell_type": "code",
   "execution_count": 137,
   "metadata": {},
   "outputs": [
    {
     "data": {
      "text/html": [
       "<div>\n",
       "<style scoped>\n",
       "    .dataframe tbody tr th:only-of-type {\n",
       "        vertical-align: middle;\n",
       "    }\n",
       "\n",
       "    .dataframe tbody tr th {\n",
       "        vertical-align: top;\n",
       "    }\n",
       "\n",
       "    .dataframe thead th {\n",
       "        text-align: right;\n",
       "    }\n",
       "</style>\n",
       "<table border=\"1\" class=\"dataframe\">\n",
       "  <thead>\n",
       "    <tr style=\"text-align: right;\">\n",
       "      <th></th>\n",
       "      <th>Accuracy</th>\n",
       "      <th>Mean accuracy</th>\n",
       "      <th>Precision</th>\n",
       "      <th>Sensitivity (Recall)</th>\n",
       "      <th>Specificity</th>\n",
       "    </tr>\n",
       "    <tr>\n",
       "      <th>Method</th>\n",
       "      <th></th>\n",
       "      <th></th>\n",
       "      <th></th>\n",
       "      <th></th>\n",
       "      <th></th>\n",
       "    </tr>\n",
       "  </thead>\n",
       "  <tbody>\n",
       "    <tr>\n",
       "      <th>SVM</th>\n",
       "      <td>0.92405</td>\n",
       "      <td>0.92393</td>\n",
       "      <td>0.94578</td>\n",
       "      <td>0.91279</td>\n",
       "      <td>0.9375</td>\n",
       "    </tr>\n",
       "  </tbody>\n",
       "</table>\n",
       "</div>"
      ],
      "text/plain": [
       "        Accuracy  Mean accuracy  Precision  Sensitivity (Recall)  Specificity\n",
       "Method                                                                       \n",
       "SVM      0.92405        0.92393    0.94578               0.91279       0.9375"
      ]
     },
     "execution_count": 137,
     "metadata": {},
     "output_type": "execute_result"
    }
   ],
   "source": [
    "df_result_bs.set_index([\"Method\"], inplace=True)\n",
    "df_result_bs"
   ]
  },
  {
   "cell_type": "code",
   "execution_count": 132,
   "metadata": {},
   "outputs": [
    {
     "data": {
      "text/plain": [
       "0.9763000645994833"
      ]
     },
     "execution_count": 132,
     "metadata": {},
     "output_type": "execute_result"
    }
   ],
   "source": [
    "BS_rf_pred_prob = BS_rf_model_2.predict_proba(X_test_BS_2)[:,1]\n",
    "fpr_BS_rf, tpr_BS_rf, thresholds_BS_rf = roc_curve(y_test_BS_2, BS_rf_pred_prob)\n",
    "auc_BS_rf = roc_auc_score(y_test_BS_2,BS_rf_pred_prob)\n",
    "auc_BS_rf"
   ]
  },
  {
   "cell_type": "code",
   "execution_count": 296,
   "metadata": {},
   "outputs": [
    {
     "data": {
      "text/plain": [
       "0.986312984496124"
      ]
     },
     "execution_count": 296,
     "metadata": {},
     "output_type": "execute_result"
    }
   ],
   "source": [
    "BS_rf_pred_prob = BS_rf_model_3.predict_proba(X_test_BS_3)[:,1]\n",
    "fpr_BS_rf, tpr_BS_rf, thresholds_BS_rf = roc_curve(y_test_BS_3, BS_rf_pred_prob)\n",
    "auc_BS_rf = roc_auc_score(y_test_BS_3,BS_rf_pred_prob)\n",
    "auc_BS_rf"
   ]
  },
  {
   "cell_type": "code",
   "execution_count": 291,
   "metadata": {},
   "outputs": [
    {
     "data": {
      "text/plain": [
       "0.989985178063534"
      ]
     },
     "execution_count": 291,
     "metadata": {},
     "output_type": "execute_result"
    }
   ],
   "source": [
    "BS_rf_pred_prob = BS_rf_model_4.predict_proba(X_test_BS_4)[:,1]\n",
    "fpr_BS_rf, tpr_BS_rf, thresholds_BS_rf = roc_curve(y_test_BS_4, BS_rf_pred_prob)\n",
    "auc_BS_rf = roc_auc_score(y_test_BS_4,BS_rf_pred_prob)\n",
    "auc_BS_rf"
   ]
  },
  {
   "cell_type": "code",
   "execution_count": 259,
   "metadata": {},
   "outputs": [
    {
     "data": {
      "text/plain": [
       "0.9919455019034261"
      ]
     },
     "execution_count": 259,
     "metadata": {},
     "output_type": "execute_result"
    }
   ],
   "source": [
    "BS_rf_pred_prob = BS_rf_model_5.predict_proba(X_test_BS_5)[:,1]\n",
    "fpr_BS_rf, tpr_BS_rf, thresholds_BS_rf = roc_curve(y_test_BS_5, BS_rf_pred_prob)\n",
    "auc_BS_rf = roc_auc_score(y_test_BS_5,BS_rf_pred_prob)\n",
    "auc_BS_rf"
   ]
  },
  {
   "cell_type": "code",
   "execution_count": 138,
   "metadata": {},
   "outputs": [
    {
     "data": {
      "text/plain": [
       "0.9716166020671835"
      ]
     },
     "execution_count": 138,
     "metadata": {},
     "output_type": "execute_result"
    }
   ],
   "source": [
    "BS_svm_pred_prob = BS_svm_model_2.predict_proba(X_test_BS_2)[:,1]\n",
    "fpr_BS_svm, tpr_BS_svm, thresholds_BS_svm = roc_curve(y_test_BS_2, BS_svm_pred_prob)\n",
    "auc_BS_svm = roc_auc_score(y_test_BS_2,BS_svm_pred_prob)\n",
    "auc_BS_svm"
   ]
  },
  {
   "cell_type": "code",
   "execution_count": 297,
   "metadata": {},
   "outputs": [
    {
     "data": {
      "text/plain": [
       "0.9764615633074936"
      ]
     },
     "execution_count": 297,
     "metadata": {},
     "output_type": "execute_result"
    }
   ],
   "source": [
    "BS_svm_pred_prob = BS_svm_model_3.predict_proba(X_test_BS_3)[:,1]\n",
    "fpr_BS_svm, tpr_BS_svm, thresholds_BS_svm = roc_curve(y_test_BS_3, BS_svm_pred_prob)\n",
    "auc_BS_svm = roc_auc_score(y_test_BS_3,BS_svm_pred_prob)\n",
    "auc_BS_svm"
   ]
  },
  {
   "cell_type": "code",
   "execution_count": 265,
   "metadata": {},
   "outputs": [
    {
     "data": {
      "text/plain": [
       "0.9731202179225253"
      ]
     },
     "execution_count": 265,
     "metadata": {},
     "output_type": "execute_result"
    }
   ],
   "source": [
    "BS_svm_pred_prob = BS_svm_model_4.predict_proba(X_test_BS_4)[:,1]\n",
    "fpr_BS_svm, tpr_BS_svm, thresholds_BS_svm = roc_curve(y_test_BS_4, BS_svm_pred_prob)\n",
    "auc_BS_svm = roc_auc_score(y_test_BS_4,BS_svm_pred_prob)\n",
    "auc_BS_svm"
   ]
  },
  {
   "cell_type": "code",
   "execution_count": 266,
   "metadata": {},
   "outputs": [
    {
     "data": {
      "text/plain": [
       "0.9791624924864757"
      ]
     },
     "execution_count": 266,
     "metadata": {},
     "output_type": "execute_result"
    }
   ],
   "source": [
    "BS_svm_pred_prob = BS_svm_model_5.predict_proba(X_test_BS_5)[:,1]\n",
    "fpr_BS_svm, tpr_BS_svm, thresholds_BS_svm = roc_curve(y_test_BS_5, BS_svm_pred_prob)\n",
    "auc_BS_svm = roc_auc_score(y_test_BS_5,BS_svm_pred_prob)\n",
    "auc_BS_svm"
   ]
  },
  {
   "cell_type": "code",
   "execution_count": 157,
   "metadata": {},
   "outputs": [
    {
     "data": {
      "text/plain": [
       "array([1.99999, 0.99999, 0.98076, 0.9807 , 0.97948, 0.97921, 0.96116,\n",
       "       0.96108, 0.90455, 0.89777, 0.8844 , 0.88368, 0.78058, 0.76717,\n",
       "       0.64387, 0.6066 , 0.58283, 0.57924, 0.57314, 0.5    , 0.43557,\n",
       "       0.3535 , 0.34176, 0.33696, 0.33459, 0.3156 , 0.28114, 0.17757,\n",
       "       0.16243, 0.1245 , 0.12266, 0.02995, 0.02977, 0.00263])"
      ]
     },
     "execution_count": 157,
     "metadata": {},
     "output_type": "execute_result"
    }
   ],
   "source": [
    "thresholds_BS_svm"
   ]
  },
  {
   "cell_type": "code",
   "execution_count": 285,
   "metadata": {},
   "outputs": [
    {
     "data": {
      "text/plain": [
       "0.8894024032471969"
      ]
     },
     "execution_count": 285,
     "metadata": {},
     "output_type": "execute_result"
    }
   ],
   "source": [
    "BS_lda_pred_prob = BS_lda_model_2.predict_proba(X_test_BS_2)[:,1]\n",
    "fpr_BS_lda, tpr_BS_lda, thresholds_BS_lda = roc_curve(y_test_BS_2, BS_lda_pred_prob)\n",
    "auc_BS_lda = roc_auc_score(y_test_BS_2,BS_lda_pred_prob)\n",
    "auc_BS_lda"
   ]
  },
  {
   "cell_type": "code",
   "execution_count": 267,
   "metadata": {},
   "outputs": [
    {
     "data": {
      "text/plain": [
       "0.874313630490956"
      ]
     },
     "execution_count": 267,
     "metadata": {},
     "output_type": "execute_result"
    }
   ],
   "source": [
    "BS_lda_pred_prob = BS_lda_model_3.predict_proba(X_test_BS_3)[:,1]\n",
    "fpr_BS_lda, tpr_BS_lda, thresholds_BS_lda = roc_curve(y_test_BS_3, BS_lda_pred_prob)\n",
    "auc_BS_lda = roc_auc_score(y_test_BS_3,BS_lda_pred_prob)\n",
    "auc_BS_lda"
   ]
  },
  {
   "cell_type": "code",
   "execution_count": 293,
   "metadata": {},
   "outputs": [
    {
     "data": {
      "text/plain": [
       "0.8886752393542443"
      ]
     },
     "execution_count": 293,
     "metadata": {},
     "output_type": "execute_result"
    }
   ],
   "source": [
    "BS_lda_pred_prob = BS_lda_model_4.predict_proba(X_test_BS_4)[:,1]\n",
    "fpr_BS_lda, tpr_BS_lda, thresholds_BS_lda = roc_curve(y_test_BS_4, BS_lda_pred_prob)\n",
    "auc_BS_lda = roc_auc_score(y_test_BS_4,BS_lda_pred_prob)\n",
    "auc_BS_lda"
   ]
  },
  {
   "cell_type": "code",
   "execution_count": 283,
   "metadata": {},
   "outputs": [
    {
     "data": {
      "text/plain": [
       "0.899739531156081"
      ]
     },
     "execution_count": 283,
     "metadata": {},
     "output_type": "execute_result"
    }
   ],
   "source": [
    "BS_lda_pred_prob = BS_lda_model_5.predict_proba(X_test_BS_5)[:,1]\n",
    "fpr_BS_lda, tpr_BS_lda, thresholds_BS_lda = roc_curve(y_test_BS_5, BS_lda_pred_prob)\n",
    "auc_BS_lda = roc_auc_score(y_test_BS_5,BS_lda_pred_prob)\n",
    "auc_BS_lda"
   ]
  },
  {
   "cell_type": "code",
   "execution_count": 298,
   "metadata": {},
   "outputs": [
    {
     "data": {
      "image/png": "[encoded data removed]",
      "text/plain": [
       "<Figure size 432x288 with 1 Axes>"
      ]
     },
     "metadata": {},
     "output_type": "display_data"
    }
   ],
   "source": [
    "plt.figure()\n",
    "plt.plot(fpr_BS_rf,tpr_BS_rf,'deepskyblue',label='ROC curve of RF',linewidth=3)\n",
    "plt.plot(fpr_BS_svm,tpr_BS_svm,'darkorange',label='ROC curve of SVM',linewidth=3,linestyle=':')\n",
    "plt.plot(fpr_BS_lda,tpr_BS_lda,'crimson',label='ROC curve of LDA',linewidth=3,linestyle='--')\n",
    "\n",
    "plt.xlim([0.0,1.0])\n",
    "plt.ylim([0.0,1.05])\n",
    "plt.xlabel('False Positive Rate',**axis_font)\n",
    "plt.ylabel('True Position Rate',**axis_font)\n",
    "plt.legend(loc='lower right',fontsize=12)\n",
    "plt.savefig('ROC_SMOTE_sampling',dpi=1200)\n",
    "plt.show()"
   ]
  },
  {
   "cell_type": "markdown",
   "metadata": {},
   "source": [
    "The 2nd test"
   ]
  },
  {
   "cell_type": "code",
   "execution_count": 51,
   "metadata": {},
   "outputs": [],
   "source": [
    "X_train_BS_2, X_test_BS_2, y_train_BS_2, y_test_BS_2 = data_preparation_scheme(s_num=3)\n",
    "\n",
    "BS_result_2, BS_lda_model_2, BS_lda_pred_val_2, BS_svm_model_2, BS_svm_pred_val_2, BS_rf_model_2, BS_rf_pred_val_2 = \\\n",
    "                                                train_models(X_train_BS_2, X_test_BS_2, y_train_BS_2,y_test_BS_2)"
   ]
  },
  {
   "cell_type": "code",
   "execution_count": 52,
   "metadata": {},
   "outputs": [
    {
     "data": {
      "text/html": [
       "<div>\n",
       "<style scoped>\n",
       "    .dataframe tbody tr th:only-of-type {\n",
       "        vertical-align: middle;\n",
       "    }\n",
       "\n",
       "    .dataframe tbody tr th {\n",
       "        vertical-align: top;\n",
       "    }\n",
       "\n",
       "    .dataframe thead th {\n",
       "        text-align: right;\n",
       "    }\n",
       "</style>\n",
       "<table border=\"1\" class=\"dataframe\">\n",
       "  <thead>\n",
       "    <tr style=\"text-align: right;\">\n",
       "      <th></th>\n",
       "      <th>Accuracy</th>\n",
       "      <th>Mean accuracy</th>\n",
       "      <th>Precision</th>\n",
       "      <th>Sensitivity (Recall)</th>\n",
       "      <th>Specificity</th>\n",
       "    </tr>\n",
       "    <tr>\n",
       "      <th>Method</th>\n",
       "      <th></th>\n",
       "      <th></th>\n",
       "      <th></th>\n",
       "      <th></th>\n",
       "      <th></th>\n",
       "    </tr>\n",
       "  </thead>\n",
       "  <tbody>\n",
       "    <tr>\n",
       "      <th>LDA</th>\n",
       "      <td>0.78165</td>\n",
       "      <td>0.79242</td>\n",
       "      <td>0.83226</td>\n",
       "      <td>0.75000</td>\n",
       "      <td>0.81944</td>\n",
       "    </tr>\n",
       "    <tr>\n",
       "      <th>SVM</th>\n",
       "      <td>0.92405</td>\n",
       "      <td>0.92393</td>\n",
       "      <td>0.94578</td>\n",
       "      <td>0.91279</td>\n",
       "      <td>0.93750</td>\n",
       "    </tr>\n",
       "    <tr>\n",
       "      <th>RF</th>\n",
       "      <td>0.93354</td>\n",
       "      <td>0.92868</td>\n",
       "      <td>0.93642</td>\n",
       "      <td>0.94186</td>\n",
       "      <td>0.92361</td>\n",
       "    </tr>\n",
       "  </tbody>\n",
       "</table>\n",
       "</div>"
      ],
      "text/plain": [
       "        Accuracy  Mean accuracy  Precision  Sensitivity (Recall)  Specificity\n",
       "Method                                                                       \n",
       "LDA      0.78165        0.79242    0.83226               0.75000      0.81944\n",
       "SVM      0.92405        0.92393    0.94578               0.91279      0.93750\n",
       "RF       0.93354        0.92868    0.93642               0.94186      0.92361"
      ]
     },
     "execution_count": 52,
     "metadata": {},
     "output_type": "execute_result"
    }
   ],
   "source": [
    "BS_result_2.set_index([\"Method\"], inplace=True)\n",
    "BS_result_2"
   ]
  },
  {
   "cell_type": "code",
   "execution_count": 54,
   "metadata": {},
   "outputs": [
    {
     "data": {
      "text/plain": [
       "{'bootstrap': False,\n",
       " 'criterion': 'entropy',\n",
       " 'max_features': 5,\n",
       " 'min_samples_split': 2,\n",
       " 'n_estimators': 100}"
      ]
     },
     "execution_count": 54,
     "metadata": {},
     "output_type": "execute_result"
    }
   ],
   "source": [
    "BS_rf_model_2.best_params_"
   ]
  },
  {
   "cell_type": "markdown",
   "metadata": {},
   "source": [
    "### Drop of the bottom 11 metric"
   ]
  },
  {
   "cell_type": "code",
   "execution_count": 170,
   "metadata": {},
   "outputs": [],
   "source": [
    "def border_drop_scheme(random_seed):\n",
    "    dfct = dfd[dfd[\"CrossedSignal\"]==1].copy()\n",
    "        \n",
    "    newname = [\"Depolarization_Power_Deposit_Mean\",\"Diattenuation_Circ_Deposit_Std\",\n",
    "               \"Q_metric_Deposit_Mean\", \"Q_metric_Deposit_Std\",\n",
    "               \"Anisotropy_Lin_Deposit_Mean\", \"Anisotropy_Lin_Deposit_Std\",\n",
    "               \"Anisotropy_Circ_Deposit_Std\",\"Polarizance_Lin_Deposit_Mean\", \n",
    "               \"Polarizance_Lin_Deposit_Std\",\"Retardance_Lin_Deposit_Mean\", \n",
    "               \"Retardance_Lin_Deposit_Std\",\"Retardance_Circ_Deposit_Mean\", \n",
    "               \"A_metric_Deposit_Mean\", \"A_metric_Deposit_Std\",\n",
    "               \"b_metric_Deposit_Mean\",\"t_metric_Deposit_Mean\", \n",
    "               \"x_metric_Deposit_Mean\", \n",
    "               \"FluoroSignal\", \"CrossedSignal\"]\n",
    "    \n",
    "    dfct = dfct[newname]\n",
    "    \n",
    "    metric_data = dfct.values[:,0:(dfct.shape[1]-2)]\n",
    "    metric_label = dfct[\"FluoroSignal\"].values\n",
    "    \n",
    "            \n",
    "    BS = BorderlineSMOTE(random_state=42)\n",
    "    [bs_data, bs_label] = BS.fit_resample(metric_data, metric_label)\n",
    "    \n",
    "    scaler = preprocessing.StandardScaler().fit(bs_data)\n",
    "    bs_data_ = scaler.transform(bs_data)\n",
    "        \n",
    "    X_bs_train, X_bs_test, y_bs_train, y_bs_test = train_test_split(bs_data_, bs_label, test_size=0.2, random_state=random_seed)\n",
    "    return X_bs_train, X_bs_test, y_bs_train, y_bs_test"
   ]
  },
  {
   "cell_type": "code",
   "execution_count": 171,
   "metadata": {},
   "outputs": [],
   "source": [
    "X_train_bsdrop, X_test_bsdrop, y_train_bsdrop, y_test_bsdrop = border_drop_scheme()"
   ]
  },
  {
   "cell_type": "code",
   "execution_count": 172,
   "metadata": {},
   "outputs": [
    {
     "data": {
      "text/plain": [
       "(1262, 17)"
      ]
     },
     "execution_count": 172,
     "metadata": {},
     "output_type": "execute_result"
    }
   ],
   "source": [
    "X_train_bsdrop.shape"
   ]
  },
  {
   "cell_type": "code",
   "execution_count": 173,
   "metadata": {},
   "outputs": [],
   "source": [
    "result_bsdrop, lda_model_bsdrop, lda_pred_val_bsdrop, svm_model_bsdrop, svm_pred_val_bsdrop, rf_model_bsdrop, rf_pred_val_bsdrop = \\\n",
    "                                                train_models(X_train_bsdrop, X_test_bsdrop, y_train_bsdrop,y_test_bsdrop)"
   ]
  },
  {
   "cell_type": "code",
   "execution_count": 174,
   "metadata": {},
   "outputs": [
    {
     "data": {
      "text/html": [
       "<div>\n",
       "<style scoped>\n",
       "    .dataframe tbody tr th:only-of-type {\n",
       "        vertical-align: middle;\n",
       "    }\n",
       "\n",
       "    .dataframe tbody tr th {\n",
       "        vertical-align: top;\n",
       "    }\n",
       "\n",
       "    .dataframe thead th {\n",
       "        text-align: right;\n",
       "    }\n",
       "</style>\n",
       "<table border=\"1\" class=\"dataframe\">\n",
       "  <thead>\n",
       "    <tr style=\"text-align: right;\">\n",
       "      <th></th>\n",
       "      <th>Accuracy</th>\n",
       "      <th>Mean accuracy</th>\n",
       "      <th>Precision</th>\n",
       "      <th>Sensitivity (Recall)</th>\n",
       "      <th>Specificity</th>\n",
       "    </tr>\n",
       "    <tr>\n",
       "      <th>Method</th>\n",
       "      <th></th>\n",
       "      <th></th>\n",
       "      <th></th>\n",
       "      <th></th>\n",
       "      <th></th>\n",
       "    </tr>\n",
       "  </thead>\n",
       "  <tbody>\n",
       "    <tr>\n",
       "      <th>LDA</th>\n",
       "      <td>0.79114</td>\n",
       "      <td>0.81063</td>\n",
       "      <td>0.85811</td>\n",
       "      <td>0.73837</td>\n",
       "      <td>0.85417</td>\n",
       "    </tr>\n",
       "    <tr>\n",
       "      <th>SVM</th>\n",
       "      <td>0.91772</td>\n",
       "      <td>0.90650</td>\n",
       "      <td>0.95062</td>\n",
       "      <td>0.89535</td>\n",
       "      <td>0.94444</td>\n",
       "    </tr>\n",
       "    <tr>\n",
       "      <th>RF</th>\n",
       "      <td>0.96835</td>\n",
       "      <td>0.94216</td>\n",
       "      <td>0.97093</td>\n",
       "      <td>0.97093</td>\n",
       "      <td>0.96528</td>\n",
       "    </tr>\n",
       "  </tbody>\n",
       "</table>\n",
       "</div>"
      ],
      "text/plain": [
       "        Accuracy  Mean accuracy  Precision  Sensitivity (Recall)  Specificity\n",
       "Method                                                                       \n",
       "LDA      0.79114        0.81063    0.85811               0.73837      0.85417\n",
       "SVM      0.91772        0.90650    0.95062               0.89535      0.94444\n",
       "RF       0.96835        0.94216    0.97093               0.97093      0.96528"
      ]
     },
     "execution_count": 174,
     "metadata": {},
     "output_type": "execute_result"
    }
   ],
   "source": [
    "result_bsdrop.set_index([\"Method\"], inplace=True)\n",
    "result_bsdrop"
   ]
  },
  {
   "cell_type": "markdown",
   "metadata": {},
   "source": [
    "### Using borderline-2"
   ]
  },
  {
   "cell_type": "code",
   "execution_count": 224,
   "metadata": {},
   "outputs": [],
   "source": [
    "X_train_BS2, X_test_BS2, y_train_BS2, y_test_BS2 = data_preparation_scheme(s_num=3)\n",
    "\n",
    "BS2_result_1, BS2_lda_model_1, BS2_lda_pred_val_1, BS2_svm_model_1, BS2_svm_pred_val_1, BS2_rf_model_1, BS2_rf_pred_val_1 = \\\n",
    "                                                train_models(X_train_BS2, X_test_BS2, y_train_BS2,y_test_BS2)"
   ]
  },
  {
   "cell_type": "code",
   "execution_count": 234,
   "metadata": {},
   "outputs": [
    {
     "data": {
      "text/plain": [
       "Counter({0: 789, 1: 789})"
      ]
     },
     "execution_count": 234,
     "metadata": {},
     "output_type": "execute_result"
    }
   ],
   "source": [
    "collections.Counter(np.append(y_train_BS2,y_test_BS2))"
   ]
  },
  {
   "cell_type": "code",
   "execution_count": 258,
   "metadata": {},
   "outputs": [
    {
     "data": {
      "text/html": [
       "<div>\n",
       "<style scoped>\n",
       "    .dataframe tbody tr th:only-of-type {\n",
       "        vertical-align: middle;\n",
       "    }\n",
       "\n",
       "    .dataframe tbody tr th {\n",
       "        vertical-align: top;\n",
       "    }\n",
       "\n",
       "    .dataframe thead th {\n",
       "        text-align: right;\n",
       "    }\n",
       "</style>\n",
       "<table border=\"1\" class=\"dataframe\">\n",
       "  <thead>\n",
       "    <tr style=\"text-align: right;\">\n",
       "      <th></th>\n",
       "      <th>Accuracy</th>\n",
       "      <th>Mean accuracy</th>\n",
       "      <th>Precision</th>\n",
       "      <th>Sensitivity (Recall)</th>\n",
       "      <th>Specificity</th>\n",
       "    </tr>\n",
       "    <tr>\n",
       "      <th>Method</th>\n",
       "      <th></th>\n",
       "      <th></th>\n",
       "      <th></th>\n",
       "      <th></th>\n",
       "      <th></th>\n",
       "    </tr>\n",
       "  </thead>\n",
       "  <tbody>\n",
       "    <tr>\n",
       "      <th>LDA</th>\n",
       "      <td>0.78165</td>\n",
       "      <td>0.79242</td>\n",
       "      <td>0.83226</td>\n",
       "      <td>0.75000</td>\n",
       "      <td>0.81944</td>\n",
       "    </tr>\n",
       "    <tr>\n",
       "      <th>SVM</th>\n",
       "      <td>0.91139</td>\n",
       "      <td>0.89382</td>\n",
       "      <td>0.86735</td>\n",
       "      <td>0.98837</td>\n",
       "      <td>0.81944</td>\n",
       "    </tr>\n",
       "    <tr>\n",
       "      <th>RF</th>\n",
       "      <td>0.91772</td>\n",
       "      <td>0.91204</td>\n",
       "      <td>0.92941</td>\n",
       "      <td>0.91860</td>\n",
       "      <td>0.91667</td>\n",
       "    </tr>\n",
       "  </tbody>\n",
       "</table>\n",
       "</div>"
      ],
      "text/plain": [
       "        Accuracy  Mean accuracy  Precision  Sensitivity (Recall)  Specificity\n",
       "Method                                                                       \n",
       "LDA      0.78165        0.79242    0.83226               0.75000      0.81944\n",
       "SVM      0.91139        0.89382    0.86735               0.98837      0.81944\n",
       "RF       0.91772        0.91204    0.92941               0.91860      0.91667"
      ]
     },
     "execution_count": 258,
     "metadata": {},
     "output_type": "execute_result"
    }
   ],
   "source": [
    "BS2_result_1.set_index([\"Method\"], inplace=True)\n",
    "BS2_result_1"
   ]
  },
  {
   "cell_type": "code",
   "execution_count": 227,
   "metadata": {},
   "outputs": [
    {
     "data": {
      "text/plain": [
       "{'bootstrap': False,\n",
       " 'criterion': 'gini',\n",
       " 'max_depth': 9,\n",
       " 'max_features': 8,\n",
       " 'min_samples_split': 7,\n",
       " 'n_estimators': 884}"
      ]
     },
     "execution_count": 227,
     "metadata": {},
     "output_type": "execute_result"
    }
   ],
   "source": [
    "BS2_rf_model_1.best_params_"
   ]
  },
  {
   "cell_type": "code",
   "execution_count": 228,
   "metadata": {},
   "outputs": [
    {
     "data": {
      "text/html": [
       "<div>\n",
       "<style scoped>\n",
       "    .dataframe tbody tr th:only-of-type {\n",
       "        vertical-align: middle;\n",
       "    }\n",
       "\n",
       "    .dataframe tbody tr th {\n",
       "        vertical-align: top;\n",
       "    }\n",
       "\n",
       "    .dataframe thead th {\n",
       "        text-align: right;\n",
       "    }\n",
       "</style>\n",
       "<table border=\"1\" class=\"dataframe\">\n",
       "  <thead>\n",
       "    <tr style=\"text-align: right;\">\n",
       "      <th></th>\n",
       "      <th>Importance in percentage</th>\n",
       "    </tr>\n",
       "    <tr>\n",
       "      <th>Metric</th>\n",
       "      <th></th>\n",
       "    </tr>\n",
       "  </thead>\n",
       "  <tbody>\n",
       "    <tr>\n",
       "      <th>x_metric_Deposit_Mean</th>\n",
       "      <td>0.10581</td>\n",
       "    </tr>\n",
       "    <tr>\n",
       "      <th>Retardance_Lin_Deposit_Std</th>\n",
       "      <td>0.07888</td>\n",
       "    </tr>\n",
       "    <tr>\n",
       "      <th>Diattenuation_Circ_Deposit_Std</th>\n",
       "      <td>0.06648</td>\n",
       "    </tr>\n",
       "    <tr>\n",
       "      <th>Retardance_Lin_Deposit_Mean</th>\n",
       "      <td>0.06454</td>\n",
       "    </tr>\n",
       "    <tr>\n",
       "      <th>Retardance_Circ_Deposit_Mean</th>\n",
       "      <td>0.06064</td>\n",
       "    </tr>\n",
       "    <tr>\n",
       "      <th>Q_metric_Deposit_Std</th>\n",
       "      <td>0.04874</td>\n",
       "    </tr>\n",
       "    <tr>\n",
       "      <th>A_metric_Deposit_Std</th>\n",
       "      <td>0.04608</td>\n",
       "    </tr>\n",
       "    <tr>\n",
       "      <th>Anisotropy_Lin_Deposit_Mean</th>\n",
       "      <td>0.04341</td>\n",
       "    </tr>\n",
       "    <tr>\n",
       "      <th>Q_metric_Deposit_Mean</th>\n",
       "      <td>0.03647</td>\n",
       "    </tr>\n",
       "    <tr>\n",
       "      <th>Diattenuation_Lin_Deposit_Std</th>\n",
       "      <td>0.03587</td>\n",
       "    </tr>\n",
       "    <tr>\n",
       "      <th>Anisotropy_Lin_Deposit_Std</th>\n",
       "      <td>0.03525</td>\n",
       "    </tr>\n",
       "    <tr>\n",
       "      <th>Anisotropy_Circ_Deposit_Std</th>\n",
       "      <td>0.03223</td>\n",
       "    </tr>\n",
       "    <tr>\n",
       "      <th>Depolarization_Power_Deposit_Mean</th>\n",
       "      <td>0.03178</td>\n",
       "    </tr>\n",
       "    <tr>\n",
       "      <th>Depolarization_Power_Deposit_Std</th>\n",
       "      <td>0.03041</td>\n",
       "    </tr>\n",
       "    <tr>\n",
       "      <th>b_metric_Deposit_Mean</th>\n",
       "      <td>0.02879</td>\n",
       "    </tr>\n",
       "    <tr>\n",
       "      <th>Polarizance_Lin_Deposit_Std</th>\n",
       "      <td>0.02859</td>\n",
       "    </tr>\n",
       "    <tr>\n",
       "      <th>A_metric_Deposit_Mean</th>\n",
       "      <td>0.02844</td>\n",
       "    </tr>\n",
       "    <tr>\n",
       "      <th>Anisotropy_Circ_Deposit_Mean</th>\n",
       "      <td>0.02744</td>\n",
       "    </tr>\n",
       "    <tr>\n",
       "      <th>x_metric_Deposit_Std</th>\n",
       "      <td>0.02372</td>\n",
       "    </tr>\n",
       "    <tr>\n",
       "      <th>Diattenuation_Circ_Deposit_Mean</th>\n",
       "      <td>0.02138</td>\n",
       "    </tr>\n",
       "    <tr>\n",
       "      <th>Diattenuation_Lin_Deposit_Mean</th>\n",
       "      <td>0.02067</td>\n",
       "    </tr>\n",
       "    <tr>\n",
       "      <th>t_metric_Deposit_Mean</th>\n",
       "      <td>0.02012</td>\n",
       "    </tr>\n",
       "    <tr>\n",
       "      <th>Polarizance_Circ_Deposit_Mean</th>\n",
       "      <td>0.01745</td>\n",
       "    </tr>\n",
       "    <tr>\n",
       "      <th>Polarizance_Circ_Deposit_Std</th>\n",
       "      <td>0.01695</td>\n",
       "    </tr>\n",
       "    <tr>\n",
       "      <th>Polarizance_Lin_Deposit_Mean</th>\n",
       "      <td>0.01475</td>\n",
       "    </tr>\n",
       "    <tr>\n",
       "      <th>Retardance_Circ_Deposit_Std</th>\n",
       "      <td>0.01264</td>\n",
       "    </tr>\n",
       "    <tr>\n",
       "      <th>t_metric_Deposit_Std</th>\n",
       "      <td>0.01240</td>\n",
       "    </tr>\n",
       "    <tr>\n",
       "      <th>b_metric_Deposit_Std</th>\n",
       "      <td>0.01008</td>\n",
       "    </tr>\n",
       "  </tbody>\n",
       "</table>\n",
       "</div>"
      ],
      "text/plain": [
       "                                   Importance in percentage\n",
       "Metric                                                     \n",
       "x_metric_Deposit_Mean                               0.10581\n",
       "Retardance_Lin_Deposit_Std                          0.07888\n",
       "Diattenuation_Circ_Deposit_Std                      0.06648\n",
       "Retardance_Lin_Deposit_Mean                         0.06454\n",
       "Retardance_Circ_Deposit_Mean                        0.06064\n",
       "Q_metric_Deposit_Std                                0.04874\n",
       "A_metric_Deposit_Std                                0.04608\n",
       "Anisotropy_Lin_Deposit_Mean                         0.04341\n",
       "Q_metric_Deposit_Mean                               0.03647\n",
       "Diattenuation_Lin_Deposit_Std                       0.03587\n",
       "Anisotropy_Lin_Deposit_Std                          0.03525\n",
       "Anisotropy_Circ_Deposit_Std                         0.03223\n",
       "Depolarization_Power_Deposit_Mean                   0.03178\n",
       "Depolarization_Power_Deposit_Std                    0.03041\n",
       "b_metric_Deposit_Mean                               0.02879\n",
       "Polarizance_Lin_Deposit_Std                         0.02859\n",
       "A_metric_Deposit_Mean                               0.02844\n",
       "Anisotropy_Circ_Deposit_Mean                        0.02744\n",
       "x_metric_Deposit_Std                                0.02372\n",
       "Diattenuation_Circ_Deposit_Mean                     0.02138\n",
       "Diattenuation_Lin_Deposit_Mean                      0.02067\n",
       "t_metric_Deposit_Mean                               0.02012\n",
       "Polarizance_Circ_Deposit_Mean                       0.01745\n",
       "Polarizance_Circ_Deposit_Std                        0.01695\n",
       "Polarizance_Lin_Deposit_Mean                        0.01475\n",
       "Retardance_Circ_Deposit_Std                         0.01264\n",
       "t_metric_Deposit_Std                                0.01240\n",
       "b_metric_Deposit_Std                                0.01008"
      ]
     },
     "execution_count": 228,
     "metadata": {},
     "output_type": "execute_result"
    }
   ],
   "source": [
    "feature_names = list(dfd.columns[0:-2].values)\n",
    "feature_names_31 = feature_names[:28]\n",
    "\n",
    "feature_importance_31 = BS2_rf_model_1.best_estimator_.feature_importances_\n",
    "importance_table_31 = fimportance_dataframe(feature_names_31,feature_importance_31)\n",
    "\n",
    "importance_table_31.set_index([\"Metric\"])"
   ]
  },
  {
   "cell_type": "markdown",
   "metadata": {},
   "source": [
    "## Without oversampling"
   ]
  },
  {
   "cell_type": "code",
   "execution_count": 141,
   "metadata": {},
   "outputs": [
    {
     "name": "stderr",
     "output_type": "stream",
     "text": [
      "C:\\Users\\y63qiu\\AppData\\Local\\Continuum\\anaconda3\\envs\\yorkml\\lib\\site-packages\\sklearn\\model_selection\\_search.py:841: DeprecationWarning: The default of the `iid` parameter will change from True to False in version 0.22 and will be removed in 0.24. This will change numeric results when test-set sizes are unequal.\n",
      "  DeprecationWarning)\n"
     ]
    }
   ],
   "source": [
    "X_train_, X_test_, y_train_, y_test_ = data_preparation_scheme(s_num=4)\n",
    "\n",
    "result, lda_model, lda_pred_val, svm_model, svm_pred_val, rf_model, rf_pred_val = \\\n",
    "                                                train_models(X_train_, X_test_, y_train_,y_test_)"
   ]
  },
  {
   "cell_type": "code",
   "execution_count": 267,
   "metadata": {},
   "outputs": [
    {
     "data": {
      "text/html": [
       "<div>\n",
       "<style scoped>\n",
       "    .dataframe tbody tr th:only-of-type {\n",
       "        vertical-align: middle;\n",
       "    }\n",
       "\n",
       "    .dataframe tbody tr th {\n",
       "        vertical-align: top;\n",
       "    }\n",
       "\n",
       "    .dataframe thead th {\n",
       "        text-align: right;\n",
       "    }\n",
       "</style>\n",
       "<table border=\"1\" class=\"dataframe\">\n",
       "  <thead>\n",
       "    <tr style=\"text-align: right;\">\n",
       "      <th></th>\n",
       "      <th>Accuracy</th>\n",
       "      <th>Mean accuracy</th>\n",
       "      <th>Precision</th>\n",
       "      <th>Sensitivity (Recall)</th>\n",
       "      <th>Specificity</th>\n",
       "    </tr>\n",
       "    <tr>\n",
       "      <th>Method</th>\n",
       "      <th></th>\n",
       "      <th></th>\n",
       "      <th></th>\n",
       "      <th></th>\n",
       "      <th></th>\n",
       "    </tr>\n",
       "  </thead>\n",
       "  <tbody>\n",
       "    <tr>\n",
       "      <th>LDA</th>\n",
       "      <td>0.91848</td>\n",
       "      <td>0.89543</td>\n",
       "      <td>0.91716</td>\n",
       "      <td>0.99359</td>\n",
       "      <td>0.50000</td>\n",
       "    </tr>\n",
       "    <tr>\n",
       "      <th>SVM</th>\n",
       "      <td>0.84783</td>\n",
       "      <td>0.86005</td>\n",
       "      <td>0.84783</td>\n",
       "      <td>1.00000</td>\n",
       "      <td>0.00000</td>\n",
       "    </tr>\n",
       "    <tr>\n",
       "      <th>RF</th>\n",
       "      <td>0.90761</td>\n",
       "      <td>0.91304</td>\n",
       "      <td>0.91124</td>\n",
       "      <td>0.98718</td>\n",
       "      <td>0.46429</td>\n",
       "    </tr>\n",
       "  </tbody>\n",
       "</table>\n",
       "</div>"
      ],
      "text/plain": [
       "        Accuracy  Mean accuracy  Precision  Sensitivity (Recall)  Specificity\n",
       "Method                                                                       \n",
       "LDA      0.91848        0.89543    0.91716               0.99359      0.50000\n",
       "SVM      0.84783        0.86005    0.84783               1.00000      0.00000\n",
       "RF       0.90761        0.91304    0.91124               0.98718      0.46429"
      ]
     },
     "execution_count": 267,
     "metadata": {},
     "output_type": "execute_result"
    }
   ],
   "source": [
    "result.set_index([\"Method\"], inplace=True)\n",
    "result"
   ]
  },
  {
   "cell_type": "code",
   "execution_count": 268,
   "metadata": {},
   "outputs": [
    {
     "data": {
      "text/plain": [
       "{'bootstrap': False,\n",
       " 'criterion': 'entropy',\n",
       " 'max_features': 6,\n",
       " 'min_samples_split': 3,\n",
       " 'n_estimators': 939}"
      ]
     },
     "execution_count": 268,
     "metadata": {},
     "output_type": "execute_result"
    }
   ],
   "source": [
    "rf_model.best_params_"
   ]
  },
  {
   "cell_type": "code",
   "execution_count": 269,
   "metadata": {},
   "outputs": [
    {
     "data": {
      "text/plain": [
       "{'degree': 3, 'gamma': 0.1, 'kernel': 'rbf', 'shrinking': True}"
      ]
     },
     "execution_count": 269,
     "metadata": {},
     "output_type": "execute_result"
    }
   ],
   "source": [
    "BS_svm_model_1.best_params_"
   ]
  },
  {
   "cell_type": "code",
   "execution_count": 270,
   "metadata": {
    "scrolled": true
   },
   "outputs": [
    {
     "data": {
      "text/html": [
       "<div>\n",
       "<style scoped>\n",
       "    .dataframe tbody tr th:only-of-type {\n",
       "        vertical-align: middle;\n",
       "    }\n",
       "\n",
       "    .dataframe tbody tr th {\n",
       "        vertical-align: top;\n",
       "    }\n",
       "\n",
       "    .dataframe thead th {\n",
       "        text-align: right;\n",
       "    }\n",
       "</style>\n",
       "<table border=\"1\" class=\"dataframe\">\n",
       "  <thead>\n",
       "    <tr style=\"text-align: right;\">\n",
       "      <th></th>\n",
       "      <th>Importance in percentage</th>\n",
       "    </tr>\n",
       "    <tr>\n",
       "      <th>Metric</th>\n",
       "      <th></th>\n",
       "    </tr>\n",
       "  </thead>\n",
       "  <tbody>\n",
       "    <tr>\n",
       "      <th>Diattenuation_Circ_Deposit_Std</th>\n",
       "      <td>0.09776</td>\n",
       "    </tr>\n",
       "    <tr>\n",
       "      <th>Polarizance_Lin_Deposit_Std</th>\n",
       "      <td>0.07419</td>\n",
       "    </tr>\n",
       "    <tr>\n",
       "      <th>Anisotropy_Lin_Deposit_Std</th>\n",
       "      <td>0.06771</td>\n",
       "    </tr>\n",
       "    <tr>\n",
       "      <th>Retardance_Lin_Deposit_Mean</th>\n",
       "      <td>0.06448</td>\n",
       "    </tr>\n",
       "    <tr>\n",
       "      <th>Polarizance_Circ_Deposit_Std</th>\n",
       "      <td>0.06302</td>\n",
       "    </tr>\n",
       "    <tr>\n",
       "      <th>x_metric_Deposit_Mean</th>\n",
       "      <td>0.05253</td>\n",
       "    </tr>\n",
       "    <tr>\n",
       "      <th>Retardance_Lin_Deposit_Std</th>\n",
       "      <td>0.05121</td>\n",
       "    </tr>\n",
       "    <tr>\n",
       "      <th>Retardance_Circ_Deposit_Std</th>\n",
       "      <td>0.03811</td>\n",
       "    </tr>\n",
       "    <tr>\n",
       "      <th>Anisotropy_Lin_Deposit_Mean</th>\n",
       "      <td>0.03539</td>\n",
       "    </tr>\n",
       "    <tr>\n",
       "      <th>Diattenuation_Lin_Deposit_Std</th>\n",
       "      <td>0.03248</td>\n",
       "    </tr>\n",
       "    <tr>\n",
       "      <th>Depolarization_Power_Deposit_Mean</th>\n",
       "      <td>0.02922</td>\n",
       "    </tr>\n",
       "    <tr>\n",
       "      <th>Anisotropy_Circ_Deposit_Std</th>\n",
       "      <td>0.02699</td>\n",
       "    </tr>\n",
       "    <tr>\n",
       "      <th>Diattenuation_Circ_Deposit_Mean</th>\n",
       "      <td>0.02677</td>\n",
       "    </tr>\n",
       "    <tr>\n",
       "      <th>x_metric_Deposit_Std</th>\n",
       "      <td>0.02640</td>\n",
       "    </tr>\n",
       "    <tr>\n",
       "      <th>Diattenuation_Lin_Deposit_Mean</th>\n",
       "      <td>0.02532</td>\n",
       "    </tr>\n",
       "    <tr>\n",
       "      <th>A_metric_Deposit_Std</th>\n",
       "      <td>0.02503</td>\n",
       "    </tr>\n",
       "    <tr>\n",
       "      <th>t_metric_Deposit_Std</th>\n",
       "      <td>0.02476</td>\n",
       "    </tr>\n",
       "    <tr>\n",
       "      <th>Depolarization_Power_Deposit_Std</th>\n",
       "      <td>0.02408</td>\n",
       "    </tr>\n",
       "    <tr>\n",
       "      <th>Q_metric_Deposit_Mean</th>\n",
       "      <td>0.02399</td>\n",
       "    </tr>\n",
       "    <tr>\n",
       "      <th>Q_metric_Deposit_Std</th>\n",
       "      <td>0.02352</td>\n",
       "    </tr>\n",
       "    <tr>\n",
       "      <th>Polarizance_Circ_Deposit_Mean</th>\n",
       "      <td>0.02310</td>\n",
       "    </tr>\n",
       "    <tr>\n",
       "      <th>t_metric_Deposit_Mean</th>\n",
       "      <td>0.02212</td>\n",
       "    </tr>\n",
       "    <tr>\n",
       "      <th>Retardance_Circ_Deposit_Mean</th>\n",
       "      <td>0.02144</td>\n",
       "    </tr>\n",
       "    <tr>\n",
       "      <th>Polarizance_Lin_Deposit_Mean</th>\n",
       "      <td>0.02138</td>\n",
       "    </tr>\n",
       "    <tr>\n",
       "      <th>Anisotropy_Circ_Deposit_Mean</th>\n",
       "      <td>0.02106</td>\n",
       "    </tr>\n",
       "    <tr>\n",
       "      <th>A_metric_Deposit_Mean</th>\n",
       "      <td>0.02049</td>\n",
       "    </tr>\n",
       "    <tr>\n",
       "      <th>b_metric_Deposit_Mean</th>\n",
       "      <td>0.01927</td>\n",
       "    </tr>\n",
       "    <tr>\n",
       "      <th>b_metric_Deposit_Std</th>\n",
       "      <td>0.01819</td>\n",
       "    </tr>\n",
       "  </tbody>\n",
       "</table>\n",
       "</div>"
      ],
      "text/plain": [
       "                                   Importance in percentage\n",
       "Metric                                                     \n",
       "Diattenuation_Circ_Deposit_Std                      0.09776\n",
       "Polarizance_Lin_Deposit_Std                         0.07419\n",
       "Anisotropy_Lin_Deposit_Std                          0.06771\n",
       "Retardance_Lin_Deposit_Mean                         0.06448\n",
       "Polarizance_Circ_Deposit_Std                        0.06302\n",
       "x_metric_Deposit_Mean                               0.05253\n",
       "Retardance_Lin_Deposit_Std                          0.05121\n",
       "Retardance_Circ_Deposit_Std                         0.03811\n",
       "Anisotropy_Lin_Deposit_Mean                         0.03539\n",
       "Diattenuation_Lin_Deposit_Std                       0.03248\n",
       "Depolarization_Power_Deposit_Mean                   0.02922\n",
       "Anisotropy_Circ_Deposit_Std                         0.02699\n",
       "Diattenuation_Circ_Deposit_Mean                     0.02677\n",
       "x_metric_Deposit_Std                                0.02640\n",
       "Diattenuation_Lin_Deposit_Mean                      0.02532\n",
       "A_metric_Deposit_Std                                0.02503\n",
       "t_metric_Deposit_Std                                0.02476\n",
       "Depolarization_Power_Deposit_Std                    0.02408\n",
       "Q_metric_Deposit_Mean                               0.02399\n",
       "Q_metric_Deposit_Std                                0.02352\n",
       "Polarizance_Circ_Deposit_Mean                       0.02310\n",
       "t_metric_Deposit_Mean                               0.02212\n",
       "Retardance_Circ_Deposit_Mean                        0.02144\n",
       "Polarizance_Lin_Deposit_Mean                        0.02138\n",
       "Anisotropy_Circ_Deposit_Mean                        0.02106\n",
       "A_metric_Deposit_Mean                               0.02049\n",
       "b_metric_Deposit_Mean                               0.01927\n",
       "b_metric_Deposit_Std                                0.01819"
      ]
     },
     "execution_count": 270,
     "metadata": {},
     "output_type": "execute_result"
    }
   ],
   "source": [
    "feature_names = list(dfd.columns[0:-2].values)\n",
    "feature_names_ = feature_names[:28]\n",
    "\n",
    "feature_importance_ = rf_model.best_estimator_.feature_importances_\n",
    "importance_table_ = fimportance_dataframe(feature_names_,feature_importance_)\n",
    "\n",
    "importance_table_.set_index([\"Metric\"])"
   ]
  },
  {
   "cell_type": "markdown",
   "metadata": {},
   "source": [
    "The 2nd test"
   ]
  },
  {
   "cell_type": "code",
   "execution_count": 197,
   "metadata": {},
   "outputs": [
    {
     "name": "stderr",
     "output_type": "stream",
     "text": [
      "C:\\Users\\y63qiu\\AppData\\Local\\Continuum\\anaconda3\\envs\\yorkml\\lib\\site-packages\\sklearn\\model_selection\\_search.py:841: DeprecationWarning: The default of the `iid` parameter will change from True to False in version 0.22 and will be removed in 0.24. This will change numeric results when test-set sizes are unequal.\n",
      "  DeprecationWarning)\n"
     ]
    }
   ],
   "source": [
    "X2_train_, X2_test_, y2_train_, y2_test_ = data_preparation_scheme(s_num=4,random_seed=1)\n",
    "\n",
    "result_2, lda_model_2, lda_pred_val_2, svm_model_2, svm_pred_val_2, rf_model_2, rf_pred_val_2 = \\\n",
    "                                                train_models(X2_train_, X2_test_, y2_train_,y2_test_)"
   ]
  },
  {
   "cell_type": "code",
   "execution_count": 198,
   "metadata": {},
   "outputs": [
    {
     "data": {
      "text/html": [
       "<div>\n",
       "<style scoped>\n",
       "    .dataframe tbody tr th:only-of-type {\n",
       "        vertical-align: middle;\n",
       "    }\n",
       "\n",
       "    .dataframe tbody tr th {\n",
       "        vertical-align: top;\n",
       "    }\n",
       "\n",
       "    .dataframe thead th {\n",
       "        text-align: right;\n",
       "    }\n",
       "</style>\n",
       "<table border=\"1\" class=\"dataframe\">\n",
       "  <thead>\n",
       "    <tr style=\"text-align: right;\">\n",
       "      <th></th>\n",
       "      <th>Accuracy</th>\n",
       "      <th>Mean accuracy</th>\n",
       "      <th>Precision</th>\n",
       "      <th>Sensitivity (Recall)</th>\n",
       "      <th>Specificity</th>\n",
       "    </tr>\n",
       "    <tr>\n",
       "      <th>Method</th>\n",
       "      <th></th>\n",
       "      <th></th>\n",
       "      <th></th>\n",
       "      <th></th>\n",
       "      <th></th>\n",
       "    </tr>\n",
       "  </thead>\n",
       "  <tbody>\n",
       "    <tr>\n",
       "      <th>LDA</th>\n",
       "      <td>0.86413</td>\n",
       "      <td>0.91186</td>\n",
       "      <td>0.90625</td>\n",
       "      <td>0.93548</td>\n",
       "      <td>0.48276</td>\n",
       "    </tr>\n",
       "    <tr>\n",
       "      <th>SVM</th>\n",
       "      <td>0.84239</td>\n",
       "      <td>0.86141</td>\n",
       "      <td>0.84239</td>\n",
       "      <td>1.00000</td>\n",
       "      <td>0.00000</td>\n",
       "    </tr>\n",
       "    <tr>\n",
       "      <th>RF</th>\n",
       "      <td>0.84783</td>\n",
       "      <td>0.92391</td>\n",
       "      <td>0.88957</td>\n",
       "      <td>0.93548</td>\n",
       "      <td>0.37931</td>\n",
       "    </tr>\n",
       "  </tbody>\n",
       "</table>\n",
       "</div>"
      ],
      "text/plain": [
       "        Accuracy  Mean accuracy  Precision  Sensitivity (Recall)  Specificity\n",
       "Method                                                                       \n",
       "LDA      0.86413        0.91186    0.90625               0.93548      0.48276\n",
       "SVM      0.84239        0.86141    0.84239               1.00000      0.00000\n",
       "RF       0.84783        0.92391    0.88957               0.93548      0.37931"
      ]
     },
     "execution_count": 198,
     "metadata": {},
     "output_type": "execute_result"
    }
   ],
   "source": [
    "result_2.set_index([\"Method\"], inplace=True)\n",
    "result_2"
   ]
  },
  {
   "cell_type": "markdown",
   "metadata": {},
   "source": [
    "The 3rd test"
   ]
  },
  {
   "cell_type": "code",
   "execution_count": 199,
   "metadata": {},
   "outputs": [],
   "source": [
    "X3_train_, X3_test_, y3_train_, y3_test_ = data_preparation_scheme(s_num=4,random_seed=10)\n",
    "\n",
    "result_3, lda_model_3, lda_pred_val_3, svm_model_3, svm_pred_val_3, rf_model_3, rf_pred_val_3 = \\\n",
    "                                                train_models(X3_train_, X3_test_, y3_train_,y3_test_)"
   ]
  },
  {
   "cell_type": "code",
   "execution_count": 200,
   "metadata": {},
   "outputs": [
    {
     "data": {
      "text/html": [
       "<div>\n",
       "<style scoped>\n",
       "    .dataframe tbody tr th:only-of-type {\n",
       "        vertical-align: middle;\n",
       "    }\n",
       "\n",
       "    .dataframe tbody tr th {\n",
       "        vertical-align: top;\n",
       "    }\n",
       "\n",
       "    .dataframe thead th {\n",
       "        text-align: right;\n",
       "    }\n",
       "</style>\n",
       "<table border=\"1\" class=\"dataframe\">\n",
       "  <thead>\n",
       "    <tr style=\"text-align: right;\">\n",
       "      <th></th>\n",
       "      <th>Accuracy</th>\n",
       "      <th>Mean accuracy</th>\n",
       "      <th>Precision</th>\n",
       "      <th>Sensitivity (Recall)</th>\n",
       "      <th>Specificity</th>\n",
       "    </tr>\n",
       "    <tr>\n",
       "      <th>Method</th>\n",
       "      <th></th>\n",
       "      <th></th>\n",
       "      <th></th>\n",
       "      <th></th>\n",
       "      <th></th>\n",
       "    </tr>\n",
       "  </thead>\n",
       "  <tbody>\n",
       "    <tr>\n",
       "      <th>LDA</th>\n",
       "      <td>0.87500</td>\n",
       "      <td>0.90890</td>\n",
       "      <td>0.88554</td>\n",
       "      <td>0.97351</td>\n",
       "      <td>0.42424</td>\n",
       "    </tr>\n",
       "    <tr>\n",
       "      <th>SVM</th>\n",
       "      <td>0.82065</td>\n",
       "      <td>0.86685</td>\n",
       "      <td>0.82065</td>\n",
       "      <td>1.00000</td>\n",
       "      <td>0.00000</td>\n",
       "    </tr>\n",
       "    <tr>\n",
       "      <th>RF</th>\n",
       "      <td>0.87500</td>\n",
       "      <td>0.91440</td>\n",
       "      <td>0.87647</td>\n",
       "      <td>0.98675</td>\n",
       "      <td>0.36364</td>\n",
       "    </tr>\n",
       "  </tbody>\n",
       "</table>\n",
       "</div>"
      ],
      "text/plain": [
       "        Accuracy  Mean accuracy  Precision  Sensitivity (Recall)  Specificity\n",
       "Method                                                                       \n",
       "LDA      0.87500        0.90890    0.88554               0.97351      0.42424\n",
       "SVM      0.82065        0.86685    0.82065               1.00000      0.00000\n",
       "RF       0.87500        0.91440    0.87647               0.98675      0.36364"
      ]
     },
     "execution_count": 200,
     "metadata": {},
     "output_type": "execute_result"
    }
   ],
   "source": [
    "result_3.set_index([\"Method\"], inplace=True)\n",
    "result_3"
   ]
  },
  {
   "cell_type": "markdown",
   "metadata": {},
   "source": [
    "The 4th test"
   ]
  },
  {
   "cell_type": "code",
   "execution_count": 201,
   "metadata": {},
   "outputs": [],
   "source": [
    "X4_train_, X4_test_, y4_train_, y4_test_ = data_preparation_scheme(s_num=4,random_seed=15)\n",
    "\n",
    "result_4, lda_model_4, lda_pred_val_4, svm_model_4, svm_pred_val_4, rf_model_4, rf_pred_val_4 = \\\n",
    "                                                train_models(X4_train_, X4_test_, y4_train_,y4_test_)"
   ]
  },
  {
   "cell_type": "code",
   "execution_count": 202,
   "metadata": {},
   "outputs": [
    {
     "data": {
      "text/html": [
       "<div>\n",
       "<style scoped>\n",
       "    .dataframe tbody tr th:only-of-type {\n",
       "        vertical-align: middle;\n",
       "    }\n",
       "\n",
       "    .dataframe tbody tr th {\n",
       "        vertical-align: top;\n",
       "    }\n",
       "\n",
       "    .dataframe thead th {\n",
       "        text-align: right;\n",
       "    }\n",
       "</style>\n",
       "<table border=\"1\" class=\"dataframe\">\n",
       "  <thead>\n",
       "    <tr style=\"text-align: right;\">\n",
       "      <th></th>\n",
       "      <th>Accuracy</th>\n",
       "      <th>Mean accuracy</th>\n",
       "      <th>Precision</th>\n",
       "      <th>Sensitivity (Recall)</th>\n",
       "      <th>Specificity</th>\n",
       "    </tr>\n",
       "    <tr>\n",
       "      <th>Method</th>\n",
       "      <th></th>\n",
       "      <th></th>\n",
       "      <th></th>\n",
       "      <th></th>\n",
       "      <th></th>\n",
       "    </tr>\n",
       "  </thead>\n",
       "  <tbody>\n",
       "    <tr>\n",
       "      <th>LDA</th>\n",
       "      <td>0.90761</td>\n",
       "      <td>0.90213</td>\n",
       "      <td>0.93491</td>\n",
       "      <td>0.96341</td>\n",
       "      <td>0.45</td>\n",
       "    </tr>\n",
       "    <tr>\n",
       "      <th>SVM</th>\n",
       "      <td>0.89130</td>\n",
       "      <td>0.84918</td>\n",
       "      <td>0.89130</td>\n",
       "      <td>1.00000</td>\n",
       "      <td>0.00</td>\n",
       "    </tr>\n",
       "    <tr>\n",
       "      <th>RF</th>\n",
       "      <td>0.91848</td>\n",
       "      <td>0.90217</td>\n",
       "      <td>0.93567</td>\n",
       "      <td>0.97561</td>\n",
       "      <td>0.45</td>\n",
       "    </tr>\n",
       "  </tbody>\n",
       "</table>\n",
       "</div>"
      ],
      "text/plain": [
       "        Accuracy  Mean accuracy  Precision  Sensitivity (Recall)  Specificity\n",
       "Method                                                                       \n",
       "LDA      0.90761        0.90213    0.93491               0.96341         0.45\n",
       "SVM      0.89130        0.84918    0.89130               1.00000         0.00\n",
       "RF       0.91848        0.90217    0.93567               0.97561         0.45"
      ]
     },
     "execution_count": 202,
     "metadata": {},
     "output_type": "execute_result"
    }
   ],
   "source": [
    "result_4.set_index([\"Method\"], inplace=True)\n",
    "result_4"
   ]
  },
  {
   "cell_type": "markdown",
   "metadata": {},
   "source": [
    "The 5th test"
   ]
  },
  {
   "cell_type": "code",
   "execution_count": 203,
   "metadata": {},
   "outputs": [],
   "source": [
    "X5_train_, X5_test_, y5_train_, y5_test_ = data_preparation_scheme(s_num=4,random_seed=20)\n",
    "\n",
    "result_5, lda_model_5, lda_pred_val_5, svm_model_5, svm_pred_val_5, rf_model_5, rf_pred_val_5 = \\\n",
    "                                                train_models(X5_train_, X5_test_, y5_train_,y5_test_)"
   ]
  },
  {
   "cell_type": "code",
   "execution_count": 204,
   "metadata": {},
   "outputs": [
    {
     "data": {
      "text/html": [
       "<div>\n",
       "<style scoped>\n",
       "    .dataframe tbody tr th:only-of-type {\n",
       "        vertical-align: middle;\n",
       "    }\n",
       "\n",
       "    .dataframe tbody tr th {\n",
       "        vertical-align: top;\n",
       "    }\n",
       "\n",
       "    .dataframe thead th {\n",
       "        text-align: right;\n",
       "    }\n",
       "</style>\n",
       "<table border=\"1\" class=\"dataframe\">\n",
       "  <thead>\n",
       "    <tr style=\"text-align: right;\">\n",
       "      <th></th>\n",
       "      <th>Accuracy</th>\n",
       "      <th>Mean accuracy</th>\n",
       "      <th>Precision</th>\n",
       "      <th>Sensitivity (Recall)</th>\n",
       "      <th>Specificity</th>\n",
       "    </tr>\n",
       "    <tr>\n",
       "      <th>Method</th>\n",
       "      <th></th>\n",
       "      <th></th>\n",
       "      <th></th>\n",
       "      <th></th>\n",
       "      <th></th>\n",
       "    </tr>\n",
       "  </thead>\n",
       "  <tbody>\n",
       "    <tr>\n",
       "      <th>LDA</th>\n",
       "      <td>0.90217</td>\n",
       "      <td>0.89804</td>\n",
       "      <td>0.92727</td>\n",
       "      <td>0.96226</td>\n",
       "      <td>0.52</td>\n",
       "    </tr>\n",
       "    <tr>\n",
       "      <th>SVM</th>\n",
       "      <td>0.86413</td>\n",
       "      <td>0.85598</td>\n",
       "      <td>0.86413</td>\n",
       "      <td>1.00000</td>\n",
       "      <td>0.00</td>\n",
       "    </tr>\n",
       "    <tr>\n",
       "      <th>RF</th>\n",
       "      <td>0.89130</td>\n",
       "      <td>0.91304</td>\n",
       "      <td>0.91617</td>\n",
       "      <td>0.96226</td>\n",
       "      <td>0.44</td>\n",
       "    </tr>\n",
       "  </tbody>\n",
       "</table>\n",
       "</div>"
      ],
      "text/plain": [
       "        Accuracy  Mean accuracy  Precision  Sensitivity (Recall)  Specificity\n",
       "Method                                                                       \n",
       "LDA      0.90217        0.89804    0.92727               0.96226         0.52\n",
       "SVM      0.86413        0.85598    0.86413               1.00000         0.00\n",
       "RF       0.89130        0.91304    0.91617               0.96226         0.44"
      ]
     },
     "execution_count": 204,
     "metadata": {},
     "output_type": "execute_result"
    }
   ],
   "source": [
    "result_5.set_index([\"Method\"], inplace=True)\n",
    "result_5"
   ]
  },
  {
   "cell_type": "markdown",
   "metadata": {},
   "source": [
    "### ROC curves "
   ]
  },
  {
   "cell_type": "code",
   "execution_count": 271,
   "metadata": {},
   "outputs": [
    {
     "data": {
      "text/plain": [
       "0.8531701890989989"
      ]
     },
     "execution_count": 271,
     "metadata": {},
     "output_type": "execute_result"
    }
   ],
   "source": [
    "rf_pred_prob = rf_model_2.predict_proba(X2_test_)[:,1]\n",
    "fpr_rf, tpr_rf, thresholds_rf = roc_curve(y2_test_, rf_pred_prob)\n",
    "auc_rf = roc_auc_score(y2_test_,rf_pred_prob)\n",
    "auc_rf"
   ]
  },
  {
   "cell_type": "code",
   "execution_count": 300,
   "metadata": {},
   "outputs": [
    {
     "data": {
      "text/plain": [
       "0.8935439560439561"
      ]
     },
     "execution_count": 300,
     "metadata": {},
     "output_type": "execute_result"
    }
   ],
   "source": [
    "rf_pred_prob = rf_model.predict_proba(X_test_)[:,1]\n",
    "fpr_rf, tpr_rf, thresholds_rf = roc_curve(y_test_, rf_pred_prob)\n",
    "auc_rf = roc_auc_score(y_test_,rf_pred_prob)\n",
    "auc_rf"
   ]
  },
  {
   "cell_type": "code",
   "execution_count": 272,
   "metadata": {},
   "outputs": [
    {
     "data": {
      "text/plain": [
       "0.8681517158338351"
      ]
     },
     "execution_count": 272,
     "metadata": {},
     "output_type": "execute_result"
    }
   ],
   "source": [
    "rf_pred_prob = rf_model_3.predict_proba(X3_test_)[:,1]\n",
    "fpr_rf, tpr_rf, thresholds_rf = roc_curve(y3_test_, rf_pred_prob)\n",
    "auc_rf = roc_auc_score(y3_test_,rf_pred_prob)\n",
    "auc_rf"
   ]
  },
  {
   "cell_type": "code",
   "execution_count": 273,
   "metadata": {},
   "outputs": [
    {
     "data": {
      "text/plain": [
       "0.8978658536585367"
      ]
     },
     "execution_count": 273,
     "metadata": {},
     "output_type": "execute_result"
    }
   ],
   "source": [
    "rf_pred_prob = rf_model_4.predict_proba(X4_test_)[:,1]\n",
    "fpr_rf, tpr_rf, thresholds_rf = roc_curve(y4_test_, rf_pred_prob)\n",
    "auc_rf = roc_auc_score(y4_test_,rf_pred_prob)\n",
    "auc_rf"
   ]
  },
  {
   "cell_type": "code",
   "execution_count": 274,
   "metadata": {},
   "outputs": [
    {
     "data": {
      "text/plain": [
       "0.8847798742138365"
      ]
     },
     "execution_count": 274,
     "metadata": {},
     "output_type": "execute_result"
    }
   ],
   "source": [
    "rf_pred_prob = rf_model_5.predict_proba(X5_test_)[:,1]\n",
    "fpr_rf, tpr_rf, thresholds_rf = roc_curve(y5_test_, rf_pred_prob)\n",
    "auc_rf = roc_auc_score(y5_test_,rf_pred_prob)\n",
    "auc_rf"
   ]
  },
  {
   "cell_type": "code",
   "execution_count": 154,
   "metadata": {},
   "outputs": [
    {
     "data": {
      "text/plain": [
       "(32,)"
      ]
     },
     "execution_count": 154,
     "metadata": {},
     "output_type": "execute_result"
    }
   ],
   "source": [
    "fpr_rf.shape"
   ]
  },
  {
   "cell_type": "code",
   "execution_count": 144,
   "metadata": {},
   "outputs": [
    {
     "data": {
      "text/plain": [
       "0.8630952380952381"
      ]
     },
     "execution_count": 144,
     "metadata": {},
     "output_type": "execute_result"
    }
   ],
   "source": [
    "svm_pred_prob = svm_model.predict_proba(X_test_)[:,1]\n",
    "fpr_svm, tpr_svm, thresholds_svm = roc_curve(y_test_, svm_pred_prob)\n",
    "auc_svm = roc_auc_score(y_test_,svm_pred_prob)\n",
    "auc_svm"
   ]
  },
  {
   "cell_type": "code",
   "execution_count": 275,
   "metadata": {},
   "outputs": [
    {
     "data": {
      "text/plain": [
       "0.8382647385984426"
      ]
     },
     "execution_count": 275,
     "metadata": {},
     "output_type": "execute_result"
    }
   ],
   "source": [
    "svm_pred_prob = svm_model_2.predict_proba(X2_test_)[:,1]\n",
    "fpr_svm, tpr_svm, thresholds_svm = roc_curve(y2_test_, svm_pred_prob)\n",
    "auc_svm = roc_auc_score(y2_test_,svm_pred_prob)\n",
    "auc_svm"
   ]
  },
  {
   "cell_type": "code",
   "execution_count": 276,
   "metadata": {},
   "outputs": [
    {
     "data": {
      "text/plain": [
       "0.839855508729681"
      ]
     },
     "execution_count": 276,
     "metadata": {},
     "output_type": "execute_result"
    }
   ],
   "source": [
    "svm_pred_prob = svm_model_3.predict_proba(X3_test_)[:,1]\n",
    "fpr_svm, tpr_svm, thresholds_svm = roc_curve(y3_test_, svm_pred_prob)\n",
    "auc_svm = roc_auc_score(y3_test_,svm_pred_prob)\n",
    "auc_svm"
   ]
  },
  {
   "cell_type": "code",
   "execution_count": 277,
   "metadata": {},
   "outputs": [
    {
     "data": {
      "text/plain": [
       "0.8765243902439024"
      ]
     },
     "execution_count": 277,
     "metadata": {},
     "output_type": "execute_result"
    }
   ],
   "source": [
    "svm_pred_prob = svm_model_4.predict_proba(X4_test_)[:,1]\n",
    "fpr_svm, tpr_svm, thresholds_svm = roc_curve(y4_test_, svm_pred_prob)\n",
    "auc_svm = roc_auc_score(y4_test_,svm_pred_prob)\n",
    "auc_svm"
   ]
  },
  {
   "cell_type": "code",
   "execution_count": 278,
   "metadata": {},
   "outputs": [
    {
     "data": {
      "text/plain": [
       "0.8757232704402516"
      ]
     },
     "execution_count": 278,
     "metadata": {},
     "output_type": "execute_result"
    }
   ],
   "source": [
    "svm_pred_prob = svm_model_5.predict_proba(X5_test_)[:,1]\n",
    "fpr_svm, tpr_svm, thresholds_svm = roc_curve(y5_test_, svm_pred_prob)\n",
    "auc_svm = roc_auc_score(y5_test_,svm_pred_prob)\n",
    "auc_svm"
   ]
  },
  {
   "cell_type": "code",
   "execution_count": 145,
   "metadata": {},
   "outputs": [
    {
     "data": {
      "text/plain": [
       "0.8683608058608058"
      ]
     },
     "execution_count": 145,
     "metadata": {},
     "output_type": "execute_result"
    }
   ],
   "source": [
    "lda_pred_prob = lda_model.predict_proba(X_test_)[:,1]\n",
    "fpr_lda, tpr_lda, thresholds_lda = roc_curve(y_test_, lda_pred_prob)\n",
    "auc_lda = roc_auc_score(y_test_,lda_pred_prob)\n",
    "auc_lda"
   ]
  },
  {
   "cell_type": "code",
   "execution_count": 279,
   "metadata": {},
   "outputs": [
    {
     "data": {
      "text/plain": [
       "0.8687430478309233"
      ]
     },
     "execution_count": 279,
     "metadata": {},
     "output_type": "execute_result"
    }
   ],
   "source": [
    "lda_pred_prob = lda_model_2.predict_proba(X2_test_)[:,1]\n",
    "fpr_lda, tpr_lda, thresholds_lda = roc_curve(y2_test_, lda_pred_prob)\n",
    "auc_lda = roc_auc_score(y2_test_,lda_pred_prob)\n",
    "auc_lda"
   ]
  },
  {
   "cell_type": "code",
   "execution_count": 280,
   "metadata": {},
   "outputs": [
    {
     "data": {
      "text/plain": [
       "0.8360425446518162"
      ]
     },
     "execution_count": 280,
     "metadata": {},
     "output_type": "execute_result"
    }
   ],
   "source": [
    "lda_pred_prob = lda_model_3.predict_proba(X3_test_)[:,1]\n",
    "fpr_lda, tpr_lda, thresholds_lda = roc_curve(y3_test_, lda_pred_prob)\n",
    "auc_lda = roc_auc_score(y3_test_,lda_pred_prob)\n",
    "auc_lda"
   ]
  },
  {
   "cell_type": "code",
   "execution_count": 281,
   "metadata": {},
   "outputs": [
    {
     "data": {
      "text/plain": [
       "0.8734756097560976"
      ]
     },
     "execution_count": 281,
     "metadata": {},
     "output_type": "execute_result"
    }
   ],
   "source": [
    "lda_pred_prob = lda_model_4.predict_proba(X4_test_)[:,1]\n",
    "fpr_lda, tpr_lda, thresholds_lda = roc_curve(y4_test_, lda_pred_prob)\n",
    "auc_lda = roc_auc_score(y4_test_,lda_pred_prob)\n",
    "auc_lda"
   ]
  },
  {
   "cell_type": "code",
   "execution_count": 282,
   "metadata": {},
   "outputs": [
    {
     "data": {
      "text/plain": [
       "0.8676729559748428"
      ]
     },
     "execution_count": 282,
     "metadata": {},
     "output_type": "execute_result"
    }
   ],
   "source": [
    "lda_pred_prob = lda_model_5.predict_proba(X5_test_)[:,1]\n",
    "fpr_lda, tpr_lda, thresholds_lda = roc_curve(y5_test_, lda_pred_prob)\n",
    "auc_lda = roc_auc_score(y5_test_,lda_pred_prob)\n",
    "auc_lda"
   ]
  },
  {
   "cell_type": "code",
   "execution_count": 301,
   "metadata": {},
   "outputs": [
    {
     "data": {
      "image/png": "[encoded data removed]",
      "text/plain": [
       "<Figure size 432x288 with 1 Axes>"
      ]
     },
     "metadata": {},
     "output_type": "display_data"
    }
   ],
   "source": [
    "plt.figure()\n",
    "plt.plot(fpr_rf,tpr_rf,'deepskyblue',label='ROC curve of RF',linewidth=3)\n",
    "plt.plot(fpr_svm,tpr_svm,'darkorange',label='ROC curve of SVM',linewidth=3,linestyle=':')\n",
    "plt.plot(fpr_lda,tpr_lda,'crimson',label='ROC curve of LDA',linewidth=3,linestyle='--')\n",
    "\n",
    "plt.xlim([0.0,1.0])\n",
    "plt.ylim([0.0,1.05])\n",
    "plt.xlabel('False Positive Rate',**axis_font)\n",
    "plt.ylabel('True Position Rate',**axis_font)\n",
    "plt.legend(loc='lower right',fontsize=12)\n",
    "plt.savefig('ROC_without_sampling',dpi=1200)\n",
    "plt.show()"
   ]
  },
  {
   "cell_type": "code",
   "execution_count": null,
   "metadata": {},
   "outputs": [],
   "source": []
  }
 ],
 "metadata": {
  "kernelspec": {
   "display_name": "Python 3",
   "language": "python",
   "name": "python3"
  },
  "language_info": {
   "codemirror_mode": {
    "name": "ipython",
    "version": 3
   },
   "file_extension": ".py",
   "mimetype": "text/x-python",
   "name": "python",
   "nbconvert_exporter": "python",
   "pygments_lexer": "ipython3",
   "version": "3.7.6"
  },
  "toc": {
   "base_numbering": 1.0,
   "nav_menu": {},
   "number_sections": true,
   "sideBar": true,
   "skip_h1_title": false,
   "title_cell": "Table of Contents",
   "title_sidebar": "Contents",
   "toc_cell": false,
   "toc_position": {},
   "toc_section_display": true,
   "toc_window_display": false
  }
 },
 "nbformat": 4,
 "nbformat_minor": 2
}
